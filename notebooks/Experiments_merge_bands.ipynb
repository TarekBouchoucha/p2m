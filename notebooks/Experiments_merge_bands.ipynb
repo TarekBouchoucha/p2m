{
 "cells": [
  {
   "cell_type": "code",
   "execution_count": 1,
   "metadata": {},
   "outputs": [],
   "source": [
    "import os\n",
    "import rasterio\n",
    "import glob\n",
    "from tqdm import tqdm\n",
    "from docopt import docopt\n",
    "from datetime import datetime"
   ]
  },
  {
   "cell_type": "code",
   "execution_count": 2,
   "metadata": {},
   "outputs": [],
   "source": [
    "SELECTED_BANDS = ['B8A', 'B11', 'B12']"
   ]
  },
  {
   "cell_type": "code",
   "execution_count": 3,
   "metadata": {},
   "outputs": [],
   "source": [
    "mgrs='31/T/GJ'"
   ]
  },
  {
   "cell_type": "code",
   "execution_count": 4,
   "metadata": {},
   "outputs": [],
   "source": [
    "path_to_scene = os.path.join('/data/raw_data/s2_aws/tiles',mgrs)"
   ]
  },
  {
   "cell_type": "code",
   "execution_count": 5,
   "metadata": {},
   "outputs": [],
   "source": [
    "list_of_paths ={}\n"
   ]
  },
  {
   "cell_type": "code",
   "execution_count": 6,
   "metadata": {},
   "outputs": [],
   "source": [
    "for n in range (0,len(SELECTED_BANDS)):\n",
    "    list_of_paths[n] = glob.glob(path_to_scene+'/*/*/*/*/'+SELECTED_BANDS[n]+'_sur.tif')\n",
    "    \n"
   ]
  },
  {
   "cell_type": "code",
   "execution_count": 7,
   "metadata": {},
   "outputs": [
    {
     "data": {
      "text/plain": [
       "{0: ['/data/raw_data/s2_aws/tiles/31/T/GJ/2017/7/24/0/B8A_sur.tif',\n",
       "  '/data/raw_data/s2_aws/tiles/31/T/GJ/2017/7/22/0/B8A_sur.tif',\n",
       "  '/data/raw_data/s2_aws/tiles/31/T/GJ/2017/7/26/0/B8A_sur.tif',\n",
       "  '/data/raw_data/s2_aws/tiles/31/T/GJ/2017/6/16/0/B8A_sur.tif',\n",
       "  '/data/raw_data/s2_aws/tiles/31/T/GJ/2017/6/12/0/B8A_sur.tif',\n",
       "  '/data/raw_data/s2_aws/tiles/31/T/GJ/2017/6/19/0/B8A_sur.tif',\n",
       "  '/data/raw_data/s2_aws/tiles/31/T/GJ/2017/9/4/0/B8A_sur.tif',\n",
       "  '/data/raw_data/s2_aws/tiles/31/T/GJ/2017/9/5/0/B8A_sur.tif',\n",
       "  '/data/raw_data/s2_aws/tiles/31/T/GJ/2017/9/7/0/B8A_sur.tif',\n",
       "  '/data/raw_data/s2_aws/tiles/31/T/GJ/2017/10/9/0/B8A_sur.tif',\n",
       "  '/data/raw_data/s2_aws/tiles/31/T/GJ/2017/10/7/0/B8A_sur.tif',\n",
       "  '/data/raw_data/s2_aws/tiles/31/T/GJ/2017/10/10/0/B8A_sur.tif',\n",
       "  '/data/raw_data/s2_aws/tiles/31/T/GJ/2015/7/30/0/B8A_sur.tif',\n",
       "  '/data/raw_data/s2_aws/tiles/31/T/GJ/2015/8/6/0/B8A_sur.tif',\n",
       "  '/data/raw_data/s2_aws/tiles/31/T/GJ/2015/8/12/0/B8A_sur.tif',\n",
       "  '/data/raw_data/s2_aws/tiles/31/T/GJ/2016/7/17/0/B8A_sur.tif',\n",
       "  '/data/raw_data/s2_aws/tiles/31/T/GJ/2016/7/21/0/B8A_sur.tif',\n",
       "  '/data/raw_data/s2_aws/tiles/31/T/GJ/2016/7/14/0/B8A_sur.tif',\n",
       "  '/data/raw_data/s2_aws/tiles/31/T/GJ/2016/7/11/0/B8A_sur.tif'],\n",
       " 1: ['/data/raw_data/s2_aws/tiles/31/T/GJ/2017/7/24/0/B11_sur.tif',\n",
       "  '/data/raw_data/s2_aws/tiles/31/T/GJ/2017/7/22/0/B11_sur.tif',\n",
       "  '/data/raw_data/s2_aws/tiles/31/T/GJ/2017/7/26/0/B11_sur.tif',\n",
       "  '/data/raw_data/s2_aws/tiles/31/T/GJ/2017/6/16/0/B11_sur.tif',\n",
       "  '/data/raw_data/s2_aws/tiles/31/T/GJ/2017/6/12/0/B11_sur.tif',\n",
       "  '/data/raw_data/s2_aws/tiles/31/T/GJ/2017/6/19/0/B11_sur.tif',\n",
       "  '/data/raw_data/s2_aws/tiles/31/T/GJ/2017/9/4/0/B11_sur.tif',\n",
       "  '/data/raw_data/s2_aws/tiles/31/T/GJ/2017/9/5/0/B11_sur.tif',\n",
       "  '/data/raw_data/s2_aws/tiles/31/T/GJ/2017/9/7/0/B11_sur.tif',\n",
       "  '/data/raw_data/s2_aws/tiles/31/T/GJ/2017/10/9/0/B11_sur.tif',\n",
       "  '/data/raw_data/s2_aws/tiles/31/T/GJ/2017/10/7/0/B11_sur.tif',\n",
       "  '/data/raw_data/s2_aws/tiles/31/T/GJ/2017/10/10/0/B11_sur.tif',\n",
       "  '/data/raw_data/s2_aws/tiles/31/T/GJ/2015/7/30/0/B11_sur.tif',\n",
       "  '/data/raw_data/s2_aws/tiles/31/T/GJ/2015/8/6/0/B11_sur.tif',\n",
       "  '/data/raw_data/s2_aws/tiles/31/T/GJ/2015/8/12/0/B11_sur.tif',\n",
       "  '/data/raw_data/s2_aws/tiles/31/T/GJ/2016/7/17/0/B11_sur.tif',\n",
       "  '/data/raw_data/s2_aws/tiles/31/T/GJ/2016/7/21/0/B11_sur.tif',\n",
       "  '/data/raw_data/s2_aws/tiles/31/T/GJ/2016/7/14/0/B11_sur.tif',\n",
       "  '/data/raw_data/s2_aws/tiles/31/T/GJ/2016/7/11/0/B11_sur.tif'],\n",
       " 2: ['/data/raw_data/s2_aws/tiles/31/T/GJ/2017/7/24/0/B12_sur.tif',\n",
       "  '/data/raw_data/s2_aws/tiles/31/T/GJ/2017/7/22/0/B12_sur.tif',\n",
       "  '/data/raw_data/s2_aws/tiles/31/T/GJ/2017/7/26/0/B12_sur.tif',\n",
       "  '/data/raw_data/s2_aws/tiles/31/T/GJ/2017/6/16/0/B12_sur.tif',\n",
       "  '/data/raw_data/s2_aws/tiles/31/T/GJ/2017/6/12/0/B12_sur.tif',\n",
       "  '/data/raw_data/s2_aws/tiles/31/T/GJ/2017/6/19/0/B12_sur.tif',\n",
       "  '/data/raw_data/s2_aws/tiles/31/T/GJ/2017/9/4/0/B12_sur.tif',\n",
       "  '/data/raw_data/s2_aws/tiles/31/T/GJ/2017/9/5/0/B12_sur.tif',\n",
       "  '/data/raw_data/s2_aws/tiles/31/T/GJ/2017/9/7/0/B12_sur.tif',\n",
       "  '/data/raw_data/s2_aws/tiles/31/T/GJ/2017/10/9/0/B12_sur.tif',\n",
       "  '/data/raw_data/s2_aws/tiles/31/T/GJ/2017/10/7/0/B12_sur.tif',\n",
       "  '/data/raw_data/s2_aws/tiles/31/T/GJ/2017/10/10/0/B12_sur.tif',\n",
       "  '/data/raw_data/s2_aws/tiles/31/T/GJ/2015/7/30/0/B12_sur.tif',\n",
       "  '/data/raw_data/s2_aws/tiles/31/T/GJ/2015/8/6/0/B12_sur.tif',\n",
       "  '/data/raw_data/s2_aws/tiles/31/T/GJ/2015/8/12/0/B12_sur.tif',\n",
       "  '/data/raw_data/s2_aws/tiles/31/T/GJ/2016/7/17/0/B12_sur.tif',\n",
       "  '/data/raw_data/s2_aws/tiles/31/T/GJ/2016/7/21/0/B12_sur.tif',\n",
       "  '/data/raw_data/s2_aws/tiles/31/T/GJ/2016/7/14/0/B12_sur.tif',\n",
       "  '/data/raw_data/s2_aws/tiles/31/T/GJ/2016/7/11/0/B12_sur.tif']}"
      ]
     },
     "execution_count": 7,
     "metadata": {},
     "output_type": "execute_result"
    }
   ],
   "source": [
    "list_of_paths"
   ]
  },
  {
   "cell_type": "code",
   "execution_count": 8,
   "metadata": {},
   "outputs": [],
   "source": [
    "date ={}\n",
    "date_datetime={}\n",
    "for i in range (0,len(list_of_paths[0])):\n",
    "    date_index=list_of_paths[0][i].index('201')\n",
    "    date_end_index=list_of_paths[0][i].index(\"/0\")\n",
    "    date[i]=list_of_paths[0][i][date_index:date_end_index]\n",
    "    #date_datetime[i] = datetime.strptime[date[i], '%Y/%m/%d']"
   ]
  },
  {
   "cell_type": "code",
   "execution_count": 9,
   "metadata": {},
   "outputs": [
    {
     "data": {
      "text/plain": [
       "{0: '2017/7/24',\n",
       " 1: '2017/7/22',\n",
       " 2: '2017/7/26',\n",
       " 3: '2017/6/16',\n",
       " 4: '2017/6/12',\n",
       " 5: '2017/6/19',\n",
       " 6: '2017/9/4',\n",
       " 7: '2017/9/5',\n",
       " 8: '2017/9/7',\n",
       " 9: '2017/10/9',\n",
       " 10: '2017/10/7',\n",
       " 11: '2017/10/10',\n",
       " 12: '2015/7/30',\n",
       " 13: '2015/8/6',\n",
       " 14: '2015/8/12',\n",
       " 15: '2016/7/17',\n",
       " 16: '2016/7/21',\n",
       " 17: '2016/7/14',\n",
       " 18: '2016/7/11'}"
      ]
     },
     "execution_count": 9,
     "metadata": {},
     "output_type": "execute_result"
    }
   ],
   "source": [
    "date"
   ]
  },
  {
   "cell_type": "code",
   "execution_count": 10,
   "metadata": {},
   "outputs": [],
   "source": [
    "with rasterio.open(list_of_paths[0][0]) as src0:\n",
    "    meta_source = src0.meta"
   ]
  },
  {
   "cell_type": "code",
   "execution_count": 11,
   "metadata": {},
   "outputs": [
    {
     "data": {
      "text/plain": [
       "{'driver': 'GTiff',\n",
       " 'dtype': 'int16',\n",
       " 'nodata': -9999.0,\n",
       " 'width': 5490,\n",
       " 'height': 5490,\n",
       " 'count': 1,\n",
       " 'crs': CRS.from_epsg(32631),\n",
       " 'transform': Affine(20.0, 0.0, 699960.0,\n",
       "        0.0, -20.0, 4900020.0)}"
      ]
     },
     "execution_count": 11,
     "metadata": {},
     "output_type": "execute_result"
    }
   ],
   "source": [
    "meta_source"
   ]
  },
  {
   "cell_type": "code",
   "execution_count": 12,
   "metadata": {},
   "outputs": [],
   "source": [
    "meta_source.update(count=len(list_of_paths[0]))"
   ]
  },
  {
   "cell_type": "code",
   "execution_count": 13,
   "metadata": {},
   "outputs": [
    {
     "data": {
      "text/plain": [
       "{'driver': 'GTiff',\n",
       " 'dtype': 'int16',\n",
       " 'nodata': -9999.0,\n",
       " 'width': 5490,\n",
       " 'height': 5490,\n",
       " 'count': 19,\n",
       " 'crs': CRS.from_epsg(32631),\n",
       " 'transform': Affine(20.0, 0.0, 699960.0,\n",
       "        0.0, -20.0, 4900020.0)}"
      ]
     },
     "execution_count": 13,
     "metadata": {},
     "output_type": "execute_result"
    }
   ],
   "source": [
    "meta_source"
   ]
  },
  {
   "cell_type": "code",
   "execution_count": 14,
   "metadata": {},
   "outputs": [],
   "source": [
    "date_datetime = datetime.strptime(date[0], '%Y/%m/%d')"
   ]
  },
  {
   "cell_type": "code",
   "execution_count": 17,
   "metadata": {},
   "outputs": [],
   "source": [
    "date_string=date_datetime.strftime('%Y_%m_%d')"
   ]
  },
  {
   "cell_type": "code",
   "execution_count": 18,
   "metadata": {},
   "outputs": [
    {
     "data": {
      "text/plain": [
       "'2017_07_24'"
      ]
     },
     "execution_count": 18,
     "metadata": {},
     "output_type": "execute_result"
    }
   ],
   "source": [
    "date_string"
   ]
  },
  {
   "cell_type": "code",
   "execution_count": 19,
   "metadata": {},
   "outputs": [
    {
     "data": {
      "text/plain": [
       "<function rasterio.open(fp, mode='r', driver=None, width=None, height=None, count=None, crs=None, transform=None, dtype=None, nodata=None, sharing=False, **kwargs)>"
      ]
     },
     "execution_count": 19,
     "metadata": {},
     "output_type": "execute_result"
    }
   ],
   "source": [
    "rasterio.open"
   ]
  },
  {
   "cell_type": "code",
   "execution_count": 20,
   "metadata": {},
   "outputs": [
    {
     "data": {
      "text/plain": [
       "'/data/raw_data/s2_aws/tiles/31/T/GJ/2017/7/24/0/B8A_sur.tif'"
      ]
     },
     "execution_count": 20,
     "metadata": {},
     "output_type": "execute_result"
    }
   ],
   "source": [
    "list_of_paths[0][0]"
   ]
  },
  {
   "cell_type": "code",
   "execution_count": 65,
   "metadata": {},
   "outputs": [],
   "source": [
    "os.makedirs(os.path.join('/data/temporary/robert/ds-wildfire/data/scenes', '31/T/GJ'), exist_ok=True)\n",
    "path_target = os.path.join('/data/temporary/robert/ds-wildfire/data/scenes', '31/T/GJ', date_string +'.jp2')"
   ]
  },
  {
   "cell_type": "code",
   "execution_count": 66,
   "metadata": {},
   "outputs": [],
   "source": [
    "with rasterio.open(path_target, 'w', **meta_source) as dst:\n",
    "     with rasterio.open(list_of_paths[0][0]) as src1:\n",
    "                    dst.write_band(1, src1.read(1))"
   ]
  },
  {
   "cell_type": "code",
   "execution_count": 67,
   "metadata": {},
   "outputs": [
    {
     "ename": "RasterioIOError",
     "evalue": "Attempt to create new tiff file '/' failed: Is a directory",
     "output_type": "error",
     "traceback": [
      "\u001b[0;31m---------------------------------------------------------------------------\u001b[0m",
      "\u001b[0;31mCPLE_OpenFailedError\u001b[0m                      Traceback (most recent call last)",
      "\u001b[0;32mrasterio/_io.pyx\u001b[0m in \u001b[0;36mrasterio._io.DatasetWriterBase.__init__\u001b[0;34m()\u001b[0m\n",
      "\u001b[0;32mrasterio/_err.pyx\u001b[0m in \u001b[0;36mrasterio._err.exc_wrap_pointer\u001b[0;34m()\u001b[0m\n",
      "\u001b[0;31mCPLE_OpenFailedError\u001b[0m: Attempt to create new tiff file '/' failed: Is a directory",
      "\nDuring handling of the above exception, another exception occurred:\n",
      "\u001b[0;31mRasterioIOError\u001b[0m                           Traceback (most recent call last)",
      "\u001b[0;32m<ipython-input-67-ae96a4ad14b5>\u001b[0m in \u001b[0;36m<module>\u001b[0;34m\u001b[0m\n\u001b[1;32m      2\u001b[0m         \u001b[0;32mfor\u001b[0m \u001b[0my\u001b[0m \u001b[0;32min\u001b[0m \u001b[0mrange\u001b[0m \u001b[0;34m(\u001b[0m\u001b[0;36m0\u001b[0m\u001b[0;34m,\u001b[0m\u001b[0mlen\u001b[0m\u001b[0;34m(\u001b[0m\u001b[0mlist_of_paths\u001b[0m\u001b[0;34m[\u001b[0m\u001b[0;36m0\u001b[0m\u001b[0;34m]\u001b[0m\u001b[0;34m)\u001b[0m\u001b[0;34m)\u001b[0m\u001b[0;34m:\u001b[0m\u001b[0;34m\u001b[0m\u001b[0;34m\u001b[0m\u001b[0m\n\u001b[1;32m      3\u001b[0m             \u001b[0;31m#write SELECTED_BANDS into the target files\u001b[0m\u001b[0;34m\u001b[0m\u001b[0;34m\u001b[0m\u001b[0;34m\u001b[0m\u001b[0m\n\u001b[0;32m----> 4\u001b[0;31m             \u001b[0;32mwith\u001b[0m \u001b[0mrasterio\u001b[0m\u001b[0;34m.\u001b[0m\u001b[0mopen\u001b[0m\u001b[0;34m(\u001b[0m\u001b[0mpath_target\u001b[0m\u001b[0;34m[\u001b[0m\u001b[0my\u001b[0m\u001b[0;34m]\u001b[0m\u001b[0;34m,\u001b[0m \u001b[0;34m'w'\u001b[0m\u001b[0;34m,\u001b[0m \u001b[0;34m**\u001b[0m\u001b[0mmeta_source\u001b[0m\u001b[0;34m)\u001b[0m \u001b[0;32mas\u001b[0m \u001b[0mdst\u001b[0m\u001b[0;34m:\u001b[0m\u001b[0;34m\u001b[0m\u001b[0;34m\u001b[0m\u001b[0m\n\u001b[0m\u001b[1;32m      5\u001b[0m                 \u001b[0;32mwith\u001b[0m \u001b[0mrasterio\u001b[0m\u001b[0;34m.\u001b[0m\u001b[0mopen\u001b[0m\u001b[0;34m(\u001b[0m\u001b[0mlist_of_paths\u001b[0m\u001b[0;34m[\u001b[0m\u001b[0mx\u001b[0m\u001b[0;34m]\u001b[0m\u001b[0;34m[\u001b[0m\u001b[0my\u001b[0m\u001b[0;34m]\u001b[0m\u001b[0;34m)\u001b[0m \u001b[0;32mas\u001b[0m \u001b[0msrc1\u001b[0m\u001b[0;34m:\u001b[0m\u001b[0;34m\u001b[0m\u001b[0;34m\u001b[0m\u001b[0m\n\u001b[1;32m      6\u001b[0m                     \u001b[0mdst\u001b[0m\u001b[0;34m.\u001b[0m\u001b[0mwrite_band\u001b[0m\u001b[0;34m(\u001b[0m\u001b[0;34m(\u001b[0m\u001b[0mx\u001b[0m\u001b[0;34m+\u001b[0m\u001b[0;36m1\u001b[0m\u001b[0;34m)\u001b[0m\u001b[0;34m,\u001b[0m \u001b[0msrc1\u001b[0m\u001b[0;34m.\u001b[0m\u001b[0mread\u001b[0m\u001b[0;34m(\u001b[0m\u001b[0;36m1\u001b[0m\u001b[0;34m)\u001b[0m\u001b[0;34m)\u001b[0m\u001b[0;34m\u001b[0m\u001b[0;34m\u001b[0m\u001b[0m\n",
      "\u001b[0;32m~/.pyenv/versions/ds-wildfire/lib/python3.8/site-packages/rasterio/env.py\u001b[0m in \u001b[0;36mwrapper\u001b[0;34m(*args, **kwds)\u001b[0m\n\u001b[1;32m    431\u001b[0m \u001b[0;34m\u001b[0m\u001b[0m\n\u001b[1;32m    432\u001b[0m         \u001b[0;32mwith\u001b[0m \u001b[0menv_ctor\u001b[0m\u001b[0;34m(\u001b[0m\u001b[0msession\u001b[0m\u001b[0;34m=\u001b[0m\u001b[0msession\u001b[0m\u001b[0;34m)\u001b[0m\u001b[0;34m:\u001b[0m\u001b[0;34m\u001b[0m\u001b[0;34m\u001b[0m\u001b[0m\n\u001b[0;32m--> 433\u001b[0;31m             \u001b[0;32mreturn\u001b[0m \u001b[0mf\u001b[0m\u001b[0;34m(\u001b[0m\u001b[0;34m*\u001b[0m\u001b[0margs\u001b[0m\u001b[0;34m,\u001b[0m \u001b[0;34m**\u001b[0m\u001b[0mkwds\u001b[0m\u001b[0;34m)\u001b[0m\u001b[0;34m\u001b[0m\u001b[0;34m\u001b[0m\u001b[0m\n\u001b[0m\u001b[1;32m    434\u001b[0m \u001b[0;34m\u001b[0m\u001b[0m\n\u001b[1;32m    435\u001b[0m     \u001b[0;32mreturn\u001b[0m \u001b[0mwrapper\u001b[0m\u001b[0;34m\u001b[0m\u001b[0;34m\u001b[0m\u001b[0m\n",
      "\u001b[0;32m~/.pyenv/versions/ds-wildfire/lib/python3.8/site-packages/rasterio/__init__.py\u001b[0m in \u001b[0;36mopen\u001b[0;34m(fp, mode, driver, width, height, count, crs, transform, dtype, nodata, sharing, **kwargs)\u001b[0m\n\u001b[1;32m    224\u001b[0m             \u001b[0mwriter\u001b[0m \u001b[0;34m=\u001b[0m \u001b[0mget_writer_for_driver\u001b[0m\u001b[0;34m(\u001b[0m\u001b[0mdriver\u001b[0m\u001b[0;34m)\u001b[0m\u001b[0;34m\u001b[0m\u001b[0;34m\u001b[0m\u001b[0m\n\u001b[1;32m    225\u001b[0m             \u001b[0;32mif\u001b[0m \u001b[0mwriter\u001b[0m \u001b[0;32mis\u001b[0m \u001b[0;32mnot\u001b[0m \u001b[0;32mNone\u001b[0m\u001b[0;34m:\u001b[0m\u001b[0;34m\u001b[0m\u001b[0;34m\u001b[0m\u001b[0m\n\u001b[0;32m--> 226\u001b[0;31m                 s = writer(path, mode, driver=driver,\n\u001b[0m\u001b[1;32m    227\u001b[0m                            \u001b[0mwidth\u001b[0m\u001b[0;34m=\u001b[0m\u001b[0mwidth\u001b[0m\u001b[0;34m,\u001b[0m \u001b[0mheight\u001b[0m\u001b[0;34m=\u001b[0m\u001b[0mheight\u001b[0m\u001b[0;34m,\u001b[0m\u001b[0;34m\u001b[0m\u001b[0;34m\u001b[0m\u001b[0m\n\u001b[1;32m    228\u001b[0m                            \u001b[0mcount\u001b[0m\u001b[0;34m=\u001b[0m\u001b[0mcount\u001b[0m\u001b[0;34m,\u001b[0m \u001b[0mcrs\u001b[0m\u001b[0;34m=\u001b[0m\u001b[0mcrs\u001b[0m\u001b[0;34m,\u001b[0m\u001b[0;34m\u001b[0m\u001b[0;34m\u001b[0m\u001b[0m\n",
      "\u001b[0;32mrasterio/_io.pyx\u001b[0m in \u001b[0;36mrasterio._io.DatasetWriterBase.__init__\u001b[0;34m()\u001b[0m\n",
      "\u001b[0;31mRasterioIOError\u001b[0m: Attempt to create new tiff file '/' failed: Is a directory"
     ]
    }
   ],
   "source": [
    "for x in range (0,len(SELECTED_BANDS)):\n",
    "        for y in range (0,len(list_of_paths[0])):\n",
    "            #write SELECTED_BANDS into the target files\n",
    "            with rasterio.open(path_target, 'w', **meta_source) as dst:\n",
    "                with rasterio.open(list_of_paths[x][0]) as src1:\n",
    "                    dst.write_band((x+1), src1.read(1))"
   ]
  },
  {
   "cell_type": "code",
   "execution_count": 50,
   "metadata": {},
   "outputs": [
    {
     "data": {
      "text/plain": [
       "'2'"
      ]
     },
     "execution_count": 50,
     "metadata": {},
     "output_type": "execute_result"
    }
   ],
   "source": [
    "date_string[0]\n"
   ]
  }
 ],
 "metadata": {
  "kernelspec": {
   "display_name": "ds-wildfire",
   "language": "python",
   "name": "ds-wildfire"
  },
  "language_info": {
   "codemirror_mode": {
    "name": "ipython",
    "version": 3
   },
   "file_extension": ".py",
   "mimetype": "text/x-python",
   "name": "python",
   "nbconvert_exporter": "python",
   "pygments_lexer": "ipython3",
   "version": "3.8.2"
  }
 },
 "nbformat": 4,
 "nbformat_minor": 2
}
