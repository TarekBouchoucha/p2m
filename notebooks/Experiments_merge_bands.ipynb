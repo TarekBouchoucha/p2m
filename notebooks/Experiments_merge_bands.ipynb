{
 "cells": [
  {
   "cell_type": "code",
   "execution_count": 2,
   "metadata": {},
   "outputs": [],
   "source": [
    "import os\n",
    "import rasterio\n",
    "import glob\n",
    "from tqdm import tqdm\n",
    "from docopt import docopt\n",
    "from datetime import datetime"
   ]
  },
  {
   "cell_type": "code",
   "execution_count": 3,
   "metadata": {},
   "outputs": [],
   "source": [
    "SELECTED_BANDS = ['B8A', 'B11', 'B12']"
   ]
  },
  {
   "cell_type": "code",
   "execution_count": 4,
   "metadata": {},
   "outputs": [],
   "source": [
    "mgrs='31/T/GJ'"
   ]
  },
  {
   "cell_type": "code",
   "execution_count": 5,
   "metadata": {},
   "outputs": [],
   "source": [
    "path_to_scene = os.path.join('/data/raw_data/s2_aws/tiles',mgrs)"
   ]
  },
  {
   "cell_type": "code",
   "execution_count": 6,
   "metadata": {},
   "outputs": [],
   "source": [
    "list_of_paths ={}\n"
   ]
  },
  {
   "cell_type": "code",
   "execution_count": 7,
   "metadata": {},
   "outputs": [],
   "source": [
    "for n in range (0,len(SELECTED_BANDS)):\n",
    "    list_of_paths[n] = glob.glob(path_to_scene+'/*/*/*/*/'+SELECTED_BANDS[n]+'_sur.tif')\n",
    "    \n"
   ]
  },
  {
   "cell_type": "code",
   "execution_count": 8,
   "metadata": {},
   "outputs": [
    {
     "data": {
      "text/plain": [
       "{0: ['/data/raw_data/s2_aws/tiles/31/T/GJ/2017/7/24/0/B8A_sur.tif',\n",
       "  '/data/raw_data/s2_aws/tiles/31/T/GJ/2017/7/22/0/B8A_sur.tif',\n",
       "  '/data/raw_data/s2_aws/tiles/31/T/GJ/2017/7/26/0/B8A_sur.tif',\n",
       "  '/data/raw_data/s2_aws/tiles/31/T/GJ/2017/6/16/0/B8A_sur.tif',\n",
       "  '/data/raw_data/s2_aws/tiles/31/T/GJ/2017/6/12/0/B8A_sur.tif',\n",
       "  '/data/raw_data/s2_aws/tiles/31/T/GJ/2017/6/19/0/B8A_sur.tif',\n",
       "  '/data/raw_data/s2_aws/tiles/31/T/GJ/2017/9/4/0/B8A_sur.tif',\n",
       "  '/data/raw_data/s2_aws/tiles/31/T/GJ/2017/9/5/0/B8A_sur.tif',\n",
       "  '/data/raw_data/s2_aws/tiles/31/T/GJ/2017/9/7/0/B8A_sur.tif',\n",
       "  '/data/raw_data/s2_aws/tiles/31/T/GJ/2017/10/9/0/B8A_sur.tif',\n",
       "  '/data/raw_data/s2_aws/tiles/31/T/GJ/2017/10/7/0/B8A_sur.tif',\n",
       "  '/data/raw_data/s2_aws/tiles/31/T/GJ/2017/10/10/0/B8A_sur.tif',\n",
       "  '/data/raw_data/s2_aws/tiles/31/T/GJ/2015/7/30/0/B8A_sur.tif',\n",
       "  '/data/raw_data/s2_aws/tiles/31/T/GJ/2015/8/6/0/B8A_sur.tif',\n",
       "  '/data/raw_data/s2_aws/tiles/31/T/GJ/2015/8/12/0/B8A_sur.tif',\n",
       "  '/data/raw_data/s2_aws/tiles/31/T/GJ/2016/7/17/0/B8A_sur.tif',\n",
       "  '/data/raw_data/s2_aws/tiles/31/T/GJ/2016/7/21/0/B8A_sur.tif',\n",
       "  '/data/raw_data/s2_aws/tiles/31/T/GJ/2016/7/14/0/B8A_sur.tif',\n",
       "  '/data/raw_data/s2_aws/tiles/31/T/GJ/2016/7/11/0/B8A_sur.tif'],\n",
       " 1: ['/data/raw_data/s2_aws/tiles/31/T/GJ/2017/7/24/0/B11_sur.tif',\n",
       "  '/data/raw_data/s2_aws/tiles/31/T/GJ/2017/7/22/0/B11_sur.tif',\n",
       "  '/data/raw_data/s2_aws/tiles/31/T/GJ/2017/7/26/0/B11_sur.tif',\n",
       "  '/data/raw_data/s2_aws/tiles/31/T/GJ/2017/6/16/0/B11_sur.tif',\n",
       "  '/data/raw_data/s2_aws/tiles/31/T/GJ/2017/6/12/0/B11_sur.tif',\n",
       "  '/data/raw_data/s2_aws/tiles/31/T/GJ/2017/6/19/0/B11_sur.tif',\n",
       "  '/data/raw_data/s2_aws/tiles/31/T/GJ/2017/9/4/0/B11_sur.tif',\n",
       "  '/data/raw_data/s2_aws/tiles/31/T/GJ/2017/9/5/0/B11_sur.tif',\n",
       "  '/data/raw_data/s2_aws/tiles/31/T/GJ/2017/9/7/0/B11_sur.tif',\n",
       "  '/data/raw_data/s2_aws/tiles/31/T/GJ/2017/10/9/0/B11_sur.tif',\n",
       "  '/data/raw_data/s2_aws/tiles/31/T/GJ/2017/10/7/0/B11_sur.tif',\n",
       "  '/data/raw_data/s2_aws/tiles/31/T/GJ/2017/10/10/0/B11_sur.tif',\n",
       "  '/data/raw_data/s2_aws/tiles/31/T/GJ/2015/7/30/0/B11_sur.tif',\n",
       "  '/data/raw_data/s2_aws/tiles/31/T/GJ/2015/8/6/0/B11_sur.tif',\n",
       "  '/data/raw_data/s2_aws/tiles/31/T/GJ/2015/8/12/0/B11_sur.tif',\n",
       "  '/data/raw_data/s2_aws/tiles/31/T/GJ/2016/7/17/0/B11_sur.tif',\n",
       "  '/data/raw_data/s2_aws/tiles/31/T/GJ/2016/7/21/0/B11_sur.tif',\n",
       "  '/data/raw_data/s2_aws/tiles/31/T/GJ/2016/7/14/0/B11_sur.tif',\n",
       "  '/data/raw_data/s2_aws/tiles/31/T/GJ/2016/7/11/0/B11_sur.tif'],\n",
       " 2: ['/data/raw_data/s2_aws/tiles/31/T/GJ/2017/7/24/0/B12_sur.tif',\n",
       "  '/data/raw_data/s2_aws/tiles/31/T/GJ/2017/7/22/0/B12_sur.tif',\n",
       "  '/data/raw_data/s2_aws/tiles/31/T/GJ/2017/7/26/0/B12_sur.tif',\n",
       "  '/data/raw_data/s2_aws/tiles/31/T/GJ/2017/6/16/0/B12_sur.tif',\n",
       "  '/data/raw_data/s2_aws/tiles/31/T/GJ/2017/6/12/0/B12_sur.tif',\n",
       "  '/data/raw_data/s2_aws/tiles/31/T/GJ/2017/6/19/0/B12_sur.tif',\n",
       "  '/data/raw_data/s2_aws/tiles/31/T/GJ/2017/9/4/0/B12_sur.tif',\n",
       "  '/data/raw_data/s2_aws/tiles/31/T/GJ/2017/9/5/0/B12_sur.tif',\n",
       "  '/data/raw_data/s2_aws/tiles/31/T/GJ/2017/9/7/0/B12_sur.tif',\n",
       "  '/data/raw_data/s2_aws/tiles/31/T/GJ/2017/10/9/0/B12_sur.tif',\n",
       "  '/data/raw_data/s2_aws/tiles/31/T/GJ/2017/10/7/0/B12_sur.tif',\n",
       "  '/data/raw_data/s2_aws/tiles/31/T/GJ/2017/10/10/0/B12_sur.tif',\n",
       "  '/data/raw_data/s2_aws/tiles/31/T/GJ/2015/7/30/0/B12_sur.tif',\n",
       "  '/data/raw_data/s2_aws/tiles/31/T/GJ/2015/8/6/0/B12_sur.tif',\n",
       "  '/data/raw_data/s2_aws/tiles/31/T/GJ/2015/8/12/0/B12_sur.tif',\n",
       "  '/data/raw_data/s2_aws/tiles/31/T/GJ/2016/7/17/0/B12_sur.tif',\n",
       "  '/data/raw_data/s2_aws/tiles/31/T/GJ/2016/7/21/0/B12_sur.tif',\n",
       "  '/data/raw_data/s2_aws/tiles/31/T/GJ/2016/7/14/0/B12_sur.tif',\n",
       "  '/data/raw_data/s2_aws/tiles/31/T/GJ/2016/7/11/0/B12_sur.tif']}"
      ]
     },
     "execution_count": 8,
     "metadata": {},
     "output_type": "execute_result"
    }
   ],
   "source": [
    "list_of_paths"
   ]
  },
  {
   "cell_type": "code",
   "execution_count": 9,
   "metadata": {},
   "outputs": [],
   "source": [
    "date ={}\n",
    "date_datetime={}\n",
    "for i in range (0,len(list_of_paths[0])):\n",
    "    date_index=list_of_paths[0][i].index('201')\n",
    "    date_end_index=list_of_paths[0][i].index(\"/0\")\n",
    "    date[i]=list_of_paths[0][i][date_index:date_end_index]\n",
    "    #date_datetime[i] = datetime.strptime[date[i], '%Y/%m/%d']"
   ]
  },
  {
   "cell_type": "code",
   "execution_count": 10,
   "metadata": {},
   "outputs": [
    {
     "data": {
      "text/plain": [
       "{0: '2017/7/24',\n",
       " 1: '2017/7/22',\n",
       " 2: '2017/7/26',\n",
       " 3: '2017/6/16',\n",
       " 4: '2017/6/12',\n",
       " 5: '2017/6/19',\n",
       " 6: '2017/9/4',\n",
       " 7: '2017/9/5',\n",
       " 8: '2017/9/7',\n",
       " 9: '2017/10/9',\n",
       " 10: '2017/10/7',\n",
       " 11: '2017/10/10',\n",
       " 12: '2015/7/30',\n",
       " 13: '2015/8/6',\n",
       " 14: '2015/8/12',\n",
       " 15: '2016/7/17',\n",
       " 16: '2016/7/21',\n",
       " 17: '2016/7/14',\n",
       " 18: '2016/7/11'}"
      ]
     },
     "execution_count": 10,
     "metadata": {},
     "output_type": "execute_result"
    }
   ],
   "source": [
    "date"
   ]
  },
  {
   "cell_type": "code",
   "execution_count": 11,
   "metadata": {},
   "outputs": [],
   "source": [
    "with rasterio.open(list_of_paths[0][0]) as src0:\n",
    "    meta_source = src0.meta"
   ]
  },
  {
   "cell_type": "code",
   "execution_count": 12,
   "metadata": {},
   "outputs": [
    {
     "data": {
      "text/plain": [
       "{'driver': 'GTiff',\n",
       " 'dtype': 'int16',\n",
       " 'nodata': -9999.0,\n",
       " 'width': 5490,\n",
       " 'height': 5490,\n",
       " 'count': 1,\n",
       " 'crs': CRS.from_epsg(32631),\n",
       " 'transform': Affine(20.0, 0.0, 699960.0,\n",
       "        0.0, -20.0, 4900020.0)}"
      ]
     },
     "execution_count": 12,
     "metadata": {},
     "output_type": "execute_result"
    }
   ],
   "source": [
    "meta_source"
   ]
  },
  {
   "cell_type": "code",
   "execution_count": 13,
   "metadata": {},
   "outputs": [],
   "source": [
    "meta_source.update(count=len(list_of_paths[0]))"
   ]
  },
  {
   "cell_type": "code",
   "execution_count": 14,
   "metadata": {},
   "outputs": [
    {
     "data": {
      "text/plain": [
       "{'driver': 'GTiff',\n",
       " 'dtype': 'int16',\n",
       " 'nodata': -9999.0,\n",
       " 'width': 5490,\n",
       " 'height': 5490,\n",
       " 'count': 19,\n",
       " 'crs': CRS.from_epsg(32631),\n",
       " 'transform': Affine(20.0, 0.0, 699960.0,\n",
       "        0.0, -20.0, 4900020.0)}"
      ]
     },
     "execution_count": 14,
     "metadata": {},
     "output_type": "execute_result"
    }
   ],
   "source": [
    "meta_source"
   ]
  },
  {
   "cell_type": "code",
   "execution_count": 19,
   "metadata": {},
   "outputs": [],
   "source": [
    "date_datetime = datetime.strptime(date[0], '%Y/%m/%d')"
   ]
  },
  {
   "cell_type": "code",
   "execution_count": 24,
   "metadata": {},
   "outputs": [
    {
     "data": {
      "text/plain": [
       "'2017/'"
      ]
     },
     "execution_count": 24,
     "metadata": {},
     "output_type": "execute_result"
    }
   ],
   "source": [
    "date_datetime."
   ]
  },
  {
   "cell_type": "code",
   "execution_count": 25,
   "metadata": {},
   "outputs": [],
   "source": [
    "date_string=date_datetime.strftime('%Y_%m_%d')"
   ]
  },
  {
   "cell_type": "code",
   "execution_count": 26,
   "metadata": {},
   "outputs": [
    {
     "data": {
      "text/plain": [
       "'2017_07_24'"
      ]
     },
     "execution_count": 26,
     "metadata": {},
     "output_type": "execute_result"
    }
   ],
   "source": [
    "date_string"
   ]
  },
  {
   "cell_type": "code",
   "execution_count": 27,
   "metadata": {},
   "outputs": [
    {
     "data": {
      "text/plain": [
       "<function rasterio.open(fp, mode='r', driver=None, width=None, height=None, count=None, crs=None, transform=None, dtype=None, nodata=None, sharing=False, **kwargs)>"
      ]
     },
     "execution_count": 27,
     "metadata": {},
     "output_type": "execute_result"
    }
   ],
   "source": [
    "rasterio.open"
   ]
  },
  {
   "cell_type": "code",
   "execution_count": 28,
   "metadata": {},
   "outputs": [
    {
     "data": {
      "text/plain": [
       "\u001b[0;31mSignature:\u001b[0m\n",
       "\u001b[0mrasterio\u001b[0m\u001b[0;34m.\u001b[0m\u001b[0mopen\u001b[0m\u001b[0;34m(\u001b[0m\u001b[0;34m\u001b[0m\n",
       "\u001b[0;34m\u001b[0m    \u001b[0mfp\u001b[0m\u001b[0;34m,\u001b[0m\u001b[0;34m\u001b[0m\n",
       "\u001b[0;34m\u001b[0m    \u001b[0mmode\u001b[0m\u001b[0;34m=\u001b[0m\u001b[0;34m'r'\u001b[0m\u001b[0;34m,\u001b[0m\u001b[0;34m\u001b[0m\n",
       "\u001b[0;34m\u001b[0m    \u001b[0mdriver\u001b[0m\u001b[0;34m=\u001b[0m\u001b[0;32mNone\u001b[0m\u001b[0;34m,\u001b[0m\u001b[0;34m\u001b[0m\n",
       "\u001b[0;34m\u001b[0m    \u001b[0mwidth\u001b[0m\u001b[0;34m=\u001b[0m\u001b[0;32mNone\u001b[0m\u001b[0;34m,\u001b[0m\u001b[0;34m\u001b[0m\n",
       "\u001b[0;34m\u001b[0m    \u001b[0mheight\u001b[0m\u001b[0;34m=\u001b[0m\u001b[0;32mNone\u001b[0m\u001b[0;34m,\u001b[0m\u001b[0;34m\u001b[0m\n",
       "\u001b[0;34m\u001b[0m    \u001b[0mcount\u001b[0m\u001b[0;34m=\u001b[0m\u001b[0;32mNone\u001b[0m\u001b[0;34m,\u001b[0m\u001b[0;34m\u001b[0m\n",
       "\u001b[0;34m\u001b[0m    \u001b[0mcrs\u001b[0m\u001b[0;34m=\u001b[0m\u001b[0;32mNone\u001b[0m\u001b[0;34m,\u001b[0m\u001b[0;34m\u001b[0m\n",
       "\u001b[0;34m\u001b[0m    \u001b[0mtransform\u001b[0m\u001b[0;34m=\u001b[0m\u001b[0;32mNone\u001b[0m\u001b[0;34m,\u001b[0m\u001b[0;34m\u001b[0m\n",
       "\u001b[0;34m\u001b[0m    \u001b[0mdtype\u001b[0m\u001b[0;34m=\u001b[0m\u001b[0;32mNone\u001b[0m\u001b[0;34m,\u001b[0m\u001b[0;34m\u001b[0m\n",
       "\u001b[0;34m\u001b[0m    \u001b[0mnodata\u001b[0m\u001b[0;34m=\u001b[0m\u001b[0;32mNone\u001b[0m\u001b[0;34m,\u001b[0m\u001b[0;34m\u001b[0m\n",
       "\u001b[0;34m\u001b[0m    \u001b[0msharing\u001b[0m\u001b[0;34m=\u001b[0m\u001b[0;32mFalse\u001b[0m\u001b[0;34m,\u001b[0m\u001b[0;34m\u001b[0m\n",
       "\u001b[0;34m\u001b[0m    \u001b[0;34m**\u001b[0m\u001b[0mkwargs\u001b[0m\u001b[0;34m,\u001b[0m\u001b[0;34m\u001b[0m\n",
       "\u001b[0;34m\u001b[0m\u001b[0;34m)\u001b[0m\u001b[0;34m\u001b[0m\u001b[0;34m\u001b[0m\u001b[0m\n",
       "\u001b[0;31mSource:\u001b[0m   \n",
       "\u001b[0;34m@\u001b[0m\u001b[0mensure_env_with_credentials\u001b[0m\u001b[0;34m\u001b[0m\n",
       "\u001b[0;34m\u001b[0m\u001b[0;32mdef\u001b[0m \u001b[0mopen\u001b[0m\u001b[0;34m(\u001b[0m\u001b[0mfp\u001b[0m\u001b[0;34m,\u001b[0m \u001b[0mmode\u001b[0m\u001b[0;34m=\u001b[0m\u001b[0;34m'r'\u001b[0m\u001b[0;34m,\u001b[0m \u001b[0mdriver\u001b[0m\u001b[0;34m=\u001b[0m\u001b[0;32mNone\u001b[0m\u001b[0;34m,\u001b[0m \u001b[0mwidth\u001b[0m\u001b[0;34m=\u001b[0m\u001b[0;32mNone\u001b[0m\u001b[0;34m,\u001b[0m \u001b[0mheight\u001b[0m\u001b[0;34m=\u001b[0m\u001b[0;32mNone\u001b[0m\u001b[0;34m,\u001b[0m \u001b[0mcount\u001b[0m\u001b[0;34m=\u001b[0m\u001b[0;32mNone\u001b[0m\u001b[0;34m,\u001b[0m\u001b[0;34m\u001b[0m\n",
       "\u001b[0;34m\u001b[0m         \u001b[0mcrs\u001b[0m\u001b[0;34m=\u001b[0m\u001b[0;32mNone\u001b[0m\u001b[0;34m,\u001b[0m \u001b[0mtransform\u001b[0m\u001b[0;34m=\u001b[0m\u001b[0;32mNone\u001b[0m\u001b[0;34m,\u001b[0m \u001b[0mdtype\u001b[0m\u001b[0;34m=\u001b[0m\u001b[0;32mNone\u001b[0m\u001b[0;34m,\u001b[0m \u001b[0mnodata\u001b[0m\u001b[0;34m=\u001b[0m\u001b[0;32mNone\u001b[0m\u001b[0;34m,\u001b[0m \u001b[0msharing\u001b[0m\u001b[0;34m=\u001b[0m\u001b[0;32mFalse\u001b[0m\u001b[0;34m,\u001b[0m\u001b[0;34m\u001b[0m\n",
       "\u001b[0;34m\u001b[0m         \u001b[0;34m**\u001b[0m\u001b[0mkwargs\u001b[0m\u001b[0;34m)\u001b[0m\u001b[0;34m:\u001b[0m\u001b[0;34m\u001b[0m\n",
       "\u001b[0;34m\u001b[0m    \u001b[0;34m\"\"\"Open a dataset for reading or writing.\u001b[0m\n",
       "\u001b[0;34m\u001b[0m\n",
       "\u001b[0;34m    The dataset may be located in a local file, in a resource located by\u001b[0m\n",
       "\u001b[0;34m    a URL, or contained within a stream of bytes.\u001b[0m\n",
       "\u001b[0;34m\u001b[0m\n",
       "\u001b[0;34m    In read ('r') or read/write ('r+') mode, no keyword arguments are\u001b[0m\n",
       "\u001b[0;34m    required: these attributes are supplied by the opened dataset.\u001b[0m\n",
       "\u001b[0;34m\u001b[0m\n",
       "\u001b[0;34m    In write ('w' or 'w+') mode, the driver, width, height, count, and dtype\u001b[0m\n",
       "\u001b[0;34m    keywords are strictly required.\u001b[0m\n",
       "\u001b[0;34m\u001b[0m\n",
       "\u001b[0;34m    Parameters\u001b[0m\n",
       "\u001b[0;34m    ----------\u001b[0m\n",
       "\u001b[0;34m    fp : str, file object or pathlib.Path object\u001b[0m\n",
       "\u001b[0;34m        A filename or URL, a file object opened in binary ('rb') mode,\u001b[0m\n",
       "\u001b[0;34m        or a Path object.\u001b[0m\n",
       "\u001b[0;34m    mode : str, optional\u001b[0m\n",
       "\u001b[0;34m        'r' (read, the default), 'r+' (read/write), 'w' (write), or\u001b[0m\n",
       "\u001b[0;34m        'w+' (write/read).\u001b[0m\n",
       "\u001b[0;34m    driver : str, optional\u001b[0m\n",
       "\u001b[0;34m        A short format driver name (e.g. \"GTiff\" or \"JPEG\") or a list of\u001b[0m\n",
       "\u001b[0;34m        such names (see GDAL docs at\u001b[0m\n",
       "\u001b[0;34m        http://www.gdal.org/formats_list.html). In 'w' or 'w+' modes\u001b[0m\n",
       "\u001b[0;34m        a single name is required. In 'r' or 'r+' modes the driver can\u001b[0m\n",
       "\u001b[0;34m        usually be omitted. Registered drivers will be tried\u001b[0m\n",
       "\u001b[0;34m        sequentially until a match is found. When multiple drivers are\u001b[0m\n",
       "\u001b[0;34m        available for a format such as JPEG2000, one of them can be\u001b[0m\n",
       "\u001b[0;34m        selected by using this keyword argument.\u001b[0m\n",
       "\u001b[0;34m    width, height : int, optional\u001b[0m\n",
       "\u001b[0;34m        The numbers of rows and columns of the raster dataset. Required\u001b[0m\n",
       "\u001b[0;34m        in 'w' or 'w+' modes, they are ignored in 'r' or 'r+' modes.\u001b[0m\n",
       "\u001b[0;34m    count : int, optional\u001b[0m\n",
       "\u001b[0;34m        The count of dataset bands. Required in 'w' or 'w+' modes, it is\u001b[0m\n",
       "\u001b[0;34m        ignored in 'r' or 'r+' modes.\u001b[0m\n",
       "\u001b[0;34m    crs : str, dict, or CRS; optional\u001b[0m\n",
       "\u001b[0;34m        The coordinate reference system. Required in 'w' or 'w+' modes,\u001b[0m\n",
       "\u001b[0;34m        it is ignored in 'r' or 'r+' modes.\u001b[0m\n",
       "\u001b[0;34m    transform : Affine instance, optional\u001b[0m\n",
       "\u001b[0;34m        Affine transformation mapping the pixel space to geographic\u001b[0m\n",
       "\u001b[0;34m        space. Required in 'w' or 'w+' modes, it is ignored in 'r' or\u001b[0m\n",
       "\u001b[0;34m        'r+' modes.\u001b[0m\n",
       "\u001b[0;34m    dtype : str or numpy dtype\u001b[0m\n",
       "\u001b[0;34m        The data type for bands. For example: 'uint8' or\u001b[0m\n",
       "\u001b[0;34m        ``rasterio.uint16``. Required in 'w' or 'w+' modes, it is\u001b[0m\n",
       "\u001b[0;34m        ignored in 'r' or 'r+' modes.\u001b[0m\n",
       "\u001b[0;34m    nodata : int, float, or nan; optional\u001b[0m\n",
       "\u001b[0;34m        Defines the pixel value to be interpreted as not valid data.\u001b[0m\n",
       "\u001b[0;34m        Required in 'w' or 'w+' modes, it is ignored in 'r' or 'r+'\u001b[0m\n",
       "\u001b[0;34m        modes.\u001b[0m\n",
       "\u001b[0;34m    sharing : bool; optional\u001b[0m\n",
       "\u001b[0;34m        To reduce overhead and prevent programs from running out of file\u001b[0m\n",
       "\u001b[0;34m        descriptors, rasterio maintains a pool of shared low level\u001b[0m\n",
       "\u001b[0;34m        dataset handles. When `True` this function will use a shared\u001b[0m\n",
       "\u001b[0;34m        handle if one is available. Multithreaded programs must avoid\u001b[0m\n",
       "\u001b[0;34m        sharing and should set *sharing* to `False`.\u001b[0m\n",
       "\u001b[0;34m    kwargs : optional\u001b[0m\n",
       "\u001b[0;34m        These are passed to format drivers as directives for creating or\u001b[0m\n",
       "\u001b[0;34m        interpreting datasets. For example: in 'w' or 'w+' modes\u001b[0m\n",
       "\u001b[0;34m        a `tiled=True` keyword argument will direct the GeoTIFF format\u001b[0m\n",
       "\u001b[0;34m        driver to create a tiled, rather than striped, TIFF.\u001b[0m\n",
       "\u001b[0;34m\u001b[0m\n",
       "\u001b[0;34m    Returns\u001b[0m\n",
       "\u001b[0;34m    -------\u001b[0m\n",
       "\u001b[0;34m    A ``DatasetReader`` or ``DatasetWriter`` object.\u001b[0m\n",
       "\u001b[0;34m\u001b[0m\n",
       "\u001b[0;34m    Examples\u001b[0m\n",
       "\u001b[0;34m    --------\u001b[0m\n",
       "\u001b[0;34m\u001b[0m\n",
       "\u001b[0;34m    To open a GeoTIFF for reading using standard driver discovery and\u001b[0m\n",
       "\u001b[0;34m    no directives:\u001b[0m\n",
       "\u001b[0;34m\u001b[0m\n",
       "\u001b[0;34m    >>> import rasterio\u001b[0m\n",
       "\u001b[0;34m    >>> with rasterio.open('example.tif') as dataset:\u001b[0m\n",
       "\u001b[0;34m    ...     print(dataset.profile)\u001b[0m\n",
       "\u001b[0;34m\u001b[0m\n",
       "\u001b[0;34m    To open a JPEG2000 using only the JP2OpenJPEG driver:\u001b[0m\n",
       "\u001b[0;34m\u001b[0m\n",
       "\u001b[0;34m    >>> with rasterio.open(\u001b[0m\n",
       "\u001b[0;34m    ...         'example.jp2', driver='JP2OpenJPEG') as dataset:\u001b[0m\n",
       "\u001b[0;34m    ...     print(dataset.profile)\u001b[0m\n",
       "\u001b[0;34m\u001b[0m\n",
       "\u001b[0;34m    To create a new 8-band, 16-bit unsigned, tiled, and LZW-compressed\u001b[0m\n",
       "\u001b[0;34m    GeoTIFF with a global extent and 0.5 degree resolution:\u001b[0m\n",
       "\u001b[0;34m\u001b[0m\n",
       "\u001b[0;34m    >>> from rasterio.transform import from_origin\u001b[0m\n",
       "\u001b[0;34m    >>> with rasterio.open(\u001b[0m\n",
       "\u001b[0;34m    ...         'example.tif', 'w', driver='GTiff', dtype='uint16',\u001b[0m\n",
       "\u001b[0;34m    ...         width=720, height=360, count=8, crs='EPSG:4326',\u001b[0m\n",
       "\u001b[0;34m    ...         transform=from_origin(-180.0, 90.0, 0.5, 0.5),\u001b[0m\n",
       "\u001b[0;34m    ...         nodata=0, tiled=True, compress='lzw') as dataset:\u001b[0m\n",
       "\u001b[0;34m    ...     dataset.write(...)\u001b[0m\n",
       "\u001b[0;34m    \"\"\"\u001b[0m\u001b[0;34m\u001b[0m\n",
       "\u001b[0;34m\u001b[0m\u001b[0;34m\u001b[0m\n",
       "\u001b[0;34m\u001b[0m    \u001b[0;32mif\u001b[0m \u001b[0;32mnot\u001b[0m \u001b[0misinstance\u001b[0m\u001b[0;34m(\u001b[0m\u001b[0mfp\u001b[0m\u001b[0;34m,\u001b[0m \u001b[0mstring_types\u001b[0m\u001b[0;34m)\u001b[0m\u001b[0;34m:\u001b[0m\u001b[0;34m\u001b[0m\n",
       "\u001b[0;34m\u001b[0m        \u001b[0;32mif\u001b[0m \u001b[0;32mnot\u001b[0m \u001b[0;34m(\u001b[0m\u001b[0mhasattr\u001b[0m\u001b[0;34m(\u001b[0m\u001b[0mfp\u001b[0m\u001b[0;34m,\u001b[0m \u001b[0;34m'read'\u001b[0m\u001b[0;34m)\u001b[0m \u001b[0;32mor\u001b[0m \u001b[0mhasattr\u001b[0m\u001b[0;34m(\u001b[0m\u001b[0mfp\u001b[0m\u001b[0;34m,\u001b[0m \u001b[0;34m'write'\u001b[0m\u001b[0;34m)\u001b[0m \u001b[0;32mor\u001b[0m \u001b[0misinstance\u001b[0m\u001b[0;34m(\u001b[0m\u001b[0mfp\u001b[0m\u001b[0;34m,\u001b[0m \u001b[0mPath\u001b[0m\u001b[0;34m)\u001b[0m\u001b[0;34m)\u001b[0m\u001b[0;34m:\u001b[0m\u001b[0;34m\u001b[0m\n",
       "\u001b[0;34m\u001b[0m            \u001b[0;32mraise\u001b[0m \u001b[0mTypeError\u001b[0m\u001b[0;34m(\u001b[0m\u001b[0;34m\"invalid path or file: {0!r}\"\u001b[0m\u001b[0;34m.\u001b[0m\u001b[0mformat\u001b[0m\u001b[0;34m(\u001b[0m\u001b[0mfp\u001b[0m\u001b[0;34m)\u001b[0m\u001b[0;34m)\u001b[0m\u001b[0;34m\u001b[0m\n",
       "\u001b[0;34m\u001b[0m    \u001b[0;32mif\u001b[0m \u001b[0mmode\u001b[0m \u001b[0;32mand\u001b[0m \u001b[0;32mnot\u001b[0m \u001b[0misinstance\u001b[0m\u001b[0;34m(\u001b[0m\u001b[0mmode\u001b[0m\u001b[0;34m,\u001b[0m \u001b[0mstring_types\u001b[0m\u001b[0;34m)\u001b[0m\u001b[0;34m:\u001b[0m\u001b[0;34m\u001b[0m\n",
       "\u001b[0;34m\u001b[0m        \u001b[0;32mraise\u001b[0m \u001b[0mTypeError\u001b[0m\u001b[0;34m(\u001b[0m\u001b[0;34m\"invalid mode: {0!r}\"\u001b[0m\u001b[0;34m.\u001b[0m\u001b[0mformat\u001b[0m\u001b[0;34m(\u001b[0m\u001b[0mmode\u001b[0m\u001b[0;34m)\u001b[0m\u001b[0;34m)\u001b[0m\u001b[0;34m\u001b[0m\n",
       "\u001b[0;34m\u001b[0m    \u001b[0;32mif\u001b[0m \u001b[0mdriver\u001b[0m \u001b[0;32mand\u001b[0m \u001b[0;32mnot\u001b[0m \u001b[0misinstance\u001b[0m\u001b[0;34m(\u001b[0m\u001b[0mdriver\u001b[0m\u001b[0;34m,\u001b[0m \u001b[0mstring_types\u001b[0m\u001b[0;34m)\u001b[0m\u001b[0;34m:\u001b[0m\u001b[0;34m\u001b[0m\n",
       "\u001b[0;34m\u001b[0m        \u001b[0;32mraise\u001b[0m \u001b[0mTypeError\u001b[0m\u001b[0;34m(\u001b[0m\u001b[0;34m\"invalid driver: {0!r}\"\u001b[0m\u001b[0;34m.\u001b[0m\u001b[0mformat\u001b[0m\u001b[0;34m(\u001b[0m\u001b[0mdriver\u001b[0m\u001b[0;34m)\u001b[0m\u001b[0;34m)\u001b[0m\u001b[0;34m\u001b[0m\n",
       "\u001b[0;34m\u001b[0m    \u001b[0;32mif\u001b[0m \u001b[0mdtype\u001b[0m \u001b[0;32mand\u001b[0m \u001b[0;32mnot\u001b[0m \u001b[0mcheck_dtype\u001b[0m\u001b[0;34m(\u001b[0m\u001b[0mdtype\u001b[0m\u001b[0;34m)\u001b[0m\u001b[0;34m:\u001b[0m\u001b[0;34m\u001b[0m\n",
       "\u001b[0;34m\u001b[0m        \u001b[0;32mraise\u001b[0m \u001b[0mTypeError\u001b[0m\u001b[0;34m(\u001b[0m\u001b[0;34m\"invalid dtype: {0!r}\"\u001b[0m\u001b[0;34m.\u001b[0m\u001b[0mformat\u001b[0m\u001b[0;34m(\u001b[0m\u001b[0mdtype\u001b[0m\u001b[0;34m)\u001b[0m\u001b[0;34m)\u001b[0m\u001b[0;34m\u001b[0m\n",
       "\u001b[0;34m\u001b[0m    \u001b[0;32mif\u001b[0m \u001b[0mnodata\u001b[0m \u001b[0;32mis\u001b[0m \u001b[0;32mnot\u001b[0m \u001b[0;32mNone\u001b[0m\u001b[0;34m:\u001b[0m\u001b[0;34m\u001b[0m\n",
       "\u001b[0;34m\u001b[0m        \u001b[0mnodata\u001b[0m \u001b[0;34m=\u001b[0m \u001b[0mfloat\u001b[0m\u001b[0;34m(\u001b[0m\u001b[0mnodata\u001b[0m\u001b[0;34m)\u001b[0m\u001b[0;34m\u001b[0m\n",
       "\u001b[0;34m\u001b[0m    \u001b[0;32mif\u001b[0m \u001b[0mtransform\u001b[0m\u001b[0;34m:\u001b[0m\u001b[0;34m\u001b[0m\n",
       "\u001b[0;34m\u001b[0m        \u001b[0mtransform\u001b[0m \u001b[0;34m=\u001b[0m \u001b[0mguard_transform\u001b[0m\u001b[0;34m(\u001b[0m\u001b[0mtransform\u001b[0m\u001b[0;34m)\u001b[0m\u001b[0;34m\u001b[0m\n",
       "\u001b[0;34m\u001b[0m\u001b[0;34m\u001b[0m\n",
       "\u001b[0;34m\u001b[0m    \u001b[0;31m# Check driver/mode blacklist.\u001b[0m\u001b[0;34m\u001b[0m\n",
       "\u001b[0;34m\u001b[0m    \u001b[0;32mif\u001b[0m \u001b[0mdriver\u001b[0m \u001b[0;32mand\u001b[0m \u001b[0mis_blacklisted\u001b[0m\u001b[0;34m(\u001b[0m\u001b[0mdriver\u001b[0m\u001b[0;34m,\u001b[0m \u001b[0mmode\u001b[0m\u001b[0;34m)\u001b[0m\u001b[0;34m:\u001b[0m\u001b[0;34m\u001b[0m\n",
       "\u001b[0;34m\u001b[0m        \u001b[0;32mraise\u001b[0m \u001b[0mRasterioIOError\u001b[0m\u001b[0;34m(\u001b[0m\u001b[0;34m\u001b[0m\n",
       "\u001b[0;34m\u001b[0m            \u001b[0;34m\"Blacklisted: file cannot be opened by \"\u001b[0m\u001b[0;34m\u001b[0m\n",
       "\u001b[0;34m\u001b[0m            \u001b[0;34m\"driver '{0}' in '{1}' mode\"\u001b[0m\u001b[0;34m.\u001b[0m\u001b[0mformat\u001b[0m\u001b[0;34m(\u001b[0m\u001b[0mdriver\u001b[0m\u001b[0;34m,\u001b[0m \u001b[0mmode\u001b[0m\u001b[0;34m)\u001b[0m\u001b[0;34m)\u001b[0m\u001b[0;34m\u001b[0m\n",
       "\u001b[0;34m\u001b[0m\u001b[0;34m\u001b[0m\n",
       "\u001b[0;34m\u001b[0m    \u001b[0;31m# Special case for file object argument.\u001b[0m\u001b[0;34m\u001b[0m\n",
       "\u001b[0;34m\u001b[0m    \u001b[0;32mif\u001b[0m \u001b[0mmode\u001b[0m \u001b[0;34m==\u001b[0m \u001b[0;34m'r'\u001b[0m \u001b[0;32mand\u001b[0m \u001b[0mhasattr\u001b[0m\u001b[0;34m(\u001b[0m\u001b[0mfp\u001b[0m\u001b[0;34m,\u001b[0m \u001b[0;34m'read'\u001b[0m\u001b[0;34m)\u001b[0m\u001b[0;34m:\u001b[0m\u001b[0;34m\u001b[0m\n",
       "\u001b[0;34m\u001b[0m\u001b[0;34m\u001b[0m\n",
       "\u001b[0;34m\u001b[0m        \u001b[0;34m@\u001b[0m\u001b[0mcontextmanager\u001b[0m\u001b[0;34m\u001b[0m\n",
       "\u001b[0;34m\u001b[0m        \u001b[0;32mdef\u001b[0m \u001b[0mfp_reader\u001b[0m\u001b[0;34m(\u001b[0m\u001b[0mfp\u001b[0m\u001b[0;34m)\u001b[0m\u001b[0;34m:\u001b[0m\u001b[0;34m\u001b[0m\n",
       "\u001b[0;34m\u001b[0m            \u001b[0mmemfile\u001b[0m \u001b[0;34m=\u001b[0m \u001b[0mMemoryFile\u001b[0m\u001b[0;34m(\u001b[0m\u001b[0mfp\u001b[0m\u001b[0;34m.\u001b[0m\u001b[0mread\u001b[0m\u001b[0;34m(\u001b[0m\u001b[0;34m)\u001b[0m\u001b[0;34m)\u001b[0m\u001b[0;34m\u001b[0m\n",
       "\u001b[0;34m\u001b[0m            \u001b[0mdataset\u001b[0m \u001b[0;34m=\u001b[0m \u001b[0mmemfile\u001b[0m\u001b[0;34m.\u001b[0m\u001b[0mopen\u001b[0m\u001b[0;34m(\u001b[0m\u001b[0mdriver\u001b[0m\u001b[0;34m=\u001b[0m\u001b[0mdriver\u001b[0m\u001b[0;34m,\u001b[0m \u001b[0msharing\u001b[0m\u001b[0;34m=\u001b[0m\u001b[0msharing\u001b[0m\u001b[0;34m)\u001b[0m\u001b[0;34m\u001b[0m\n",
       "\u001b[0;34m\u001b[0m            \u001b[0;32mtry\u001b[0m\u001b[0;34m:\u001b[0m\u001b[0;34m\u001b[0m\n",
       "\u001b[0;34m\u001b[0m                \u001b[0;32myield\u001b[0m \u001b[0mdataset\u001b[0m\u001b[0;34m\u001b[0m\n",
       "\u001b[0;34m\u001b[0m            \u001b[0;32mfinally\u001b[0m\u001b[0;34m:\u001b[0m\u001b[0;34m\u001b[0m\n",
       "\u001b[0;34m\u001b[0m                \u001b[0mdataset\u001b[0m\u001b[0;34m.\u001b[0m\u001b[0mclose\u001b[0m\u001b[0;34m(\u001b[0m\u001b[0;34m)\u001b[0m\u001b[0;34m\u001b[0m\n",
       "\u001b[0;34m\u001b[0m                \u001b[0mmemfile\u001b[0m\u001b[0;34m.\u001b[0m\u001b[0mclose\u001b[0m\u001b[0;34m(\u001b[0m\u001b[0;34m)\u001b[0m\u001b[0;34m\u001b[0m\n",
       "\u001b[0;34m\u001b[0m\u001b[0;34m\u001b[0m\n",
       "\u001b[0;34m\u001b[0m        \u001b[0;32mreturn\u001b[0m \u001b[0mfp_reader\u001b[0m\u001b[0;34m(\u001b[0m\u001b[0mfp\u001b[0m\u001b[0;34m)\u001b[0m\u001b[0;34m\u001b[0m\n",
       "\u001b[0;34m\u001b[0m\u001b[0;34m\u001b[0m\n",
       "\u001b[0;34m\u001b[0m    \u001b[0;32melif\u001b[0m \u001b[0mmode\u001b[0m \u001b[0;32min\u001b[0m \u001b[0;34m(\u001b[0m\u001b[0;34m'w'\u001b[0m\u001b[0;34m,\u001b[0m \u001b[0;34m'w+'\u001b[0m\u001b[0;34m)\u001b[0m \u001b[0;32mand\u001b[0m \u001b[0mhasattr\u001b[0m\u001b[0;34m(\u001b[0m\u001b[0mfp\u001b[0m\u001b[0;34m,\u001b[0m \u001b[0;34m'write'\u001b[0m\u001b[0;34m)\u001b[0m\u001b[0;34m:\u001b[0m\u001b[0;34m\u001b[0m\n",
       "\u001b[0;34m\u001b[0m\u001b[0;34m\u001b[0m\n",
       "\u001b[0;34m\u001b[0m        \u001b[0;34m@\u001b[0m\u001b[0mcontextmanager\u001b[0m\u001b[0;34m\u001b[0m\n",
       "\u001b[0;34m\u001b[0m        \u001b[0;32mdef\u001b[0m \u001b[0mfp_writer\u001b[0m\u001b[0;34m(\u001b[0m\u001b[0mfp\u001b[0m\u001b[0;34m)\u001b[0m\u001b[0;34m:\u001b[0m\u001b[0;34m\u001b[0m\n",
       "\u001b[0;34m\u001b[0m            \u001b[0mmemfile\u001b[0m \u001b[0;34m=\u001b[0m \u001b[0mMemoryFile\u001b[0m\u001b[0;34m(\u001b[0m\u001b[0;34m)\u001b[0m\u001b[0;34m\u001b[0m\n",
       "\u001b[0;34m\u001b[0m            \u001b[0mdataset\u001b[0m \u001b[0;34m=\u001b[0m \u001b[0mmemfile\u001b[0m\u001b[0;34m.\u001b[0m\u001b[0mopen\u001b[0m\u001b[0;34m(\u001b[0m\u001b[0mdriver\u001b[0m\u001b[0;34m=\u001b[0m\u001b[0mdriver\u001b[0m\u001b[0;34m,\u001b[0m \u001b[0mwidth\u001b[0m\u001b[0;34m=\u001b[0m\u001b[0mwidth\u001b[0m\u001b[0;34m,\u001b[0m \u001b[0mheight\u001b[0m\u001b[0;34m=\u001b[0m\u001b[0mheight\u001b[0m\u001b[0;34m,\u001b[0m\u001b[0;34m\u001b[0m\n",
       "\u001b[0;34m\u001b[0m                                   \u001b[0mcount\u001b[0m\u001b[0;34m=\u001b[0m\u001b[0mcount\u001b[0m\u001b[0;34m,\u001b[0m \u001b[0mcrs\u001b[0m\u001b[0;34m=\u001b[0m\u001b[0mcrs\u001b[0m\u001b[0;34m,\u001b[0m \u001b[0mtransform\u001b[0m\u001b[0;34m=\u001b[0m\u001b[0mtransform\u001b[0m\u001b[0;34m,\u001b[0m\u001b[0;34m\u001b[0m\n",
       "\u001b[0;34m\u001b[0m                                   \u001b[0mdtype\u001b[0m\u001b[0;34m=\u001b[0m\u001b[0mdtype\u001b[0m\u001b[0;34m,\u001b[0m \u001b[0mnodata\u001b[0m\u001b[0;34m=\u001b[0m\u001b[0mnodata\u001b[0m\u001b[0;34m,\u001b[0m \u001b[0msharing\u001b[0m\u001b[0;34m=\u001b[0m\u001b[0msharing\u001b[0m\u001b[0;34m,\u001b[0m \u001b[0;34m**\u001b[0m\u001b[0mkwargs\u001b[0m\u001b[0;34m)\u001b[0m\u001b[0;34m\u001b[0m\n",
       "\u001b[0;34m\u001b[0m            \u001b[0;32mtry\u001b[0m\u001b[0;34m:\u001b[0m\u001b[0;34m\u001b[0m\n",
       "\u001b[0;34m\u001b[0m                \u001b[0;32myield\u001b[0m \u001b[0mdataset\u001b[0m\u001b[0;34m\u001b[0m\n",
       "\u001b[0;34m\u001b[0m            \u001b[0;32mfinally\u001b[0m\u001b[0;34m:\u001b[0m\u001b[0;34m\u001b[0m\n",
       "\u001b[0;34m\u001b[0m                \u001b[0mdataset\u001b[0m\u001b[0;34m.\u001b[0m\u001b[0mclose\u001b[0m\u001b[0;34m(\u001b[0m\u001b[0;34m)\u001b[0m\u001b[0;34m\u001b[0m\n",
       "\u001b[0;34m\u001b[0m                \u001b[0mmemfile\u001b[0m\u001b[0;34m.\u001b[0m\u001b[0mseek\u001b[0m\u001b[0;34m(\u001b[0m\u001b[0;36m0\u001b[0m\u001b[0;34m)\u001b[0m\u001b[0;34m\u001b[0m\n",
       "\u001b[0;34m\u001b[0m                \u001b[0mfp\u001b[0m\u001b[0;34m.\u001b[0m\u001b[0mwrite\u001b[0m\u001b[0;34m(\u001b[0m\u001b[0mmemfile\u001b[0m\u001b[0;34m.\u001b[0m\u001b[0mread\u001b[0m\u001b[0;34m(\u001b[0m\u001b[0;34m)\u001b[0m\u001b[0;34m)\u001b[0m\u001b[0;34m\u001b[0m\n",
       "\u001b[0;34m\u001b[0m                \u001b[0mmemfile\u001b[0m\u001b[0;34m.\u001b[0m\u001b[0mclose\u001b[0m\u001b[0;34m(\u001b[0m\u001b[0;34m)\u001b[0m\u001b[0;34m\u001b[0m\n",
       "\u001b[0;34m\u001b[0m\u001b[0;34m\u001b[0m\n",
       "\u001b[0;34m\u001b[0m        \u001b[0;32mreturn\u001b[0m \u001b[0mfp_writer\u001b[0m\u001b[0;34m(\u001b[0m\u001b[0mfp\u001b[0m\u001b[0;34m)\u001b[0m\u001b[0;34m\u001b[0m\n",
       "\u001b[0;34m\u001b[0m\u001b[0;34m\u001b[0m\n",
       "\u001b[0;34m\u001b[0m    \u001b[0;32melse\u001b[0m\u001b[0;34m:\u001b[0m\u001b[0;34m\u001b[0m\n",
       "\u001b[0;34m\u001b[0m        \u001b[0;31m# If a pathlib.Path instance is given, convert it to a string path.\u001b[0m\u001b[0;34m\u001b[0m\n",
       "\u001b[0;34m\u001b[0m        \u001b[0;32mif\u001b[0m \u001b[0misinstance\u001b[0m\u001b[0;34m(\u001b[0m\u001b[0mfp\u001b[0m\u001b[0;34m,\u001b[0m \u001b[0mPath\u001b[0m\u001b[0;34m)\u001b[0m\u001b[0;34m:\u001b[0m\u001b[0;34m\u001b[0m\n",
       "\u001b[0;34m\u001b[0m            \u001b[0mfp\u001b[0m \u001b[0;34m=\u001b[0m \u001b[0mstr\u001b[0m\u001b[0;34m(\u001b[0m\u001b[0mfp\u001b[0m\u001b[0;34m)\u001b[0m\u001b[0;34m\u001b[0m\n",
       "\u001b[0;34m\u001b[0m\u001b[0;34m\u001b[0m\n",
       "\u001b[0;34m\u001b[0m        \u001b[0;31m# The 'normal' filename or URL path.\u001b[0m\u001b[0;34m\u001b[0m\n",
       "\u001b[0;34m\u001b[0m        \u001b[0mpath\u001b[0m \u001b[0;34m=\u001b[0m \u001b[0mparse_path\u001b[0m\u001b[0;34m(\u001b[0m\u001b[0mfp\u001b[0m\u001b[0;34m)\u001b[0m\u001b[0;34m\u001b[0m\n",
       "\u001b[0;34m\u001b[0m\u001b[0;34m\u001b[0m\n",
       "\u001b[0;34m\u001b[0m        \u001b[0;31m# Create dataset instances and pass the given env, which will\u001b[0m\u001b[0;34m\u001b[0m\n",
       "\u001b[0;34m\u001b[0m        \u001b[0;31m# be taken over by the dataset's context manager if it is not\u001b[0m\u001b[0;34m\u001b[0m\n",
       "\u001b[0;34m\u001b[0m        \u001b[0;31m# None.\u001b[0m\u001b[0;34m\u001b[0m\n",
       "\u001b[0;34m\u001b[0m        \u001b[0;32mif\u001b[0m \u001b[0mmode\u001b[0m \u001b[0;34m==\u001b[0m \u001b[0;34m'r'\u001b[0m\u001b[0;34m:\u001b[0m\u001b[0;34m\u001b[0m\n",
       "\u001b[0;34m\u001b[0m            \u001b[0ms\u001b[0m \u001b[0;34m=\u001b[0m \u001b[0mDatasetReader\u001b[0m\u001b[0;34m(\u001b[0m\u001b[0mpath\u001b[0m\u001b[0;34m,\u001b[0m \u001b[0mdriver\u001b[0m\u001b[0;34m=\u001b[0m\u001b[0mdriver\u001b[0m\u001b[0;34m,\u001b[0m \u001b[0msharing\u001b[0m\u001b[0;34m=\u001b[0m\u001b[0msharing\u001b[0m\u001b[0;34m,\u001b[0m \u001b[0;34m**\u001b[0m\u001b[0mkwargs\u001b[0m\u001b[0;34m)\u001b[0m\u001b[0;34m\u001b[0m\n",
       "\u001b[0;34m\u001b[0m        \u001b[0;32melif\u001b[0m \u001b[0mmode\u001b[0m \u001b[0;34m==\u001b[0m \u001b[0;34m\"r+\"\u001b[0m\u001b[0;34m:\u001b[0m\u001b[0;34m\u001b[0m\n",
       "\u001b[0;34m\u001b[0m            \u001b[0ms\u001b[0m \u001b[0;34m=\u001b[0m \u001b[0mget_writer_for_path\u001b[0m\u001b[0;34m(\u001b[0m\u001b[0mpath\u001b[0m\u001b[0;34m,\u001b[0m \u001b[0mdriver\u001b[0m\u001b[0;34m=\u001b[0m\u001b[0mdriver\u001b[0m\u001b[0;34m)\u001b[0m\u001b[0;34m(\u001b[0m\u001b[0;34m\u001b[0m\n",
       "\u001b[0;34m\u001b[0m                \u001b[0mpath\u001b[0m\u001b[0;34m,\u001b[0m \u001b[0mmode\u001b[0m\u001b[0;34m,\u001b[0m \u001b[0mdriver\u001b[0m\u001b[0;34m=\u001b[0m\u001b[0mdriver\u001b[0m\u001b[0;34m,\u001b[0m \u001b[0msharing\u001b[0m\u001b[0;34m=\u001b[0m\u001b[0msharing\u001b[0m\u001b[0;34m,\u001b[0m \u001b[0;34m**\u001b[0m\u001b[0mkwargs\u001b[0m\u001b[0;34m\u001b[0m\n",
       "\u001b[0;34m\u001b[0m            \u001b[0;34m)\u001b[0m\u001b[0;34m\u001b[0m\n",
       "\u001b[0;34m\u001b[0m        \u001b[0;32melif\u001b[0m \u001b[0mmode\u001b[0m\u001b[0;34m.\u001b[0m\u001b[0mstartswith\u001b[0m\u001b[0;34m(\u001b[0m\u001b[0;34m\"w\"\u001b[0m\u001b[0;34m)\u001b[0m\u001b[0;34m:\u001b[0m\u001b[0;34m\u001b[0m\n",
       "\u001b[0;34m\u001b[0m            \u001b[0mwriter\u001b[0m \u001b[0;34m=\u001b[0m \u001b[0mget_writer_for_driver\u001b[0m\u001b[0;34m(\u001b[0m\u001b[0mdriver\u001b[0m\u001b[0;34m)\u001b[0m\u001b[0;34m\u001b[0m\n",
       "\u001b[0;34m\u001b[0m            \u001b[0;32mif\u001b[0m \u001b[0mwriter\u001b[0m \u001b[0;32mis\u001b[0m \u001b[0;32mnot\u001b[0m \u001b[0;32mNone\u001b[0m\u001b[0;34m:\u001b[0m\u001b[0;34m\u001b[0m\n",
       "\u001b[0;34m\u001b[0m                \u001b[0ms\u001b[0m \u001b[0;34m=\u001b[0m \u001b[0mwriter\u001b[0m\u001b[0;34m(\u001b[0m\u001b[0mpath\u001b[0m\u001b[0;34m,\u001b[0m \u001b[0mmode\u001b[0m\u001b[0;34m,\u001b[0m \u001b[0mdriver\u001b[0m\u001b[0;34m=\u001b[0m\u001b[0mdriver\u001b[0m\u001b[0;34m,\u001b[0m\u001b[0;34m\u001b[0m\n",
       "\u001b[0;34m\u001b[0m                           \u001b[0mwidth\u001b[0m\u001b[0;34m=\u001b[0m\u001b[0mwidth\u001b[0m\u001b[0;34m,\u001b[0m \u001b[0mheight\u001b[0m\u001b[0;34m=\u001b[0m\u001b[0mheight\u001b[0m\u001b[0;34m,\u001b[0m\u001b[0;34m\u001b[0m\n",
       "\u001b[0;34m\u001b[0m                           \u001b[0mcount\u001b[0m\u001b[0;34m=\u001b[0m\u001b[0mcount\u001b[0m\u001b[0;34m,\u001b[0m \u001b[0mcrs\u001b[0m\u001b[0;34m=\u001b[0m\u001b[0mcrs\u001b[0m\u001b[0;34m,\u001b[0m\u001b[0;34m\u001b[0m\n",
       "\u001b[0;34m\u001b[0m                           \u001b[0mtransform\u001b[0m\u001b[0;34m=\u001b[0m\u001b[0mtransform\u001b[0m\u001b[0;34m,\u001b[0m\u001b[0;34m\u001b[0m\n",
       "\u001b[0;34m\u001b[0m                           \u001b[0mdtype\u001b[0m\u001b[0;34m=\u001b[0m\u001b[0mdtype\u001b[0m\u001b[0;34m,\u001b[0m \u001b[0mnodata\u001b[0m\u001b[0;34m=\u001b[0m\u001b[0mnodata\u001b[0m\u001b[0;34m,\u001b[0m\u001b[0;34m\u001b[0m\n",
       "\u001b[0;34m\u001b[0m                           \u001b[0msharing\u001b[0m\u001b[0;34m=\u001b[0m\u001b[0msharing\u001b[0m\u001b[0;34m,\u001b[0m\u001b[0;34m\u001b[0m\n",
       "\u001b[0;34m\u001b[0m                           \u001b[0;34m**\u001b[0m\u001b[0mkwargs\u001b[0m\u001b[0;34m)\u001b[0m\u001b[0;34m\u001b[0m\n",
       "\u001b[0;34m\u001b[0m            \u001b[0;32melse\u001b[0m\u001b[0;34m:\u001b[0m\u001b[0;34m\u001b[0m\n",
       "\u001b[0;34m\u001b[0m                \u001b[0;32mraise\u001b[0m \u001b[0mDriverCapabilityError\u001b[0m\u001b[0;34m(\u001b[0m\u001b[0;34m\u001b[0m\n",
       "\u001b[0;34m\u001b[0m                    \u001b[0;34m\"Writer does not exist for driver: %s\"\u001b[0m \u001b[0;34m%\u001b[0m \u001b[0mstr\u001b[0m\u001b[0;34m(\u001b[0m\u001b[0mdriver\u001b[0m\u001b[0;34m)\u001b[0m\u001b[0;34m\u001b[0m\n",
       "\u001b[0;34m\u001b[0m                \u001b[0;34m)\u001b[0m\u001b[0;34m\u001b[0m\n",
       "\u001b[0;34m\u001b[0m        \u001b[0;32melse\u001b[0m\u001b[0;34m:\u001b[0m\u001b[0;34m\u001b[0m\n",
       "\u001b[0;34m\u001b[0m            \u001b[0;32mraise\u001b[0m \u001b[0mDriverCapabilityError\u001b[0m\u001b[0;34m(\u001b[0m\u001b[0;34m\u001b[0m\n",
       "\u001b[0;34m\u001b[0m                \u001b[0;34m\"mode must be one of 'r', 'r+', or 'w', not %s\"\u001b[0m \u001b[0;34m%\u001b[0m \u001b[0mmode\u001b[0m\u001b[0;34m)\u001b[0m\u001b[0;34m\u001b[0m\n",
       "\u001b[0;34m\u001b[0m        \u001b[0;32mreturn\u001b[0m \u001b[0ms\u001b[0m\u001b[0;34m\u001b[0m\u001b[0;34m\u001b[0m\u001b[0m\n",
       "\u001b[0;31mFile:\u001b[0m      ~/.pyenv/versions/ds-wildfire/lib/python3.8/site-packages/rasterio/__init__.py\n",
       "\u001b[0;31mType:\u001b[0m      function\n"
      ]
     },
     "metadata": {},
     "output_type": "display_data"
    }
   ],
   "source": [
    "rasterio.open??"
   ]
  },
  {
   "cell_type": "code",
   "execution_count": 34,
   "metadata": {},
   "outputs": [
    {
     "data": {
      "text/plain": [
       "'/data/raw_data/s2_aws/tiles/31/T/GJ/2017/7/24/0/B8A_sur.tif'"
      ]
     },
     "execution_count": 34,
     "metadata": {},
     "output_type": "execute_result"
    }
   ],
   "source": [
    "list_of_paths[0][0]"
   ]
  },
  {
   "cell_type": "code",
   "execution_count": 35,
   "metadata": {},
   "outputs": [
    {
     "name": "stderr",
     "output_type": "stream",
     "text": [
      "  0%|          | 0/3 [00:00<?, ?it/s]"
     ]
    },
    {
     "data": {
      "text/plain": [
       "  0%|          | 0/3 [00:00<?, ?it/s]"
      ]
     },
     "execution_count": 35,
     "metadata": {},
     "output_type": "execute_result"
    }
   ],
   "source": [
    "tqdm(SELECTED_BANDS)"
   ]
  },
  {
   "cell_type": "code",
   "execution_count": 39,
   "metadata": {},
   "outputs": [
    {
     "data": {
      "text/plain": [
       "<enumerate at 0x7f39ed19c680>"
      ]
     },
     "execution_count": 39,
     "metadata": {},
     "output_type": "execute_result"
    }
   ],
   "source": [
    "enumerate(SELECTED_BANDS)"
   ]
  },
  {
   "cell_type": "code",
   "execution_count": 40,
   "metadata": {},
   "outputs": [
    {
     "data": {
      "text/plain": [
       "\u001b[0;31mInit signature:\u001b[0m \u001b[0menumerate\u001b[0m\u001b[0;34m(\u001b[0m\u001b[0miterable\u001b[0m\u001b[0;34m,\u001b[0m \u001b[0mstart\u001b[0m\u001b[0;34m=\u001b[0m\u001b[0;36m0\u001b[0m\u001b[0;34m)\u001b[0m\u001b[0;34m\u001b[0m\u001b[0;34m\u001b[0m\u001b[0m\n",
       "\u001b[0;31mDocstring:\u001b[0m     \n",
       "Return an enumerate object.\n",
       "\n",
       "  iterable\n",
       "    an object supporting iteration\n",
       "\n",
       "The enumerate object yields pairs containing a count (from start, which\n",
       "defaults to zero) and a value yielded by the iterable argument.\n",
       "\n",
       "enumerate is useful for obtaining an indexed list:\n",
       "    (0, seq[0]), (1, seq[1]), (2, seq[2]), ...\n",
       "\u001b[0;31mType:\u001b[0m           type\n",
       "\u001b[0;31mSubclasses:\u001b[0m     \n"
      ]
     },
     "metadata": {},
     "output_type": "display_data"
    }
   ],
   "source": [
    "enumerate??"
   ]
  },
  {
   "cell_type": "code",
   "execution_count": 41,
   "metadata": {},
   "outputs": [
    {
     "name": "stderr",
     "output_type": "stream",
     "text": [
      "\n",
      "\n",
      "  0%|          | 0/3 [00:00<?, ?it/s]\u001b[A\u001b[A"
     ]
    },
    {
     "data": {
      "text/plain": [
       "<enumerate at 0x7f39ecef7ac0>"
      ]
     },
     "execution_count": 41,
     "metadata": {},
     "output_type": "execute_result"
    }
   ],
   "source": [
    "enumerate(tqdm(SELECTED_BANDS), start=1)"
   ]
  },
  {
   "cell_type": "code",
   "execution_count": 63,
   "metadata": {},
   "outputs": [],
   "source": [
    "os.makedirs(os.path.join('/data/temporary/robert/ds-wildfire/data/scenes', '31/T/GJ'), exist_ok=True)\n",
    "path_target = os.path.join('/data/temporary/robert/ds-wildfire/data/scenes', '31/T/GJ', date_string +'.jp2')"
   ]
  },
  {
   "cell_type": "code",
   "execution_count": 64,
   "metadata": {},
   "outputs": [],
   "source": [
    "with rasterio.open(path_target, 'w', **meta_source) as dst:\n",
    "     with rasterio.open(list_of_paths[0][0]) as src1:\n",
    "                    dst.write_band(1, src1.read(1))"
   ]
  },
  {
   "cell_type": "code",
   "execution_count": 56,
   "metadata": {},
   "outputs": [
    {
     "data": {
      "text/plain": [
       "'/data/temporary/robert/ds-wildfire/data/scenes/31/T/GJ/2017_07_24.jp2'"
      ]
     },
     "execution_count": 56,
     "metadata": {},
     "output_type": "execute_result"
    }
   ],
   "source": [
    "path_target"
   ]
  },
  {
   "cell_type": "code",
   "execution_count": 49,
   "metadata": {},
   "outputs": [
    {
     "data": {
      "text/plain": [
       "'/data/raw_data/s2_aws/tiles/31/T/GJ/2017/7/24/0/B8A_sur.tif'"
      ]
     },
     "execution_count": 49,
     "metadata": {},
     "output_type": "execute_result"
    }
   ],
   "source": [
    "list_of_paths[0][0]"
   ]
  },
  {
   "cell_type": "code",
   "execution_count": 50,
   "metadata": {},
   "outputs": [
    {
     "data": {
      "text/plain": [
       "'2'"
      ]
     },
     "execution_count": 50,
     "metadata": {},
     "output_type": "execute_result"
    }
   ],
   "source": [
    "date_string[0]\n"
   ]
  },
  {
   "cell_type": "code",
   "execution_count": null,
   "metadata": {},
   "outputs": [],
   "source": [
    "\"\"\"\n",
    "Usage:\n",
    "          merge_bands.py <source_path> <mgrs> <save_path>\n",
    "\n",
    "@ Robert Huppertz 2020, Cervest\n",
    "Loads Selected Bands from image source and produces a merged stack \n",
    "of those bands in target folder\n",
    "\"\"\"\n",
    "\n",
    "#adapted for use with S2 data on the NAS drive\n",
    "\n",
    "import os\n",
    "import rasterio\n",
    "import glob\n",
    "from tqdm import tqdm\n",
    "from docopt import docopt\n",
    "from datetime import datetime\n",
    "\n",
    "# selecting bands that are needed for the task at hand \n",
    "SELECTED_BANDS = ['B8A', 'B11', 'B12']\n",
    "\n",
    "def stack_bands(source_path, mgrs_coordinate, save_path):\n",
    "    \"\"\"\n",
    "    Reads from source and stacks image bands into a single raster file\n",
    "    :param source_path: Path to image source\n",
    "    :param mgrs_coordinate: MGRS coordinate in path format, for example 31/U/FQ\n",
    "    :param save_path: Directory where a stacked raster would be saved\n",
    "    :return:\n",
    "    \"\"\"\n",
    "    path_to_scene = os.path.join(source_path, mgrs_coordinate)\n",
    "    list_of_paths ={}\n",
    "    date={}\n",
    "    date_datetime={}\n",
    "    date_string={}\n",
    "    path_target={}\n",
    "    \n",
    "    #create a directory for the target file \n",
    "    os.makedirs(os.path.join(save_path, mgrs_coordinate), exist_ok=True)\n",
    "\n",
    "    #store the metadata of one BAND and adapt the length to the SELECTED_BANDS\n",
    "\n",
    "    with rasterio.open(list_of_paths[0]) as src0:\n",
    "        meta_source = src0.meta\n",
    "        meta_source.update(count=len(SELECTED_BANDS))\n",
    "    #create lists of paths to the processed images for all existing dates for each SELECTED_BAND \n",
    "    for n in range (0,len(SELECTED_BANDS)):\n",
    "        list_of_paths[n] = glob.glob(path_to_scene+'/*/*/*/*/'+SELECTED_BANDS[n]+'_sur.tif')\n",
    "\n",
    "    #create date list for the selected scene, create target files for stacking images\n",
    "    for i in range (0,len(list_of_paths[0])):\n",
    "        date_index=list_of_paths[0][i].index('201')\n",
    "        date_end_index=list_of_paths[0][i].index(\"/0\")\n",
    "        date[i]=list_of_paths[0][i][date_index:date_end_index]\n",
    "        date_datetime[i] = datetime.strptime(date[i], '%Y/%m/%d')\n",
    "        date_string[i]=date_datetime[i].strftime('%Y_%m_%d')\n",
    "        #create target files for every date\n",
    "        path_target[i] = os.path.join(save_path, mgrs_coordinate, date_string[i] +'.jp2')\n",
    "        \n",
    "    for x in range (0,len(SELECTED_BANDS)):\n",
    "        for y in range (0,len(list_of_paths[0])):\n",
    "            #write SELECTED_BANDS into the target files\n",
    "            with rasterio.open(path_target[y], 'w', **meta_source) as dst:\n",
    "                with rasterio.open(list_of_paths[x][y]) as src1:\n",
    "                    dst.write_band((x+1), src1.read(1))\n",
    "    \n",
    "\n",
    "    \n",
    "    \n",
    "\n",
    "def process_scenes(source_path, mgrs_coordinates, save_path):\n",
    "    \"\"\"\n",
    "    Applies above function to multiple scenes\n",
    "    :param source_path: Path to source images\n",
    "    :param mgrs_coordinates: List of MGRS coordinates, for example ['31UFQ', '31UFO']\n",
    "    :param save_path: Directory where a stacked raster would be saved\n",
    "    \"\"\"\n",
    "    for mgrs in mgrs_coordinates:\n",
    "        stack_bands(source_path, mgrs, save_path)\n",
    "\n",
    " \n",
    "    \n",
    "if __name__ == \"__main__\":\n",
    "    arguments = docopt(__doc__)\n",
    "    source_path = arguments['<source_path>']\n",
    "    save_path = arguments['<save_path>']\n",
    "    mgrs_coordinates = arguments['<mgrs>']\n",
    "    process_scenes(source_path, mgrs_coordinates, save_path)\n",
    "\n",
    "\n",
    "\n"
   ]
  }
 ],
 "metadata": {
  "kernelspec": {
   "display_name": "ds-wildfire",
   "language": "python",
   "name": "ds-wildfire"
  },
  "language_info": {
   "codemirror_mode": {
    "name": "ipython",
    "version": 3
   },
   "file_extension": ".py",
   "mimetype": "text/x-python",
   "name": "python",
   "nbconvert_exporter": "python",
   "pygments_lexer": "ipython3",
   "version": "3.8.2"
  }
 },
 "nbformat": 4,
 "nbformat_minor": 2
}
