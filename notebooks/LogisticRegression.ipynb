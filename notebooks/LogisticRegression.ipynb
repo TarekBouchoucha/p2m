{
 "cells": [
  {
   "cell_type": "code",
   "execution_count": 1,
   "metadata": {},
   "outputs": [],
   "source": [
    "import rasterio\n",
    "import geopandas as gpd\n",
    "import pandas as pd\n",
    "import numpy as np\n",
    "import sys\n",
    "sys.path.append(\"..\")\n",
    "from rasterio import features\n",
    "from affine import Affine\n",
    "import matplotlib.pyplot as plt \n",
    "%matplotlib inline\n",
    "import xarray as xr\n",
    "# import rioxarray\n",
    "import regionmask\n",
    "import glob\n",
    "from shapely.geometry import Polygon, MultiPolygon, shape\n",
    "import src.clipping_functions as cf\n",
    "# from src.clipping_functions import create_mask_from_geom, open_relative_humidity_file, extract_noon_array, shift_longitude_to_negative_coords"
   ]
  },
  {
   "cell_type": "code",
   "execution_count": 2,
   "metadata": {},
   "outputs": [],
   "source": [
    "def mask_RH_w_wildfire_shp(lat, long, nearest_coord):\n",
    "    if (long, lat) == nearest_coord:\n",
    "        return 1\n",
    "    else:\n",
    "        return 0\n",
    "    \n",
    "def nearest_latlong(long, lat, xrArray):\n",
    "    nearest_lat = xrArray.sel(latitude = lat, method='nearest')\n",
    "    nearest_long = xrArray.sel(longitude = long, method='nearest')\n",
    "    return nearest_long.longitude, nearest_lat.latitude"
   ]
  },
  {
   "cell_type": "code",
   "execution_count": null,
   "metadata": {},
   "outputs": [],
   "source": [
    " \n",
    "weather_crs = {'init': 'epsg:4326'}\n",
    "base_path_to_weather_data = \"/data/raw_data/era5/unpacked/R/417331.R.2678.e5.oper.an.pl.128_157_r.ll025sc.\"  #*.nc\"\n",
    "nuts_regions = gpd.read_file( '/data/raw_data/nuts_regions_highres//NUTS_RG_01M_2016_3857.geojson')\n",
    "nuts_regions_changed_crs = nuts_regions.to_crs(weather_crs)\n",
    "france_region = nuts_regions_changed_crs.query(\"NUTS_ID == 'FRJ' and NUTS_ID == 'FRK' and NUTS_ID == 'FRC'and NUTS_ID == 'FRD' \")\n",
    "var_region = nuts_regions_changed_crs.query(\"NUTS_ID == 'FRL'\")\n",
    "shapes = [(shape, n) for n, shape in enumerate(var_region.geometry)]\n",
    "\n",
    "nuts_regions_crs = nuts_regions.crs\n",
    "bb = var_region.iloc[0].geometry.bounds\n",
    "path_to_ground_truth_shp_files = '/data/raw_data/wildfires-ground-truth/france/vars/*.shp'\n",
    "all_ground_truth_path_list = glob.glob(path_to_ground_truth_shp_files)\n"
   ]
  },
  {
   "cell_type": "code",
   "execution_count": null,
   "metadata": {},
   "outputs": [],
   "source": [
    "\n",
    "new_arrary_for_hist = None \n",
    "wildfire_humidities_array = []\n",
    "no_wildfire_humidities_array = []\n",
    "for file in all_ground_truth_path_list:\n",
    "    year = int(file[-14:-10])\n",
    "    if year > 2002 :\n",
    "        wildfire_groud_truth = gpd.read_file(file)\n",
    "        wildfire_ground_truth_changed_crs = wildfire_groud_truth.to_crs(weather_crs)\n",
    "        for index, row in wildfire_ground_truth_changed_crs.iterrows(): \n",
    "            date_of_wildfire_str = row.DATE_ECLOS.replace(\"-\", \"\")\n",
    "            RH_path_for_date = base_path_to_weather_data + date_of_wildfire_str +\"*.nc\"\n",
    "            RH_file_for_date = glob.glob(RH_path_for_date)\n",
    "            open_RH_data = xr.open_dataset(RH_file_for_date[0])\n",
    "            \n",
    "            noon = open_RH_data.time[12]\n",
    "            noon_RH_data = open_RH_data.where(open_RH_data.time == noon, drop=True)\n",
    "            noon_RH_data = noon_RH_data.assign_coords({'longitude': (((noon_RH_data.longitude +180)%360) -180)})\n",
    "            \n",
    "            masks = cf.create_mask_from_geom(geom=var_region.geometry.iloc[0], xrArray=noon_RH_data)\n",
    "            noon_RH_data['mask'] = masks\n",
    "            noon_RH_bound = noon_RH_data.where(noon_RH_data.mask == 0, drop=True)\n",
    "\n",
    "            WF_shp_bounds = row.geometry.bounds\n",
    "            nearest_min_long, nearest_min_lat = nearest_latlong(WF_shp_bounds[0], WF_shp_bounds[1], noon_RH_bound)\n",
    "            nearest_max_long, nearest_max_lat = nearest_latlong(WF_shp_bounds[2], WF_shp_bounds[3], noon_RH_bound)\n",
    "            \n",
    "            nearest_min_coord = (nearest_min_long, nearest_min_lat)\n",
    "            nearest_max_coord = (nearest_max_long, nearest_max_lat)\n",
    "            if nearest_min_coord == nearest_max_coord:\n",
    "                nearest_coord = nearest_min_coord\n",
    "                noon_RH_copy = noon_RH_bound.copy()\n",
    "                noon_RH_clipped = noon_RH_copy.where(noon_RH_copy.longitude == nearest_coord[0].values, 1).where(noon_RH_copy.latitude == nearest_coord[1].values, 1)\n",
    "                noon_RH_bound['WF_mask'] = noon_RH_clipped.mask\n",
    "                no_wildfire_xarray = noon_RH_bound.where(noon_RH_bound.WF_mask == 1, drop=True)\n",
    "                wild_fire_xarray = noon_RH_bound.where(noon_RH_bound.WF_mask == 0, drop=True)   \n",
    "                wildfire_humidities_array = np.hstack((wildfire_humidities_array, np.asarray(wild_fire_xarray.R.to_dict()['data']).flatten()))\n",
    "                no_wildfire_humidities_array = np.hstack((no_wildfire_humidities_array, np.asarray(no_wildfire_xarray.R.to_dict()['data']).flatten()))\n",
    "                \n",
    "\n",
    "hist, bins = np.histogram(wildfire_humidities_array, bins=[0,10,20,30,40,50,60,70,80,90,100])\n",
    "plt.xlabel('Relative humidity %')\n",
    "plt.ylabel('Number of pixels')\n",
    "plt.hist(wildfire_humidities_array, bins=bins, color='blue', alpha=1)\n",
    "plt.hist(no_wildfire_humidities_array, bins=bins, color='red', alpha=0.2)"
   ]
  },
  {
   "cell_type": "code",
   "execution_count": 101,
   "metadata": {},
   "outputs": [
    {
     "data": {
      "text/plain": [
       "(array([0.        , 0.        , 0.00047548, 0.00362556, 0.01396731,\n",
       "        0.03031204, 0.04196137, 0.03869242, 0.02508172, 0.01634473,\n",
       "        0.01135215, 0.00576523, 0.00427935, 0.0028529 , 0.00213967,\n",
       "        0.0010104 , 0.00077266, 0.0008321 , 0.00053492]),\n",
       " array([ 0,  5, 10, 15, 20, 25, 30, 35, 40, 45, 50, 55, 60, 65, 70, 75, 80,\n",
       "        85, 90, 95]),\n",
       " <a list of 19 Patch objects>)"
      ]
     },
     "execution_count": 101,
     "metadata": {},
     "output_type": "execute_result"
    },
    {
     "data": {
      "image/png": "[encoded data removed]",
      "text/plain": [
       "<Figure size 432x288 with 1 Axes>"
      ]
     },
     "metadata": {
      "needs_background": "light"
     },
     "output_type": "display_data"
    }
   ],
   "source": [
    "bins = [i for i in range(0,100,5)]\n",
    "plt.xlabel('Relative humidity %')\n",
    "plt.ylabel('Number of pixels')\n",
    "plt.hist(wildfire_humidities_array, bins=bins, color='blue', alpha=0.5, density=True)\n",
    "plt.hist(no_wildfire_humidities_array, bins=bins, color='red', alpha=0.2, density=True)"
   ]
  },
  {
   "cell_type": "markdown",
   "metadata": {},
   "source": [
    "**References**\n",
    "\n",
    "Check whether a point is inside a Polygon - https://gis.stackexchange.com/questions/208546/check-if-a-point-falls-within-a-multipolygon-with-python"
   ]
  },
  {
   "cell_type": "code",
   "execution_count": null,
   "metadata": {},
   "outputs": [],
   "source": [
    "#         fig, ax = plt.subplots(figsize = (20,16)) \n",
    "#         plt.title(\"NUTS region FRL05 (Var) and ground truth of all wildfires in {}\".format(year))\n",
    "#         var_region.plot(ax=ax)\n",
    "#         france_region.plot(ax=ax)\n",
    "#         wildfire_groud_truth = gpd.read_file(file)\n",
    "#         wildfire_ground_truth_changed_crs = wildfire_groud_truth.to_crs(weather_crs)\n",
    "#         wildfire_ground_truth_changed_crs.plot(color='Red',edgecolor='k',linewidth = 2,ax=ax)\n",
    "            "
   ]
  },
  {
   "cell_type": "code",
   "execution_count": null,
   "metadata": {},
   "outputs": [],
   "source": [
    "# rasterise and mask xarray"
   ]
  },
  {
   "cell_type": "code",
   "execution_count": 74,
   "metadata": {},
   "outputs": [
    {
     "ename": "TypeError",
     "evalue": "'list' object cannot be interpreted as an integer",
     "output_type": "error",
     "traceback": [
      "\u001b[0;31m---------------------------------------------------------------------------\u001b[0m",
      "\u001b[0;31mTypeError\u001b[0m                                 Traceback (most recent call last)",
      "\u001b[0;32m<ipython-input-74-fad171e31beb>\u001b[0m in \u001b[0;36m<module>\u001b[0;34m\u001b[0m\n\u001b[0;32m----> 1\u001b[0;31m \u001b[0mnp\u001b[0m\u001b[0;34m.\u001b[0m\u001b[0mndarray\u001b[0m\u001b[0;34m(\u001b[0m\u001b[0mwild_fire_xarray\u001b[0m\u001b[0;34m.\u001b[0m\u001b[0mR\u001b[0m\u001b[0;34m.\u001b[0m\u001b[0mto_dict\u001b[0m\u001b[0;34m(\u001b[0m\u001b[0;34m)\u001b[0m\u001b[0;34m[\u001b[0m\u001b[0;34m'data'\u001b[0m\u001b[0;34m]\u001b[0m\u001b[0;34m)\u001b[0m\u001b[0;34m\u001b[0m\u001b[0;34m\u001b[0m\u001b[0m\n\u001b[0m",
      "\u001b[0;31mTypeError\u001b[0m: 'list' object cannot be interpreted as an integer"
     ]
    }
   ],
   "source": [
    "np.ndarray(wild_fire_xarray.R.to_dict()['data'])"
   ]
  },
  {
   "cell_type": "code",
   "execution_count": 75,
   "metadata": {},
   "outputs": [
    {
     "data": {
      "text/plain": [
       "[[[[36.53831481933594]]]]"
      ]
     },
     "execution_count": 75,
     "metadata": {},
     "output_type": "execute_result"
    }
   ],
   "source": [
    "wild_fire_xarray.R.to_dict()['data']"
   ]
  },
  {
   "cell_type": "code",
   "execution_count": 86,
   "metadata": {},
   "outputs": [
    {
     "data": {
      "text/plain": [
       "array([[        nan,         nan,         nan,         nan,         nan,\n",
       "                nan,         nan,         nan, 52.85472107, 48.36253357,\n",
       "        48.66331482,         nan,         nan,         nan],\n",
       "       [        nan,         nan,         nan,         nan,         nan,\n",
       "                nan,         nan, 43.48362732, 49.02659607, 45.90550232,\n",
       "        48.77268982, 69.34300232,         nan,         nan],\n",
       "       [        nan,         nan,         nan,         nan,         nan,\n",
       "                nan, 37.06175232, 36.81956482, 44.70628357, 47.26878357,\n",
       "        50.26878357,         nan,         nan,         nan],\n",
       "       [        nan,         nan, 30.03441048, 22.87816048,         nan,\n",
       "                nan, 30.90159798, 33.23753357, 42.28440857, 46.80003357,\n",
       "        49.84690857,         nan,         nan,         nan],\n",
       "       [        nan,         nan,         nan, 22.13987923, 22.77269173,\n",
       "        25.06175423, 28.30003548, 31.93284798, 34.17112732, 36.73753357,\n",
       "        47.56956482, 68.14378357, 83.76487732, 83.81956482],\n",
       "       [        nan,         nan, 33.80784607, 29.65550423, 23.59300423,\n",
       "        22.89769173, 27.09691048, 26.42503548, 24.99144173,         nan,\n",
       "        60.23753357, 81.36253357, 89.84300232,         nan],\n",
       "       [51.30393982, 48.32347107, 47.01487732, 40.59300232, 33.69456482,\n",
       "        37.19456482, 38.49534607, 25.19847298, 20.14378548, 43.93675232,\n",
       "        75.91722107,         nan,         nan,         nan],\n",
       "       [        nan,         nan,         nan,         nan,         nan,\n",
       "        64.12815857, 67.72972107, 46.19065857, 34.58128357, 53.88206482,\n",
       "                nan,         nan,         nan,         nan],\n",
       "       [        nan,         nan,         nan,         nan,         nan,\n",
       "                nan,         nan,         nan, 62.41331482,         nan,\n",
       "                nan,         nan,         nan,         nan]])"
      ]
     },
     "execution_count": 86,
     "metadata": {},
     "output_type": "execute_result"
    }
   ],
   "source": [
    "np.asarray(no_wildfire_xarray.R.to_dict()['data'][0][0])"
   ]
  },
  {
   "cell_type": "code",
   "execution_count": null,
   "metadata": {},
   "outputs": [],
   "source": []
  }
 ],
 "metadata": {
  "kernelspec": {
   "display_name": "test-regionmask",
   "language": "python",
   "name": "test-regionmask"
  },
  "language_info": {
   "codemirror_mode": {
    "name": "ipython",
    "version": 3
   },
   "file_extension": ".py",
   "mimetype": "text/x-python",
   "name": "python",
   "nbconvert_exporter": "python",
   "pygments_lexer": "ipython3",
   "version": "3.8.2"
  }
 },
 "nbformat": 4,
 "nbformat_minor": 2
}
