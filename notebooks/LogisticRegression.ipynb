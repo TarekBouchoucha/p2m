{
 "cells": [
  {
   "cell_type": "code",
   "execution_count": 1,
   "metadata": {},
   "outputs": [],
   "source": [
    "import rasterio\n",
    "import geopandas as gpd\n",
    "import pandas as pd\n",
    "import numpy as np\n",
    "import sys\n",
    "sys.path.append(\"..\")\n",
    "from rasterio import features\n",
    "from affine import Affine\n",
    "import matplotlib.pyplot as plt \n",
    "%matplotlib inline\n",
    "import xarray as xr\n",
    "# import rioxarray\n",
    "import regionmask\n",
    "import glob\n",
    "from shapely.geometry import Polygon, MultiPolygon, shape\n",
    "import src.clipping_functions as cf\n",
    "# from src.clipping_functions import create_mask_from_geom, open_relative_humidity_file, extract_noon_array, nearest_latlong, shift_longitude_to_negative_coords"
   ]
  },
  {
   "cell_type": "code",
   "execution_count": 2,
   "metadata": {},
   "outputs": [
    {
     "name": "stderr",
     "output_type": "stream",
     "text": [
      "/home/ramani/.pyenv/versions/test-regionmask/lib/python3.8/site-packages/pyproj/crs/crs.py:53: FutureWarning: '+init=<authority>:<code>' syntax is deprecated. '<authority>:<code>' is the preferred initialization method. When making the change, be mindful of axis order changes: https://pyproj4.github.io/pyproj/stable/gotchas.html#axis-order-changes-in-proj-6\n",
      "  return _prepare_from_string(\" \".join(pjargs))\n"
     ]
    }
   ],
   "source": [
    " \n",
    "weather_crs = {'init': 'epsg:4326'} #needs to be hard coded in as it is\n",
    "base_path_to_weather_data = \"/data/raw_data/era5/unpacked/R/417331.R.2678.e5.oper.an.pl.128_157_r.ll025sc.\"  \n",
    "nuts_regions_1m = gpd.read_file( '/data/raw_data/nuts_regions_highres//NUTS_RG_01M_2016_3857.geojson')\n",
    "nuts_regions_changed_crs = nuts_regions_1m.to_crs(weather_crs)\n",
    "#analysis done for wildfires in Var region of France\n",
    "var_region = nuts_regions_changed_crs.query(\"NUTS_ID == 'FRL'\")\n",
    "shapes = [(shape, n) for n, shape in enumerate(var_region.geometry)]\n",
    "\n",
    "nuts_regions_1m_crs = nuts_regions_1m.crs\n",
    "bb = var_region.iloc[0].geometry.bounds\n",
    "path_to_ground_truth_shp_files = '/data/raw_data/wildfires-ground-truth/france/vars/*.shp'\n",
    "all_ground_truth_path_list = glob.glob(path_to_ground_truth_shp_files)\n"
   ]
  },
  {
   "cell_type": "code",
   "execution_count": null,
   "metadata": {},
   "outputs": [],
   "source": [
    "combined_RH = []\n",
    "combined_WF = []\n",
    "wildfire_humidities_array = []\n",
    "vars_nuts_code = 'FRL'\n",
    "no_wildfire_humidities_array = []\n",
    "nuts_regions_1m = cf.open_nuts_shp_with_consistent_crs(weather_crs)\n",
    "for file in all_ground_truth_path_list:\n",
    "    year = int(file[-14:-10])\n",
    "    if year > 2002 : #although shapefiles available from 1953 the shapefiles are provided on a yearly instead of daily basis\n",
    "        wildfire_ground_truth_changed_crs = cf.get_consistent_crs_shp_file(file, weather_crs)\n",
    "        for index, row in wildfire_ground_truth_changed_crs.iterrows(): \n",
    "            date_of_wildfire_str = row.DATE_ECLOS.replace(\"-\", \"\")\n",
    "            \n",
    "            open_RH_data = cf.open_RH_file_for_date(date_of_wildfire_str, base_path_to_weather_data)\n",
    "            noon_RH_data = cf.get_noon_RH_data(open_RH_data)\n",
    "            noon_RH_data = cf.change_longitude_to_neg(noon_RH_data)\n",
    "            \n",
    "            noon_RH_bound = cf.mask_RH_data_to_region(nuts_regions_1m, vars_nuts_code, weather_crs, noon_RH_data)\n",
    "            nearest_min_coord, nearest_max_coord = cf.get_nearest_min_max_coords(row, noon_RH_bound)\n",
    "            if nearest_min_coord == nearest_max_coord:\n",
    "                nearest_coord = nearest_min_coord\n",
    "                noon_RH_bound['WF_mask'] = cf.get_wf_mask(noon_RH_bound, nearest_coord)\n",
    "                (noon_RH_bound, nearest_min_coord, neares)\n",
    "                no_wildfire_xarray = noon_RH_bound.where(noon_RH_bound.WF_mask == 1, drop=True)\n",
    "                wild_fire_xarray = noon_RH_bound.where(noon_RH_bound.WF_mask == 0, drop=True)   \n",
    "                wildfire_humidities_array = np.hstack((wildfire_humidities_array, np.asarray(wild_fire_xarray.R.to_dict()['data']).flatten()))\n",
    "                no_wildfire_humidities_array = np.hstack((no_wildfire_humidities_array, np.asarray(no_wildfire_xarray.R.to_dict()['data']).flatten()))\n",
    "                combined_RH.append(noon_RH_bound.R[0][0])\n",
    "                combined_WF.append(noon_RH_bound.WF_mask)"
   ]
  },
  {
   "cell_type": "code",
   "execution_count": 6,
   "metadata": {},
   "outputs": [
    {
     "data": {
      "text/plain": [
       "(array([0.        , 0.00784314, 0.04509804, 0.0372549 , 0.00588235,\n",
       "        0.00196078, 0.00196078, 0.        , 0.        ]),\n",
       " array([ 0, 10, 20, 30, 40, 50, 60, 70, 80, 90]),\n",
       " <a list of 9 Patch objects>)"
      ]
     },
     "execution_count": 6,
     "metadata": {},
     "output_type": "execute_result"
    },
    {
     "data": {
      "image/png": "[encoded data removed]",
      "text/plain": [
       "<Figure size 432x288 with 1 Axes>"
      ]
     },
     "metadata": {
      "needs_background": "light"
     },
     "output_type": "display_data"
    }
   ],
   "source": [
    "bins = [i for i in range(0,100,10)]\n",
    "plt.xlabel('Relative humidity %')\n",
    "plt.ylabel('Number of pixels')\n",
    "plt.hist(no_wildfire_humidities_array, bins=bins, color='red', alpha=0.5, density=True)\n",
    "plt.hist(wildfire_humidities_array, bins=bins, color='blue', alpha=0.5, density=True)"
   ]
  },
  {
   "cell_type": "code",
   "execution_count": null,
   "metadata": {},
   "outputs": [],
   "source": []
  },
  {
   "cell_type": "code",
   "execution_count": null,
   "metadata": {},
   "outputs": [],
   "source": []
  },
  {
   "cell_type": "markdown",
   "metadata": {},
   "source": [
    "**References**\n",
    "\n",
    "Check whether a point is inside a Polygon - https://gis.stackexchange.com/questions/208546/check-if-a-point-falls-within-a-multipolygon-with-python"
   ]
  },
  {
   "cell_type": "code",
   "execution_count": null,
   "metadata": {},
   "outputs": [],
   "source": [
    "#         fig, ax = plt.subplots(figsize = (20,16)) \n",
    "#         plt.title(\"NUTS region FRL05 (Var) and ground truth of all wildfires in {}\".format(year))\n",
    "#         var_region.plot(ax=ax)\n",
    "#         france_region.plot(ax=ax)\n",
    "#         wildfire_groud_truth = gpd.read_file(file)\n",
    "#         wildfire_ground_truth_changed_crs = wildfire_groud_truth.to_crs(weather_crs)\n",
    "#         wildfire_ground_truth_changed_crs.plot(color='Red',edgecolor='k',linewidth = 2,ax=ax)\n",
    "            "
   ]
  },
  {
   "cell_type": "code",
   "execution_count": null,
   "metadata": {},
   "outputs": [],
   "source": [
    "# rasterise and mask xarray"
   ]
  },
  {
   "cell_type": "code",
   "execution_count": null,
   "metadata": {},
   "outputs": [],
   "source": []
  }
 ],
 "metadata": {
  "kernelspec": {
   "display_name": "test-regionmask",
   "language": "python",
   "name": "test-regionmask"
  },
  "language_info": {
   "codemirror_mode": {
    "name": "ipython",
    "version": 3
   },
   "file_extension": ".py",
   "mimetype": "text/x-python",
   "name": "python",
   "nbconvert_exporter": "python",
   "pygments_lexer": "ipython3",
   "version": "3.8.2"
  }
 },
 "nbformat": 4,
 "nbformat_minor": 2
}
