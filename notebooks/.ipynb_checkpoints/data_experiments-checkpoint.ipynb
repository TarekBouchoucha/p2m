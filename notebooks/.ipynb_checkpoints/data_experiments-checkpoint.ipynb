{
 "cells": [
  {
   "cell_type": "code",
   "execution_count": 2,
   "metadata": {},
   "outputs": [],
   "source": [
    "import geopandas as gpd\n",
    "import matplotlib \n",
    "import numpy\n",
    "import earthpy as et\n",
    "import rasterio as rio"
   ]
  },
  {
   "cell_type": "code",
   "execution_count": 3,
   "metadata": {},
   "outputs": [],
   "source": [
    "path='/data/raw_data/s2_aws/tiles/'"
   ]
  },
  {
   "cell_type": "code",
   "execution_count": 4,
   "metadata": {},
   "outputs": [],
   "source": [
    "path_31TGJ=path+'31/T/GJ/'"
   ]
  },
  {
   "cell_type": "code",
   "execution_count": 5,
   "metadata": {},
   "outputs": [],
   "source": [
    "path_exp=path_31TGJ+'2017/6/19/0/B8A_sur.tif'"
   ]
  },
  {
   "cell_type": "code",
   "execution_count": 6,
   "metadata": {},
   "outputs": [],
   "source": [
    "path_groundtruth='/data/raw_data/wildfires-ground-truth/france/vars/'"
   ]
  },
  {
   "cell_type": "code",
   "execution_count": 7,
   "metadata": {},
   "outputs": [],
   "source": [
    "open_file=gpd.read_file(path_groundtruth+'N_DFCI_CONTOUR_FEUX_2017_S_083.shp')"
   ]
  },
  {
   "cell_type": "code",
   "execution_count": 8,
   "metadata": {},
   "outputs": [
    {
     "data": {
      "text/html": [
       "<div>\n",
       "<style scoped>\n",
       "    .dataframe tbody tr th:only-of-type {\n",
       "        vertical-align: middle;\n",
       "    }\n",
       "\n",
       "    .dataframe tbody tr th {\n",
       "        vertical-align: top;\n",
       "    }\n",
       "\n",
       "    .dataframe thead th {\n",
       "        text-align: right;\n",
       "    }\n",
       "</style>\n",
       "<table border=\"1\" class=\"dataframe\">\n",
       "  <thead>\n",
       "    <tr style=\"text-align: right;\">\n",
       "      <th></th>\n",
       "      <th>ID_PROMETH</th>\n",
       "      <th>HEURE_DEBU</th>\n",
       "      <th>COMMUNE_EC</th>\n",
       "      <th>DATE_ECLOS</th>\n",
       "      <th>LIEU_DIT</th>\n",
       "      <th>SURFACE_SI</th>\n",
       "      <th>SURFACE_DE</th>\n",
       "      <th>QUALITE_DO</th>\n",
       "      <th>ENQUETE_FE</th>\n",
       "      <th>OBSERVATIO</th>\n",
       "      <th>geometry</th>\n",
       "    </tr>\n",
       "  </thead>\n",
       "  <tbody>\n",
       "    <tr>\n",
       "      <th>0</th>\n",
       "      <td>2694</td>\n",
       "      <td>13h30</td>\n",
       "      <td>RAMATUELLE</td>\n",
       "      <td>2017-06-07</td>\n",
       "      <td>LA QUESSINE</td>\n",
       "      <td>1.572297e+05</td>\n",
       "      <td>15,64 ha</td>\n",
       "      <td>RELEVE GPS</td>\n",
       "      <td>RCCI_MACHINE-OUTILS</td>\n",
       "      <td>TONDEUSE</td>\n",
       "      <td>MULTIPOLYGON (((996933.218 6240075.129, 996934...</td>\n",
       "    </tr>\n",
       "    <tr>\n",
       "      <th>1</th>\n",
       "      <td>5135</td>\n",
       "      <td>19h35</td>\n",
       "      <td>LA CROIX-VALMER</td>\n",
       "      <td>2017-07-24</td>\n",
       "      <td>GIGARO</td>\n",
       "      <td>0.000000e+00</td>\n",
       "      <td>506 ha</td>\n",
       "      <td>IMAGE SATELLITE SENTINEL</td>\n",
       "      <td>RCCI_JETS OBJETS INCANDESCENTS</td>\n",
       "      <td>Synthèse IMAGE SENTINEL 2 et relevés GPS</td>\n",
       "      <td>MULTIPOLYGON (((996138.181 6237162.083, 996167...</td>\n",
       "    </tr>\n",
       "    <tr>\n",
       "      <th>2</th>\n",
       "      <td>0</td>\n",
       "      <td>None</td>\n",
       "      <td>TRIGANCE</td>\n",
       "      <td>2017-06-15</td>\n",
       "      <td>COLLINE D'ESTELLE</td>\n",
       "      <td>1.158500e+06</td>\n",
       "      <td>115, 80 ha</td>\n",
       "      <td>IMAGE SATELLITE SENTINEL</td>\n",
       "      <td>CANJUERS TIRS MUNITIONS</td>\n",
       "      <td>TRAITEMENT IMAGE SENTINEL 2</td>\n",
       "      <td>POLYGON ((976398.645 6294995.096, 976398.604 6...</td>\n",
       "    </tr>\n",
       "    <tr>\n",
       "      <th>3</th>\n",
       "      <td>4669</td>\n",
       "      <td>23h00</td>\n",
       "      <td>LA LONDE-LES-MAURES</td>\n",
       "      <td>2017-07-25</td>\n",
       "      <td>VAL ROSE</td>\n",
       "      <td>1.423050e+07</td>\n",
       "      <td>1423,05 ha</td>\n",
       "      <td>IMAGE SATELLITE SENTINEL</td>\n",
       "      <td>RCCI _MALVEILLANCE_SUPPOSEE</td>\n",
       "      <td>TRAITEMENT IMAGE SENTINEL 2</td>\n",
       "      <td>MULTIPOLYGON (((967149.726 6232341.320, 967169...</td>\n",
       "    </tr>\n",
       "    <tr>\n",
       "      <th>4</th>\n",
       "      <td>4787</td>\n",
       "      <td>14h30</td>\n",
       "      <td>BORMES-LES-MIMOSAS</td>\n",
       "      <td>2017-07-07</td>\n",
       "      <td>SIOUVETTE</td>\n",
       "      <td>0.000000e+00</td>\n",
       "      <td>4,47 ha</td>\n",
       "      <td>RELEVE GPS</td>\n",
       "      <td>RCCI_JETS OBJETS INCANDESCENTS</td>\n",
       "      <td>SUPPOSEE</td>\n",
       "      <td>POLYGON ((979999.922 6240348.027, 979994.476 6...</td>\n",
       "    </tr>\n",
       "    <tr>\n",
       "      <th>5</th>\n",
       "      <td>2601</td>\n",
       "      <td>13h26</td>\n",
       "      <td>BORMES-LES-MIMOSAS</td>\n",
       "      <td>2017-06-21</td>\n",
       "      <td>HAUT PARA</td>\n",
       "      <td>0.000000e+00</td>\n",
       "      <td>3,17 ha</td>\n",
       "      <td>RELEVE GPS</td>\n",
       "      <td>RCCI_MACHINE-OUTILS</td>\n",
       "      <td>cause accidentelle (travaux forestiers)</td>\n",
       "      <td>POLYGON ((970608.889 6233760.310, 970587.150 6...</td>\n",
       "    </tr>\n",
       "    <tr>\n",
       "      <th>6</th>\n",
       "      <td>5133</td>\n",
       "      <td>22h12</td>\n",
       "      <td>ARTIGUES</td>\n",
       "      <td>2017-07-24</td>\n",
       "      <td>COLLE PELADE</td>\n",
       "      <td>1.780380e+07</td>\n",
       "      <td>1704 ha</td>\n",
       "      <td>IMAGE SATELLITE SENTINEL</td>\n",
       "      <td>RCCI _MALVEILLANCE</td>\n",
       "      <td>TRAITEMENT IMAGE SENTINEL 2</td>\n",
       "      <td>MULTIPOLYGON (((934652.103 6275662.078, 934646...</td>\n",
       "    </tr>\n",
       "    <tr>\n",
       "      <th>7</th>\n",
       "      <td>6496</td>\n",
       "      <td>16h28</td>\n",
       "      <td>FREJUS</td>\n",
       "      <td>2017-09-01</td>\n",
       "      <td>A8 CAPITOU</td>\n",
       "      <td>3.470000e+05</td>\n",
       "      <td>34,7 ha</td>\n",
       "      <td>GPS</td>\n",
       "      <td>RCCI_JETS OBJETS INCANDESCENTS</td>\n",
       "      <td>None</td>\n",
       "      <td>MULTIPOLYGON (((1004320.901 6272550.143, 10042...</td>\n",
       "    </tr>\n",
       "    <tr>\n",
       "      <th>8</th>\n",
       "      <td>6782</td>\n",
       "      <td>22h00</td>\n",
       "      <td>HYERES</td>\n",
       "      <td>2017-09-02</td>\n",
       "      <td>CHEMIN DES MAURES</td>\n",
       "      <td>4.318000e+06</td>\n",
       "      <td>431 ha</td>\n",
       "      <td>RELEVE TERRAIN</td>\n",
       "      <td>RCCI_MALVEILLANCE</td>\n",
       "      <td>None</td>\n",
       "      <td>MULTIPOLYGON (((959136.098 6233651.015, 959161...</td>\n",
       "    </tr>\n",
       "    <tr>\n",
       "      <th>9</th>\n",
       "      <td>0</td>\n",
       "      <td>None</td>\n",
       "      <td>COMPS/ARTUBY</td>\n",
       "      <td>2017-10-08</td>\n",
       "      <td>LA VERRERIE</td>\n",
       "      <td>2.381340e+02</td>\n",
       "      <td>238,13 ha</td>\n",
       "      <td>IMAGE SATELLITE SENTINEL</td>\n",
       "      <td>CANJUERS TIRS MUNITIONS</td>\n",
       "      <td>TRAITEMENT IMAGE SENTINEL 2</td>\n",
       "      <td>MULTIPOLYGON (((980684.678 6292938.727, 980684...</td>\n",
       "    </tr>\n",
       "    <tr>\n",
       "      <th>10</th>\n",
       "      <td>7557</td>\n",
       "      <td>21h15</td>\n",
       "      <td>BORMES-LES-MIMOSAS</td>\n",
       "      <td>2017-10-06</td>\n",
       "      <td>HAUT-PARA</td>\n",
       "      <td>0.000000e+00</td>\n",
       "      <td>2,63 ha</td>\n",
       "      <td>RELEVE GPS</td>\n",
       "      <td>RCCI _MALVEILLANCE_SUPPOSEE</td>\n",
       "      <td>None</td>\n",
       "      <td>POLYGON ((970247.734 6233765.230, 970352.391 6...</td>\n",
       "    </tr>\n",
       "  </tbody>\n",
       "</table>\n",
       "</div>"
      ],
      "text/plain": [
       "    ID_PROMETH HEURE_DEBU           COMMUNE_EC  DATE_ECLOS           LIEU_DIT  \\\n",
       "0         2694      13h30           RAMATUELLE  2017-06-07        LA QUESSINE   \n",
       "1         5135      19h35      LA CROIX-VALMER  2017-07-24             GIGARO   \n",
       "2            0       None             TRIGANCE  2017-06-15  COLLINE D'ESTELLE   \n",
       "3         4669      23h00  LA LONDE-LES-MAURES  2017-07-25           VAL ROSE   \n",
       "4         4787      14h30   BORMES-LES-MIMOSAS  2017-07-07          SIOUVETTE   \n",
       "5         2601      13h26   BORMES-LES-MIMOSAS  2017-06-21          HAUT PARA   \n",
       "6         5133      22h12             ARTIGUES  2017-07-24       COLLE PELADE   \n",
       "7         6496      16h28               FREJUS  2017-09-01         A8 CAPITOU   \n",
       "8         6782      22h00               HYERES  2017-09-02  CHEMIN DES MAURES   \n",
       "9            0       None         COMPS/ARTUBY  2017-10-08        LA VERRERIE   \n",
       "10        7557      21h15   BORMES-LES-MIMOSAS  2017-10-06          HAUT-PARA   \n",
       "\n",
       "      SURFACE_SI  SURFACE_DE                QUALITE_DO  \\\n",
       "0   1.572297e+05    15,64 ha                RELEVE GPS   \n",
       "1   0.000000e+00      506 ha  IMAGE SATELLITE SENTINEL   \n",
       "2   1.158500e+06  115, 80 ha  IMAGE SATELLITE SENTINEL   \n",
       "3   1.423050e+07  1423,05 ha  IMAGE SATELLITE SENTINEL   \n",
       "4   0.000000e+00     4,47 ha                RELEVE GPS   \n",
       "5   0.000000e+00     3,17 ha                RELEVE GPS   \n",
       "6   1.780380e+07     1704 ha  IMAGE SATELLITE SENTINEL   \n",
       "7   3.470000e+05     34,7 ha                       GPS   \n",
       "8   4.318000e+06      431 ha            RELEVE TERRAIN   \n",
       "9   2.381340e+02   238,13 ha  IMAGE SATELLITE SENTINEL   \n",
       "10  0.000000e+00     2,63 ha                RELEVE GPS   \n",
       "\n",
       "                        ENQUETE_FE                                OBSERVATIO  \\\n",
       "0              RCCI_MACHINE-OUTILS                                  TONDEUSE   \n",
       "1   RCCI_JETS OBJETS INCANDESCENTS  Synthèse IMAGE SENTINEL 2 et relevés GPS   \n",
       "2          CANJUERS TIRS MUNITIONS               TRAITEMENT IMAGE SENTINEL 2   \n",
       "3      RCCI _MALVEILLANCE_SUPPOSEE               TRAITEMENT IMAGE SENTINEL 2   \n",
       "4   RCCI_JETS OBJETS INCANDESCENTS                                  SUPPOSEE   \n",
       "5              RCCI_MACHINE-OUTILS   cause accidentelle (travaux forestiers)   \n",
       "6               RCCI _MALVEILLANCE               TRAITEMENT IMAGE SENTINEL 2   \n",
       "7   RCCI_JETS OBJETS INCANDESCENTS                                      None   \n",
       "8                RCCI_MALVEILLANCE                                      None   \n",
       "9          CANJUERS TIRS MUNITIONS               TRAITEMENT IMAGE SENTINEL 2   \n",
       "10     RCCI _MALVEILLANCE_SUPPOSEE                                      None   \n",
       "\n",
       "                                             geometry  \n",
       "0   MULTIPOLYGON (((996933.218 6240075.129, 996934...  \n",
       "1   MULTIPOLYGON (((996138.181 6237162.083, 996167...  \n",
       "2   POLYGON ((976398.645 6294995.096, 976398.604 6...  \n",
       "3   MULTIPOLYGON (((967149.726 6232341.320, 967169...  \n",
       "4   POLYGON ((979999.922 6240348.027, 979994.476 6...  \n",
       "5   POLYGON ((970608.889 6233760.310, 970587.150 6...  \n",
       "6   MULTIPOLYGON (((934652.103 6275662.078, 934646...  \n",
       "7   MULTIPOLYGON (((1004320.901 6272550.143, 10042...  \n",
       "8   MULTIPOLYGON (((959136.098 6233651.015, 959161...  \n",
       "9   MULTIPOLYGON (((980684.678 6292938.727, 980684...  \n",
       "10  POLYGON ((970247.734 6233765.230, 970352.391 6...  "
      ]
     },
     "execution_count": 8,
     "metadata": {},
     "output_type": "execute_result"
    }
   ],
   "source": [
    "open_file"
   ]
  },
  {
   "cell_type": "code",
   "execution_count": 9,
   "metadata": {},
   "outputs": [
    {
     "data": {
      "text/plain": [
       "array([ 925599.38517399, 6226802.40878843, 1004370.88129336,\n",
       "       6296273.15835397])"
      ]
     },
     "execution_count": 9,
     "metadata": {},
     "output_type": "execute_result"
    }
   ],
   "source": [
    "open_file.total_bounds"
   ]
  },
  {
   "cell_type": "code",
   "execution_count": 13,
   "metadata": {},
   "outputs": [
    {
     "data": {
      "text/plain": [
       "<matplotlib.axes._subplots.AxesSubplot at 0x7f82b3b9a1f0>"
      ]
     },
     "execution_count": 13,
     "metadata": {},
     "output_type": "execute_result"
    },
    {
     "data": {
      "image/png": "[encoded data removed]",
      "text/plain": [
       "<Figure size 432x288 with 1 Axes>"
      ]
     },
     "metadata": {
      "needs_background": "light"
     },
     "output_type": "display_data"
    }
   ],
   "source": [
    "open_file.plot()"
   ]
  },
  {
   "cell_type": "markdown",
   "metadata": {},
   "source": [
    "Plotting the shape file polygon with colour map and a legend on the ignition data"
   ]
  },
  {
   "cell_type": "code",
   "execution_count": 14,
   "metadata": {},
   "outputs": [
    {
     "data": {
      "text/plain": [
       "<matplotlib.axes._subplots.AxesSubplot at 0x7f82b3b1cd30>"
      ]
     },
     "execution_count": 14,
     "metadata": {},
     "output_type": "execute_result"
    },
    {
     "data": {
      "image/png": "[encoded data removed]",
      "text/plain": [
       "<Figure size 720x720 with 1 Axes>"
      ]
     },
     "metadata": {
      "needs_background": "light"
     },
     "output_type": "display_data"
    }
   ],
   "source": [
    "open_file.plot(column='DATE_ECLOS', \n",
    "                         categorical=True, \n",
    "                         legend=True, \n",
    "                         figsize=(10,10),\n",
    "                         markersize=45, \n",
    "                         cmap=\"Set2\")"
   ]
  },
  {
   "cell_type": "markdown",
   "metadata": {},
   "source": [
    "Need rasterio and earthpy packages to open up GeoTIFF file:"
   ]
  },
  {
   "cell_type": "code",
   "execution_count": 12,
   "metadata": {},
   "outputs": [],
   "source": [
    "open_s2_file=rio.open(path_exp)"
   ]
  },
  {
   "cell_type": "code",
   "execution_count": 13,
   "metadata": {},
   "outputs": [
    {
     "data": {
      "text/plain": [
       "BoundingBox(left=699960.0, bottom=4790220.0, right=809760.0, top=4900020.0)"
      ]
     },
     "execution_count": 13,
     "metadata": {},
     "output_type": "execute_result"
    }
   ],
   "source": [
    "open_s2_file.bounds"
   ]
  },
  {
   "cell_type": "markdown",
   "metadata": {},
   "source": [
    "Open the metadata:"
   ]
  },
  {
   "cell_type": "code",
   "execution_count": 14,
   "metadata": {},
   "outputs": [
    {
     "data": {
      "text/plain": [
       "{'driver': 'GTiff',\n",
       " 'dtype': 'int16',\n",
       " 'nodata': -9999.0,\n",
       " 'width': 5490,\n",
       " 'height': 5490,\n",
       " 'count': 1,\n",
       " 'crs': CRS.from_epsg(32631),\n",
       " 'transform': Affine(20.0, 0.0, 699960.0,\n",
       "        0.0, -20.0, 4900020.0)}"
      ]
     },
     "execution_count": 14,
     "metadata": {},
     "output_type": "execute_result"
    }
   ],
   "source": [
    "open_s2_file.meta"
   ]
  },
  {
   "cell_type": "markdown",
   "metadata": {},
   "source": [
    "Show the resolution:"
   ]
  },
  {
   "cell_type": "code",
   "execution_count": 15,
   "metadata": {},
   "outputs": [
    {
     "data": {
      "text/plain": [
       "(20.0, 20.0)"
      ]
     },
     "execution_count": 15,
     "metadata": {},
     "output_type": "execute_result"
    }
   ],
   "source": [
    "open_s2_file.res"
   ]
  },
  {
   "cell_type": "markdown",
   "metadata": {},
   "source": [
    "Check the EPSG code"
   ]
  },
  {
   "cell_type": "code",
   "execution_count": 16,
   "metadata": {},
   "outputs": [
    {
     "data": {
      "text/plain": [
       "'+proj=utm +zone=31 +datum=WGS84 +units=m +no_defs'"
      ]
     },
     "execution_count": 16,
     "metadata": {},
     "output_type": "execute_result"
    }
   ],
   "source": [
    "et.epsg['32631']"
   ]
  },
  {
   "cell_type": "code",
   "execution_count": 17,
   "metadata": {},
   "outputs": [
    {
     "name": "stdout",
     "output_type": "stream",
     "text": [
      "{'COMPRESSION': 'DEFLATE', 'INTERLEAVE': 'BAND'}\n"
     ]
    }
   ],
   "source": [
    " print(open_s2_file.tags(ns='IMAGE_STRUCTURE'))"
   ]
  },
  {
   "cell_type": "code",
   "execution_count": 18,
   "metadata": {},
   "outputs": [
    {
     "data": {
      "text/plain": [
       "array([[255, 255, 255, ..., 255, 255, 255],\n",
       "       [255, 255, 255, ..., 255, 255, 255],\n",
       "       [255, 255, 255, ..., 255, 255, 255],\n",
       "       ...,\n",
       "       [255, 255, 255, ..., 255, 255, 255],\n",
       "       [255, 255, 255, ..., 255, 255, 255],\n",
       "       [255, 255, 255, ..., 255, 255, 255]], dtype=uint8)"
      ]
     },
     "execution_count": 18,
     "metadata": {},
     "output_type": "execute_result"
    }
   ],
   "source": [
    "open_s2_file.dataset_mask()"
   ]
  },
  {
   "cell_type": "code",
   "execution_count": 20,
   "metadata": {},
   "outputs": [
    {
     "data": {
      "text/plain": [
       "<open DatasetReader name='/data/raw_data/s2_aws/tiles/31/T/GJ/2017/6/19/0/B8A_sur.tif' mode='r'>"
      ]
     },
     "execution_count": 20,
     "metadata": {},
     "output_type": "execute_result"
    }
   ],
   "source": [
    "open_s2_file"
   ]
  },
  {
   "cell_type": "code",
   "execution_count": null,
   "metadata": {},
   "outputs": [],
   "source": []
  }
 ],
 "metadata": {
  "kernelspec": {
   "display_name": "ds-wildfire",
   "language": "python",
   "name": "ds-wildfire"
  },
  "language_info": {
   "codemirror_mode": {
    "name": "ipython",
    "version": 3
   },
   "file_extension": ".py",
   "mimetype": "text/x-python",
   "name": "python",
   "nbconvert_exporter": "python",
   "pygments_lexer": "ipython3",
   "version": "3.8.2"
  }
 },
 "nbformat": 4,
 "nbformat_minor": 2
}
