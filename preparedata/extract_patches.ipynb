{
 "cells": [
  {
   "cell_type": "code",
   "execution_count": 1,
   "metadata": {},
   "outputs": [
    {
     "name": "stderr",
     "output_type": "stream",
     "text": [
      "/home/robert/.pyenv/versions/ds-wildfire/lib/python3.8/site-packages/typeguard/__init__.py:834: UserWarning: no type annotations present -- not typechecking patching.import_shapefile_for_patches\n",
      "  warn('no type annotations present -- not typechecking {}'.format(function_name(func)))\n"
     ]
    }
   ],
   "source": [
    "from patching import (\n",
    "    import_shapefile_for_patches,\n",
    "    do_the_patching,\n",
    "    store_coco_ground_truth,\n",
    "    import_image,\n",
    ")\n",
    "from patchutils import other"
   ]
  },
  {
   "cell_type": "code",
   "execution_count": 2,
   "metadata": {},
   "outputs": [],
   "source": [
    "from patchutils.coco import save_gt_overlaid\n",
    "from docopt import docopt\n",
    "import os\n",
    "import glob\n",
    "import rasterio\n",
    "import geopandas as gp\n",
    "from matplotlib import pyplot as plt\n",
    "from datetime import datetime, timedelta\n",
    "import geopandas as gpd\n",
    "import numpy as np\n",
    "import pandas as pd\n",
    "\n",
    "\n",
    "num_patches=1000\n",
    "patch_size=128\n",
    "scenes_path=\"/home/robert/ds-wildfire/data/mgrs_scenes\"\n",
    "scenes=\"31/T/GJ\"\n",
    "scenes_string=\"_31_T_GJ_\"\n",
    "shapefile=\"/data/raw_data/wildfires-ground-truth/france/vars/N_DFCI_CONTOUR_FEUX_2017_S_083.shp\"\n",
    "save_path=\"/home/robert/ds-wildfire/data_exp\"\n",
    "class_name=\"DATE_ECLOS\""
   ]
  },
  {
   "cell_type": "code",
   "execution_count": 3,
   "metadata": {},
   "outputs": [],
   "source": [
    "date_datetime = []\n",
    "date_string = []\n",
    "date = []"
   ]
  },
  {
   "cell_type": "code",
   "execution_count": null,
   "metadata": {},
   "outputs": [],
   "source": []
  },
  {
   "cell_type": "code",
   "execution_count": 4,
   "metadata": {},
   "outputs": [],
   "source": [
    "    path_to_store_patches = os.path.join(save_path, \"patches\")\n",
    "    os.makedirs(path_to_store_patches, exist_ok=True)\n",
    "    path_to_store_anno = os.path.join(save_path, \"anno\")\n",
    "    os.makedirs(path_to_store_anno, exist_ok=True)\n",
    "    path_to_store_burn_vis = os.path.join(save_path, \"burn_vis\")\n",
    "    os.makedirs(path_to_store_burn_vis, exist_ok=True)\n",
    "    path_to_store_patches_prev = os.path.join(save_path, \"patches_prev\")\n",
    "    os.makedirs(path_to_store_patches_prev, exist_ok=True)\n",
    "    path_to_store_anno_prev = os.path.join(save_path, \"anno_prev\")\n",
    "    os.makedirs(path_to_store_anno_prev, exist_ok=True)\n",
    "    path_to_store_burn_vis_prev = os.path.join(save_path, \"burn_vis_prev\")\n",
    "    os.makedirs(path_to_store_burn_vis_prev, exist_ok=True)"
   ]
  },
  {
   "cell_type": "code",
   "execution_count": 35,
   "metadata": {},
   "outputs": [
    {
     "data": {
      "text/html": [
       "<div>\n",
       "<style scoped>\n",
       "    .dataframe tbody tr th:only-of-type {\n",
       "        vertical-align: middle;\n",
       "    }\n",
       "\n",
       "    .dataframe tbody tr th {\n",
       "        vertical-align: top;\n",
       "    }\n",
       "\n",
       "    .dataframe thead th {\n",
       "        text-align: right;\n",
       "    }\n",
       "</style>\n",
       "<table border=\"1\" class=\"dataframe\">\n",
       "  <thead>\n",
       "    <tr style=\"text-align: right;\">\n",
       "      <th></th>\n",
       "      <th>ID_PROMETH</th>\n",
       "      <th>HEURE_DEBU</th>\n",
       "      <th>COMMUNE_EC</th>\n",
       "      <th>DATE_ECLOS</th>\n",
       "      <th>LIEU_DIT</th>\n",
       "      <th>SURFACE_SI</th>\n",
       "      <th>SURFACE_DE</th>\n",
       "      <th>QUALITE_DO</th>\n",
       "      <th>ENQUETE_FE</th>\n",
       "      <th>OBSERVATIO</th>\n",
       "      <th>geometry</th>\n",
       "    </tr>\n",
       "  </thead>\n",
       "  <tbody>\n",
       "    <tr>\n",
       "      <th>0</th>\n",
       "      <td>2694</td>\n",
       "      <td>13h30</td>\n",
       "      <td>RAMATUELLE</td>\n",
       "      <td>2017-06-07</td>\n",
       "      <td>LA QUESSINE</td>\n",
       "      <td>157229.745</td>\n",
       "      <td>15,64 ha</td>\n",
       "      <td>RELEVE GPS</td>\n",
       "      <td>RCCI_MACHINE-OUTILS</td>\n",
       "      <td>TONDEUSE</td>\n",
       "      <td>MULTIPOLYGON (((996933.218 6240075.129, 996934...</td>\n",
       "    </tr>\n",
       "    <tr>\n",
       "      <th>2</th>\n",
       "      <td>0</td>\n",
       "      <td>None</td>\n",
       "      <td>TRIGANCE</td>\n",
       "      <td>2017-06-15</td>\n",
       "      <td>COLLINE D'ESTELLE</td>\n",
       "      <td>1158500.000</td>\n",
       "      <td>115, 80 ha</td>\n",
       "      <td>IMAGE SATELLITE SENTINEL</td>\n",
       "      <td>CANJUERS TIRS MUNITIONS</td>\n",
       "      <td>TRAITEMENT IMAGE SENTINEL 2</td>\n",
       "      <td>POLYGON ((976398.645 6294995.096, 976398.604 6...</td>\n",
       "    </tr>\n",
       "    <tr>\n",
       "      <th>4</th>\n",
       "      <td>4787</td>\n",
       "      <td>14h30</td>\n",
       "      <td>BORMES-LES-MIMOSAS</td>\n",
       "      <td>2017-07-07</td>\n",
       "      <td>SIOUVETTE</td>\n",
       "      <td>0.000</td>\n",
       "      <td>4,47 ha</td>\n",
       "      <td>RELEVE GPS</td>\n",
       "      <td>RCCI_JETS OBJETS INCANDESCENTS</td>\n",
       "      <td>SUPPOSEE</td>\n",
       "      <td>POLYGON ((979999.922 6240348.027, 979994.476 6...</td>\n",
       "    </tr>\n",
       "    <tr>\n",
       "      <th>5</th>\n",
       "      <td>2601</td>\n",
       "      <td>13h26</td>\n",
       "      <td>BORMES-LES-MIMOSAS</td>\n",
       "      <td>2017-06-21</td>\n",
       "      <td>HAUT PARA</td>\n",
       "      <td>0.000</td>\n",
       "      <td>3,17 ha</td>\n",
       "      <td>RELEVE GPS</td>\n",
       "      <td>RCCI_MACHINE-OUTILS</td>\n",
       "      <td>cause accidentelle (travaux forestiers)</td>\n",
       "      <td>POLYGON ((970608.889 6233760.310, 970587.150 6...</td>\n",
       "    </tr>\n",
       "  </tbody>\n",
       "</table>\n",
       "</div>"
      ],
      "text/plain": [
       "   ID_PROMETH HEURE_DEBU          COMMUNE_EC  DATE_ECLOS           LIEU_DIT  \\\n",
       "0        2694      13h30          RAMATUELLE  2017-06-07        LA QUESSINE   \n",
       "2           0       None            TRIGANCE  2017-06-15  COLLINE D'ESTELLE   \n",
       "4        4787      14h30  BORMES-LES-MIMOSAS  2017-07-07          SIOUVETTE   \n",
       "5        2601      13h26  BORMES-LES-MIMOSAS  2017-06-21          HAUT PARA   \n",
       "\n",
       "    SURFACE_SI  SURFACE_DE                QUALITE_DO  \\\n",
       "0   157229.745    15,64 ha                RELEVE GPS   \n",
       "2  1158500.000  115, 80 ha  IMAGE SATELLITE SENTINEL   \n",
       "4        0.000     4,47 ha                RELEVE GPS   \n",
       "5        0.000     3,17 ha                RELEVE GPS   \n",
       "\n",
       "                       ENQUETE_FE                               OBSERVATIO  \\\n",
       "0             RCCI_MACHINE-OUTILS                                 TONDEUSE   \n",
       "2         CANJUERS TIRS MUNITIONS              TRAITEMENT IMAGE SENTINEL 2   \n",
       "4  RCCI_JETS OBJETS INCANDESCENTS                                 SUPPOSEE   \n",
       "5             RCCI_MACHINE-OUTILS  cause accidentelle (travaux forestiers)   \n",
       "\n",
       "                                            geometry  \n",
       "0  MULTIPOLYGON (((996933.218 6240075.129, 996934...  \n",
       "2  POLYGON ((976398.645 6294995.096, 976398.604 6...  \n",
       "4  POLYGON ((979999.922 6240348.027, 979994.476 6...  \n",
       "5  POLYGON ((970608.889 6233760.310, 970587.150 6...  "
      ]
     },
     "execution_count": 35,
     "metadata": {},
     "output_type": "execute_result"
    }
   ],
   "source": [
    "gdf = gpd.read_file(shapefile)\n",
    "# load the shapefile data of the 14 days prior to the date of the mgrs scene\n",
    "shapefile_date1=gdf.loc[(gdf['DATE_ECLOS']<map_of_paths.index[10].strftime('%Y-%m-%d'))&(gdf['DATE_ECLOS']>(map_of_paths.index[date_var3]-timedelta(days=45)).strftime('%Y-%m-%d'))]\n",
    "shapefile_date1"
   ]
  },
  {
   "cell_type": "code",
   "execution_count": 36,
   "metadata": {},
   "outputs": [
    {
     "data": {
      "text/html": [
       "<div>\n",
       "<style scoped>\n",
       "    .dataframe tbody tr th:only-of-type {\n",
       "        vertical-align: middle;\n",
       "    }\n",
       "\n",
       "    .dataframe tbody tr th {\n",
       "        vertical-align: top;\n",
       "    }\n",
       "\n",
       "    .dataframe thead th {\n",
       "        text-align: right;\n",
       "    }\n",
       "</style>\n",
       "<table border=\"1\" class=\"dataframe\">\n",
       "  <thead>\n",
       "    <tr style=\"text-align: right;\">\n",
       "      <th></th>\n",
       "      <th>ID_PROMETH</th>\n",
       "      <th>HEURE_DEBU</th>\n",
       "      <th>COMMUNE_EC</th>\n",
       "      <th>DATE_ECLOS</th>\n",
       "      <th>LIEU_DIT</th>\n",
       "      <th>SURFACE_SI</th>\n",
       "      <th>SURFACE_DE</th>\n",
       "      <th>QUALITE_DO</th>\n",
       "      <th>ENQUETE_FE</th>\n",
       "      <th>OBSERVATIO</th>\n",
       "      <th>geometry</th>\n",
       "    </tr>\n",
       "  </thead>\n",
       "  <tbody>\n",
       "    <tr>\n",
       "      <th>0</th>\n",
       "      <td>2694</td>\n",
       "      <td>13h30</td>\n",
       "      <td>RAMATUELLE</td>\n",
       "      <td>2017-06-07</td>\n",
       "      <td>LA QUESSINE</td>\n",
       "      <td>1.572297e+05</td>\n",
       "      <td>15,64 ha</td>\n",
       "      <td>RELEVE GPS</td>\n",
       "      <td>RCCI_MACHINE-OUTILS</td>\n",
       "      <td>TONDEUSE</td>\n",
       "      <td>MULTIPOLYGON (((996933.218 6240075.129, 996934...</td>\n",
       "    </tr>\n",
       "    <tr>\n",
       "      <th>1</th>\n",
       "      <td>5135</td>\n",
       "      <td>19h35</td>\n",
       "      <td>LA CROIX-VALMER</td>\n",
       "      <td>2017-07-24</td>\n",
       "      <td>GIGARO</td>\n",
       "      <td>0.000000e+00</td>\n",
       "      <td>506 ha</td>\n",
       "      <td>IMAGE SATELLITE SENTINEL</td>\n",
       "      <td>RCCI_JETS OBJETS INCANDESCENTS</td>\n",
       "      <td>Synthèse IMAGE SENTINEL 2 et relevés GPS</td>\n",
       "      <td>MULTIPOLYGON (((996138.181 6237162.083, 996167...</td>\n",
       "    </tr>\n",
       "    <tr>\n",
       "      <th>2</th>\n",
       "      <td>0</td>\n",
       "      <td>None</td>\n",
       "      <td>TRIGANCE</td>\n",
       "      <td>2017-06-15</td>\n",
       "      <td>COLLINE D'ESTELLE</td>\n",
       "      <td>1.158500e+06</td>\n",
       "      <td>115, 80 ha</td>\n",
       "      <td>IMAGE SATELLITE SENTINEL</td>\n",
       "      <td>CANJUERS TIRS MUNITIONS</td>\n",
       "      <td>TRAITEMENT IMAGE SENTINEL 2</td>\n",
       "      <td>POLYGON ((976398.645 6294995.096, 976398.604 6...</td>\n",
       "    </tr>\n",
       "    <tr>\n",
       "      <th>3</th>\n",
       "      <td>4669</td>\n",
       "      <td>23h00</td>\n",
       "      <td>LA LONDE-LES-MAURES</td>\n",
       "      <td>2017-07-25</td>\n",
       "      <td>VAL ROSE</td>\n",
       "      <td>1.423050e+07</td>\n",
       "      <td>1423,05 ha</td>\n",
       "      <td>IMAGE SATELLITE SENTINEL</td>\n",
       "      <td>RCCI _MALVEILLANCE_SUPPOSEE</td>\n",
       "      <td>TRAITEMENT IMAGE SENTINEL 2</td>\n",
       "      <td>MULTIPOLYGON (((967149.726 6232341.320, 967169...</td>\n",
       "    </tr>\n",
       "    <tr>\n",
       "      <th>4</th>\n",
       "      <td>4787</td>\n",
       "      <td>14h30</td>\n",
       "      <td>BORMES-LES-MIMOSAS</td>\n",
       "      <td>2017-07-07</td>\n",
       "      <td>SIOUVETTE</td>\n",
       "      <td>0.000000e+00</td>\n",
       "      <td>4,47 ha</td>\n",
       "      <td>RELEVE GPS</td>\n",
       "      <td>RCCI_JETS OBJETS INCANDESCENTS</td>\n",
       "      <td>SUPPOSEE</td>\n",
       "      <td>POLYGON ((979999.922 6240348.027, 979994.476 6...</td>\n",
       "    </tr>\n",
       "    <tr>\n",
       "      <th>5</th>\n",
       "      <td>2601</td>\n",
       "      <td>13h26</td>\n",
       "      <td>BORMES-LES-MIMOSAS</td>\n",
       "      <td>2017-06-21</td>\n",
       "      <td>HAUT PARA</td>\n",
       "      <td>0.000000e+00</td>\n",
       "      <td>3,17 ha</td>\n",
       "      <td>RELEVE GPS</td>\n",
       "      <td>RCCI_MACHINE-OUTILS</td>\n",
       "      <td>cause accidentelle (travaux forestiers)</td>\n",
       "      <td>POLYGON ((970608.889 6233760.310, 970587.150 6...</td>\n",
       "    </tr>\n",
       "    <tr>\n",
       "      <th>6</th>\n",
       "      <td>5133</td>\n",
       "      <td>22h12</td>\n",
       "      <td>ARTIGUES</td>\n",
       "      <td>2017-07-24</td>\n",
       "      <td>COLLE PELADE</td>\n",
       "      <td>1.780380e+07</td>\n",
       "      <td>1704 ha</td>\n",
       "      <td>IMAGE SATELLITE SENTINEL</td>\n",
       "      <td>RCCI _MALVEILLANCE</td>\n",
       "      <td>TRAITEMENT IMAGE SENTINEL 2</td>\n",
       "      <td>MULTIPOLYGON (((934652.103 6275662.078, 934646...</td>\n",
       "    </tr>\n",
       "    <tr>\n",
       "      <th>7</th>\n",
       "      <td>6496</td>\n",
       "      <td>16h28</td>\n",
       "      <td>FREJUS</td>\n",
       "      <td>2017-09-01</td>\n",
       "      <td>A8 CAPITOU</td>\n",
       "      <td>3.470000e+05</td>\n",
       "      <td>34,7 ha</td>\n",
       "      <td>GPS</td>\n",
       "      <td>RCCI_JETS OBJETS INCANDESCENTS</td>\n",
       "      <td>None</td>\n",
       "      <td>MULTIPOLYGON (((1004320.901 6272550.143, 10042...</td>\n",
       "    </tr>\n",
       "    <tr>\n",
       "      <th>8</th>\n",
       "      <td>6782</td>\n",
       "      <td>22h00</td>\n",
       "      <td>HYERES</td>\n",
       "      <td>2017-09-02</td>\n",
       "      <td>CHEMIN DES MAURES</td>\n",
       "      <td>4.318000e+06</td>\n",
       "      <td>431 ha</td>\n",
       "      <td>RELEVE TERRAIN</td>\n",
       "      <td>RCCI_MALVEILLANCE</td>\n",
       "      <td>None</td>\n",
       "      <td>MULTIPOLYGON (((959136.098 6233651.015, 959161...</td>\n",
       "    </tr>\n",
       "    <tr>\n",
       "      <th>9</th>\n",
       "      <td>0</td>\n",
       "      <td>None</td>\n",
       "      <td>COMPS/ARTUBY</td>\n",
       "      <td>2017-10-08</td>\n",
       "      <td>LA VERRERIE</td>\n",
       "      <td>2.381340e+02</td>\n",
       "      <td>238,13 ha</td>\n",
       "      <td>IMAGE SATELLITE SENTINEL</td>\n",
       "      <td>CANJUERS TIRS MUNITIONS</td>\n",
       "      <td>TRAITEMENT IMAGE SENTINEL 2</td>\n",
       "      <td>MULTIPOLYGON (((980684.678 6292938.727, 980684...</td>\n",
       "    </tr>\n",
       "    <tr>\n",
       "      <th>10</th>\n",
       "      <td>7557</td>\n",
       "      <td>21h15</td>\n",
       "      <td>BORMES-LES-MIMOSAS</td>\n",
       "      <td>2017-10-06</td>\n",
       "      <td>HAUT-PARA</td>\n",
       "      <td>0.000000e+00</td>\n",
       "      <td>2,63 ha</td>\n",
       "      <td>RELEVE GPS</td>\n",
       "      <td>RCCI _MALVEILLANCE_SUPPOSEE</td>\n",
       "      <td>None</td>\n",
       "      <td>POLYGON ((970247.734 6233765.230, 970352.391 6...</td>\n",
       "    </tr>\n",
       "  </tbody>\n",
       "</table>\n",
       "</div>"
      ],
      "text/plain": [
       "    ID_PROMETH HEURE_DEBU           COMMUNE_EC  DATE_ECLOS           LIEU_DIT  \\\n",
       "0         2694      13h30           RAMATUELLE  2017-06-07        LA QUESSINE   \n",
       "1         5135      19h35      LA CROIX-VALMER  2017-07-24             GIGARO   \n",
       "2            0       None             TRIGANCE  2017-06-15  COLLINE D'ESTELLE   \n",
       "3         4669      23h00  LA LONDE-LES-MAURES  2017-07-25           VAL ROSE   \n",
       "4         4787      14h30   BORMES-LES-MIMOSAS  2017-07-07          SIOUVETTE   \n",
       "5         2601      13h26   BORMES-LES-MIMOSAS  2017-06-21          HAUT PARA   \n",
       "6         5133      22h12             ARTIGUES  2017-07-24       COLLE PELADE   \n",
       "7         6496      16h28               FREJUS  2017-09-01         A8 CAPITOU   \n",
       "8         6782      22h00               HYERES  2017-09-02  CHEMIN DES MAURES   \n",
       "9            0       None         COMPS/ARTUBY  2017-10-08        LA VERRERIE   \n",
       "10        7557      21h15   BORMES-LES-MIMOSAS  2017-10-06          HAUT-PARA   \n",
       "\n",
       "      SURFACE_SI  SURFACE_DE                QUALITE_DO  \\\n",
       "0   1.572297e+05    15,64 ha                RELEVE GPS   \n",
       "1   0.000000e+00      506 ha  IMAGE SATELLITE SENTINEL   \n",
       "2   1.158500e+06  115, 80 ha  IMAGE SATELLITE SENTINEL   \n",
       "3   1.423050e+07  1423,05 ha  IMAGE SATELLITE SENTINEL   \n",
       "4   0.000000e+00     4,47 ha                RELEVE GPS   \n",
       "5   0.000000e+00     3,17 ha                RELEVE GPS   \n",
       "6   1.780380e+07     1704 ha  IMAGE SATELLITE SENTINEL   \n",
       "7   3.470000e+05     34,7 ha                       GPS   \n",
       "8   4.318000e+06      431 ha            RELEVE TERRAIN   \n",
       "9   2.381340e+02   238,13 ha  IMAGE SATELLITE SENTINEL   \n",
       "10  0.000000e+00     2,63 ha                RELEVE GPS   \n",
       "\n",
       "                        ENQUETE_FE                                OBSERVATIO  \\\n",
       "0              RCCI_MACHINE-OUTILS                                  TONDEUSE   \n",
       "1   RCCI_JETS OBJETS INCANDESCENTS  Synthèse IMAGE SENTINEL 2 et relevés GPS   \n",
       "2          CANJUERS TIRS MUNITIONS               TRAITEMENT IMAGE SENTINEL 2   \n",
       "3      RCCI _MALVEILLANCE_SUPPOSEE               TRAITEMENT IMAGE SENTINEL 2   \n",
       "4   RCCI_JETS OBJETS INCANDESCENTS                                  SUPPOSEE   \n",
       "5              RCCI_MACHINE-OUTILS   cause accidentelle (travaux forestiers)   \n",
       "6               RCCI _MALVEILLANCE               TRAITEMENT IMAGE SENTINEL 2   \n",
       "7   RCCI_JETS OBJETS INCANDESCENTS                                      None   \n",
       "8                RCCI_MALVEILLANCE                                      None   \n",
       "9          CANJUERS TIRS MUNITIONS               TRAITEMENT IMAGE SENTINEL 2   \n",
       "10     RCCI _MALVEILLANCE_SUPPOSEE                                      None   \n",
       "\n",
       "                                             geometry  \n",
       "0   MULTIPOLYGON (((996933.218 6240075.129, 996934...  \n",
       "1   MULTIPOLYGON (((996138.181 6237162.083, 996167...  \n",
       "2   POLYGON ((976398.645 6294995.096, 976398.604 6...  \n",
       "3   MULTIPOLYGON (((967149.726 6232341.320, 967169...  \n",
       "4   POLYGON ((979999.922 6240348.027, 979994.476 6...  \n",
       "5   POLYGON ((970608.889 6233760.310, 970587.150 6...  \n",
       "6   MULTIPOLYGON (((934652.103 6275662.078, 934646...  \n",
       "7   MULTIPOLYGON (((1004320.901 6272550.143, 10042...  \n",
       "8   MULTIPOLYGON (((959136.098 6233651.015, 959161...  \n",
       "9   MULTIPOLYGON (((980684.678 6292938.727, 980684...  \n",
       "10  POLYGON ((970247.734 6233765.230, 970352.391 6...  "
      ]
     },
     "execution_count": 36,
     "metadata": {},
     "output_type": "execute_result"
    }
   ],
   "source": [
    "gdf"
   ]
  },
  {
   "cell_type": "code",
   "execution_count": 23,
   "metadata": {},
   "outputs": [
    {
     "data": {
      "text/html": [
       "<div>\n",
       "<style scoped>\n",
       "    .dataframe tbody tr th:only-of-type {\n",
       "        vertical-align: middle;\n",
       "    }\n",
       "\n",
       "    .dataframe tbody tr th {\n",
       "        vertical-align: top;\n",
       "    }\n",
       "\n",
       "    .dataframe thead th {\n",
       "        text-align: right;\n",
       "    }\n",
       "</style>\n",
       "<table border=\"1\" class=\"dataframe\">\n",
       "  <thead>\n",
       "    <tr style=\"text-align: right;\">\n",
       "      <th></th>\n",
       "      <th>ID_PROMETH</th>\n",
       "      <th>HEURE_DEBU</th>\n",
       "      <th>COMMUNE_EC</th>\n",
       "      <th>DATE_ECLOS</th>\n",
       "      <th>LIEU_DIT</th>\n",
       "      <th>SURFACE_SI</th>\n",
       "      <th>SURFACE_DE</th>\n",
       "      <th>QUALITE_DO</th>\n",
       "      <th>ENQUETE_FE</th>\n",
       "      <th>OBSERVATIO</th>\n",
       "      <th>geometry</th>\n",
       "    </tr>\n",
       "  </thead>\n",
       "  <tbody>\n",
       "    <tr>\n",
       "      <th>0</th>\n",
       "      <td>2694</td>\n",
       "      <td>13h30</td>\n",
       "      <td>RAMATUELLE</td>\n",
       "      <td>2017-06-07</td>\n",
       "      <td>LA QUESSINE</td>\n",
       "      <td>157229.745</td>\n",
       "      <td>15,64 ha</td>\n",
       "      <td>RELEVE GPS</td>\n",
       "      <td>RCCI_MACHINE-OUTILS</td>\n",
       "      <td>TONDEUSE</td>\n",
       "      <td>MULTIPOLYGON (((996933.218 6240075.129, 996934...</td>\n",
       "    </tr>\n",
       "    <tr>\n",
       "      <th>2</th>\n",
       "      <td>0</td>\n",
       "      <td>None</td>\n",
       "      <td>TRIGANCE</td>\n",
       "      <td>2017-06-15</td>\n",
       "      <td>COLLINE D'ESTELLE</td>\n",
       "      <td>1158500.000</td>\n",
       "      <td>115, 80 ha</td>\n",
       "      <td>IMAGE SATELLITE SENTINEL</td>\n",
       "      <td>CANJUERS TIRS MUNITIONS</td>\n",
       "      <td>TRAITEMENT IMAGE SENTINEL 2</td>\n",
       "      <td>POLYGON ((976398.645 6294995.096, 976398.604 6...</td>\n",
       "    </tr>\n",
       "    <tr>\n",
       "      <th>4</th>\n",
       "      <td>4787</td>\n",
       "      <td>14h30</td>\n",
       "      <td>BORMES-LES-MIMOSAS</td>\n",
       "      <td>2017-07-07</td>\n",
       "      <td>SIOUVETTE</td>\n",
       "      <td>0.000</td>\n",
       "      <td>4,47 ha</td>\n",
       "      <td>RELEVE GPS</td>\n",
       "      <td>RCCI_JETS OBJETS INCANDESCENTS</td>\n",
       "      <td>SUPPOSEE</td>\n",
       "      <td>POLYGON ((979999.922 6240348.027, 979994.476 6...</td>\n",
       "    </tr>\n",
       "    <tr>\n",
       "      <th>5</th>\n",
       "      <td>2601</td>\n",
       "      <td>13h26</td>\n",
       "      <td>BORMES-LES-MIMOSAS</td>\n",
       "      <td>2017-06-21</td>\n",
       "      <td>HAUT PARA</td>\n",
       "      <td>0.000</td>\n",
       "      <td>3,17 ha</td>\n",
       "      <td>RELEVE GPS</td>\n",
       "      <td>RCCI_MACHINE-OUTILS</td>\n",
       "      <td>cause accidentelle (travaux forestiers)</td>\n",
       "      <td>POLYGON ((970608.889 6233760.310, 970587.150 6...</td>\n",
       "    </tr>\n",
       "  </tbody>\n",
       "</table>\n",
       "</div>"
      ],
      "text/plain": [
       "   ID_PROMETH HEURE_DEBU          COMMUNE_EC  DATE_ECLOS           LIEU_DIT  \\\n",
       "0        2694      13h30          RAMATUELLE  2017-06-07        LA QUESSINE   \n",
       "2           0       None            TRIGANCE  2017-06-15  COLLINE D'ESTELLE   \n",
       "4        4787      14h30  BORMES-LES-MIMOSAS  2017-07-07          SIOUVETTE   \n",
       "5        2601      13h26  BORMES-LES-MIMOSAS  2017-06-21          HAUT PARA   \n",
       "\n",
       "    SURFACE_SI  SURFACE_DE                QUALITE_DO  \\\n",
       "0   157229.745    15,64 ha                RELEVE GPS   \n",
       "2  1158500.000  115, 80 ha  IMAGE SATELLITE SENTINEL   \n",
       "4        0.000     4,47 ha                RELEVE GPS   \n",
       "5        0.000     3,17 ha                RELEVE GPS   \n",
       "\n",
       "                       ENQUETE_FE                               OBSERVATIO  \\\n",
       "0             RCCI_MACHINE-OUTILS                                 TONDEUSE   \n",
       "2         CANJUERS TIRS MUNITIONS              TRAITEMENT IMAGE SENTINEL 2   \n",
       "4  RCCI_JETS OBJETS INCANDESCENTS                                 SUPPOSEE   \n",
       "5             RCCI_MACHINE-OUTILS  cause accidentelle (travaux forestiers)   \n",
       "\n",
       "                                            geometry  \n",
       "0  MULTIPOLYGON (((996933.218 6240075.129, 996934...  \n",
       "2  POLYGON ((976398.645 6294995.096, 976398.604 6...  \n",
       "4  POLYGON ((979999.922 6240348.027, 979994.476 6...  \n",
       "5  POLYGON ((970608.889 6233760.310, 970587.150 6...  "
      ]
     },
     "execution_count": 23,
     "metadata": {},
     "output_type": "execute_result"
    }
   ],
   "source": [
    "gdf_filter=gdf[\"DATE_ECLOS\"]<map_of_paths.index[10].strftime('%Y-%m-%d')\n",
    "new_gdf=gdf[gdf_filter]\n",
    "new_gdf"
   ]
  },
  {
   "cell_type": "code",
   "execution_count": 30,
   "metadata": {},
   "outputs": [
    {
     "data": {
      "text/html": [
       "<div>\n",
       "<style scoped>\n",
       "    .dataframe tbody tr th:only-of-type {\n",
       "        vertical-align: middle;\n",
       "    }\n",
       "\n",
       "    .dataframe tbody tr th {\n",
       "        vertical-align: top;\n",
       "    }\n",
       "\n",
       "    .dataframe thead th {\n",
       "        text-align: right;\n",
       "    }\n",
       "</style>\n",
       "<table border=\"1\" class=\"dataframe\">\n",
       "  <thead>\n",
       "    <tr style=\"text-align: right;\">\n",
       "      <th></th>\n",
       "      <th>ID_PROMETH</th>\n",
       "      <th>HEURE_DEBU</th>\n",
       "      <th>COMMUNE_EC</th>\n",
       "      <th>DATE_ECLOS</th>\n",
       "      <th>LIEU_DIT</th>\n",
       "      <th>SURFACE_SI</th>\n",
       "      <th>SURFACE_DE</th>\n",
       "      <th>QUALITE_DO</th>\n",
       "      <th>ENQUETE_FE</th>\n",
       "      <th>OBSERVATIO</th>\n",
       "      <th>geometry</th>\n",
       "    </tr>\n",
       "  </thead>\n",
       "  <tbody>\n",
       "    <tr>\n",
       "      <th>2</th>\n",
       "      <td>0</td>\n",
       "      <td>None</td>\n",
       "      <td>TRIGANCE</td>\n",
       "      <td>2017-06-15</td>\n",
       "      <td>COLLINE D'ESTELLE</td>\n",
       "      <td>1158500.0</td>\n",
       "      <td>115, 80 ha</td>\n",
       "      <td>IMAGE SATELLITE SENTINEL</td>\n",
       "      <td>CANJUERS TIRS MUNITIONS</td>\n",
       "      <td>TRAITEMENT IMAGE SENTINEL 2</td>\n",
       "      <td>POLYGON ((976398.645 6294995.096, 976398.604 6...</td>\n",
       "    </tr>\n",
       "    <tr>\n",
       "      <th>4</th>\n",
       "      <td>4787</td>\n",
       "      <td>14h30</td>\n",
       "      <td>BORMES-LES-MIMOSAS</td>\n",
       "      <td>2017-07-07</td>\n",
       "      <td>SIOUVETTE</td>\n",
       "      <td>0.0</td>\n",
       "      <td>4,47 ha</td>\n",
       "      <td>RELEVE GPS</td>\n",
       "      <td>RCCI_JETS OBJETS INCANDESCENTS</td>\n",
       "      <td>SUPPOSEE</td>\n",
       "      <td>POLYGON ((979999.922 6240348.027, 979994.476 6...</td>\n",
       "    </tr>\n",
       "    <tr>\n",
       "      <th>5</th>\n",
       "      <td>2601</td>\n",
       "      <td>13h26</td>\n",
       "      <td>BORMES-LES-MIMOSAS</td>\n",
       "      <td>2017-06-21</td>\n",
       "      <td>HAUT PARA</td>\n",
       "      <td>0.0</td>\n",
       "      <td>3,17 ha</td>\n",
       "      <td>RELEVE GPS</td>\n",
       "      <td>RCCI_MACHINE-OUTILS</td>\n",
       "      <td>cause accidentelle (travaux forestiers)</td>\n",
       "      <td>POLYGON ((970608.889 6233760.310, 970587.150 6...</td>\n",
       "    </tr>\n",
       "  </tbody>\n",
       "</table>\n",
       "</div>"
      ],
      "text/plain": [
       "   ID_PROMETH HEURE_DEBU          COMMUNE_EC  DATE_ECLOS           LIEU_DIT  \\\n",
       "2           0       None            TRIGANCE  2017-06-15  COLLINE D'ESTELLE   \n",
       "4        4787      14h30  BORMES-LES-MIMOSAS  2017-07-07          SIOUVETTE   \n",
       "5        2601      13h26  BORMES-LES-MIMOSAS  2017-06-21          HAUT PARA   \n",
       "\n",
       "   SURFACE_SI  SURFACE_DE                QUALITE_DO  \\\n",
       "2   1158500.0  115, 80 ha  IMAGE SATELLITE SENTINEL   \n",
       "4         0.0     4,47 ha                RELEVE GPS   \n",
       "5         0.0     3,17 ha                RELEVE GPS   \n",
       "\n",
       "                       ENQUETE_FE                               OBSERVATIO  \\\n",
       "2         CANJUERS TIRS MUNITIONS              TRAITEMENT IMAGE SENTINEL 2   \n",
       "4  RCCI_JETS OBJETS INCANDESCENTS                                 SUPPOSEE   \n",
       "5             RCCI_MACHINE-OUTILS  cause accidentelle (travaux forestiers)   \n",
       "\n",
       "                                            geometry  \n",
       "2  POLYGON ((976398.645 6294995.096, 976398.604 6...  \n",
       "4  POLYGON ((979999.922 6240348.027, 979994.476 6...  \n",
       "5  POLYGON ((970608.889 6233760.310, 970587.150 6...  "
      ]
     },
     "execution_count": 30,
     "metadata": {},
     "output_type": "execute_result"
    }
   ],
   "source": [
    "new_gdf=gdf[(gdf[\"DATE_ECLOS\"]<map_of_paths.index[10].strftime('%Y-%m-%d'))&(gdf['DATE_ECLOS']>(map_of_paths.index[10]-timedelta(days=45)).strftime('%Y-%m-%d'))]\n",
    "new_gdf"
   ]
  },
  {
   "cell_type": "code",
   "execution_count": 28,
   "metadata": {},
   "outputs": [
    {
     "data": {
      "text/plain": [
       "Timestamp('2017-07-22 00:00:00')"
      ]
     },
     "execution_count": 28,
     "metadata": {},
     "output_type": "execute_result"
    }
   ],
   "source": [
    "map_of_paths.index[10]"
   ]
  },
  {
   "cell_type": "code",
   "execution_count": 4,
   "metadata": {},
   "outputs": [],
   "source": [
    "path_to_scene = os.path.join(\n",
    "            scenes_path, scenes)\n",
    "        \n",
    "list_of_paths = glob.glob(\n",
    "            path_to_scene + \"/*/*/*/\" + \"*.tif\".format(scenes)\n",
    "        )"
   ]
  },
  {
   "cell_type": "code",
   "execution_count": 7,
   "metadata": {},
   "outputs": [
    {
     "name": "stderr",
     "output_type": "stream",
     "text": [
      "1764it [00:04, 420.09it/s]\n",
      "0it [00:00, ?it/s]\n",
      "0it [00:00, ?it/s]"
     ]
    },
    {
     "name": "stdout",
     "output_type": "stream",
     "text": [
      "Writing new json file... /home/robert/ds-wildfire/data_exp/anno/anno_31_T_GJ_2015-07-30.json\n",
      "'annotations'\n",
      "MGRS tile without annotations: _31_T_GJ_\n"
     ]
    },
    {
     "name": "stderr",
     "output_type": "stream",
     "text": [
      "1764it [00:04, 418.87it/s]\n",
      "0it [00:00, ?it/s]\n",
      "0it [00:00, ?it/s]"
     ]
    },
    {
     "name": "stdout",
     "output_type": "stream",
     "text": [
      "Writing new json file... /home/robert/ds-wildfire/data_exp/anno/anno_31_T_GJ_2015-08-06.json\n",
      "'annotations'\n",
      "MGRS tile without annotations: _31_T_GJ_\n"
     ]
    },
    {
     "name": "stderr",
     "output_type": "stream",
     "text": [
      "1764it [00:04, 420.14it/s]\n",
      "0it [00:00, ?it/s]\n",
      "0it [00:00, ?it/s]"
     ]
    },
    {
     "name": "stdout",
     "output_type": "stream",
     "text": [
      "Writing new json file... /home/robert/ds-wildfire/data_exp/anno/anno_31_T_GJ_2015-08-12.json\n",
      "'annotations'\n",
      "MGRS tile without annotations: _31_T_GJ_\n"
     ]
    },
    {
     "name": "stderr",
     "output_type": "stream",
     "text": [
      "1764it [00:04, 419.56it/s]\n",
      "0it [00:00, ?it/s]\n",
      "0it [00:00, ?it/s]"
     ]
    },
    {
     "name": "stdout",
     "output_type": "stream",
     "text": [
      "Writing new json file... /home/robert/ds-wildfire/data_exp/anno/anno_31_T_GJ_2016-07-11.json\n",
      "'annotations'\n",
      "MGRS tile without annotations: _31_T_GJ_\n"
     ]
    },
    {
     "name": "stderr",
     "output_type": "stream",
     "text": [
      "1764it [00:04, 419.34it/s]\n",
      "0it [00:00, ?it/s]\n",
      "0it [00:00, ?it/s]"
     ]
    },
    {
     "name": "stdout",
     "output_type": "stream",
     "text": [
      "Writing new json file... /home/robert/ds-wildfire/data_exp/anno/anno_31_T_GJ_2016-07-14.json\n",
      "'annotations'\n",
      "MGRS tile without annotations: _31_T_GJ_\n"
     ]
    },
    {
     "name": "stderr",
     "output_type": "stream",
     "text": [
      "1764it [00:04, 419.59it/s]\n",
      "0it [00:00, ?it/s]\n",
      "0it [00:00, ?it/s]"
     ]
    },
    {
     "name": "stdout",
     "output_type": "stream",
     "text": [
      "Writing new json file... /home/robert/ds-wildfire/data_exp/anno/anno_31_T_GJ_2016-07-17.json\n",
      "'annotations'\n",
      "MGRS tile without annotations: _31_T_GJ_\n"
     ]
    },
    {
     "name": "stderr",
     "output_type": "stream",
     "text": [
      "1764it [00:04, 420.24it/s]\n",
      "0it [00:00, ?it/s]\n",
      "0it [00:00, ?it/s]"
     ]
    },
    {
     "name": "stdout",
     "output_type": "stream",
     "text": [
      "Writing new json file... /home/robert/ds-wildfire/data_exp/anno/anno_31_T_GJ_2016-07-21.json\n",
      "'annotations'\n",
      "MGRS tile without annotations: _31_T_GJ_\n"
     ]
    },
    {
     "name": "stderr",
     "output_type": "stream",
     "text": [
      "1764it [00:04, 433.75it/s]\n",
      "0it [00:00, ?it/s]\n",
      "/home/robert/ds-wildfire/preparedata/patchutils/geo.py:146: VisibleDeprecationWarning: Creating an ndarray from ragged nested sequences (which is a list-or-tuple of lists-or-tuples-or ndarrays with different lengths or shapes) is deprecated. If you meant to do this, you must specify 'dtype=object' when creating the ndarray\n",
      "  np.array(geojson[\"coordinates\"]), precision\n",
      "0it [00:00, ?it/s]"
     ]
    },
    {
     "name": "stdout",
     "output_type": "stream",
     "text": [
      "Writing new json file... /home/robert/ds-wildfire/data_exp/anno/anno_31_T_GJ_2017-06-12.json\n",
      "'annotations'\n",
      "MGRS tile without annotations: _31_T_GJ_\n"
     ]
    },
    {
     "name": "stderr",
     "output_type": "stream",
     "text": [
      "1764it [00:04, 423.73it/s]\n",
      "2it [00:00, 238.15it/s]\n"
     ]
    },
    {
     "name": "stdout",
     "output_type": "stream",
     "text": [
      "Writing new json file... /home/robert/ds-wildfire/data_exp/anno/anno_31_T_GJ_2017-06-16.json\n"
     ]
    },
    {
     "name": "stderr",
     "output_type": "stream",
     "text": [
      "/home/robert/ds-wildfire/preparedata/patchutils/geo.py:146: VisibleDeprecationWarning: Creating an ndarray from ragged nested sequences (which is a list-or-tuple of lists-or-tuples-or ndarrays with different lengths or shapes) is deprecated. If you meant to do this, you must specify 'dtype=object' when creating the ndarray\n",
      "  np.array(geojson[\"coordinates\"]), precision\n",
      "1764it [00:04, 424.19it/s]\n",
      "2it [00:00, 189.71it/s]\n"
     ]
    },
    {
     "name": "stdout",
     "output_type": "stream",
     "text": [
      "Writing new json file... /home/robert/ds-wildfire/data_exp/anno/anno_31_T_GJ_2017-06-19.json\n"
     ]
    },
    {
     "name": "stderr",
     "output_type": "stream",
     "text": [
      "/home/robert/ds-wildfire/preparedata/patchutils/geo.py:146: VisibleDeprecationWarning: Creating an ndarray from ragged nested sequences (which is a list-or-tuple of lists-or-tuples-or ndarrays with different lengths or shapes) is deprecated. If you meant to do this, you must specify 'dtype=object' when creating the ndarray\n",
      "  np.array(geojson[\"coordinates\"]), precision\n",
      "1764it [00:04, 424.23it/s]\n",
      "2it [00:00, 234.57it/s]\n"
     ]
    },
    {
     "name": "stdout",
     "output_type": "stream",
     "text": [
      "Writing new json file... /home/robert/ds-wildfire/data_exp/anno/anno_31_T_GJ_2017-07-22.json\n"
     ]
    },
    {
     "name": "stderr",
     "output_type": "stream",
     "text": [
      "/home/robert/ds-wildfire/preparedata/patchutils/geo.py:146: VisibleDeprecationWarning: Creating an ndarray from ragged nested sequences (which is a list-or-tuple of lists-or-tuples-or ndarrays with different lengths or shapes) is deprecated. If you meant to do this, you must specify 'dtype=object' when creating the ndarray\n",
      "  np.array(geojson[\"coordinates\"]), precision\n",
      "1764it [00:04, 424.48it/s]\n",
      "2it [00:00, 126.39it/s]\n"
     ]
    },
    {
     "name": "stdout",
     "output_type": "stream",
     "text": [
      "Writing new json file... /home/robert/ds-wildfire/data_exp/anno/anno_31_T_GJ_2017-07-24.json\n"
     ]
    },
    {
     "name": "stderr",
     "output_type": "stream",
     "text": [
      "/home/robert/ds-wildfire/preparedata/patchutils/geo.py:146: VisibleDeprecationWarning: Creating an ndarray from ragged nested sequences (which is a list-or-tuple of lists-or-tuples-or ndarrays with different lengths or shapes) is deprecated. If you meant to do this, you must specify 'dtype=object' when creating the ndarray\n",
      "  np.array(geojson[\"coordinates\"]), precision\n",
      "1764it [00:04, 401.92it/s]\n",
      "12it [00:00, 295.99it/s]\n"
     ]
    },
    {
     "name": "stdout",
     "output_type": "stream",
     "text": [
      "Writing new json file... /home/robert/ds-wildfire/data_exp/anno/anno_31_T_GJ_2017-07-26.json\n"
     ]
    },
    {
     "name": "stderr",
     "output_type": "stream",
     "text": [
      "/home/robert/ds-wildfire/preparedata/patchutils/geo.py:146: VisibleDeprecationWarning: Creating an ndarray from ragged nested sequences (which is a list-or-tuple of lists-or-tuples-or ndarrays with different lengths or shapes) is deprecated. If you meant to do this, you must specify 'dtype=object' when creating the ndarray\n",
      "  np.array(geojson[\"coordinates\"]), precision\n",
      "1764it [00:04, 402.87it/s]\n",
      "13it [00:00, 302.59it/s]\n"
     ]
    },
    {
     "name": "stdout",
     "output_type": "stream",
     "text": [
      "Writing new json file... /home/robert/ds-wildfire/data_exp/anno/anno_31_T_GJ_2017-09-04.json\n"
     ]
    },
    {
     "name": "stderr",
     "output_type": "stream",
     "text": [
      "/home/robert/ds-wildfire/preparedata/patchutils/geo.py:146: VisibleDeprecationWarning: Creating an ndarray from ragged nested sequences (which is a list-or-tuple of lists-or-tuples-or ndarrays with different lengths or shapes) is deprecated. If you meant to do this, you must specify 'dtype=object' when creating the ndarray\n",
      "  np.array(geojson[\"coordinates\"]), precision\n",
      "1764it [00:04, 401.90it/s]\n",
      "13it [00:00, 294.05it/s]\n"
     ]
    },
    {
     "name": "stdout",
     "output_type": "stream",
     "text": [
      "Writing new json file... /home/robert/ds-wildfire/data_exp/anno/anno_31_T_GJ_2017-09-05.json\n"
     ]
    },
    {
     "name": "stderr",
     "output_type": "stream",
     "text": [
      "/home/robert/ds-wildfire/preparedata/patchutils/geo.py:146: VisibleDeprecationWarning: Creating an ndarray from ragged nested sequences (which is a list-or-tuple of lists-or-tuples-or ndarrays with different lengths or shapes) is deprecated. If you meant to do this, you must specify 'dtype=object' when creating the ndarray\n",
      "  np.array(geojson[\"coordinates\"]), precision\n",
      "1764it [00:04, 402.84it/s]\n",
      "13it [00:00, 222.70it/s]\n"
     ]
    },
    {
     "name": "stdout",
     "output_type": "stream",
     "text": [
      "Writing new json file... /home/robert/ds-wildfire/data_exp/anno/anno_31_T_GJ_2017-09-07.json\n"
     ]
    },
    {
     "name": "stderr",
     "output_type": "stream",
     "text": [
      "/home/robert/ds-wildfire/preparedata/patchutils/geo.py:146: VisibleDeprecationWarning: Creating an ndarray from ragged nested sequences (which is a list-or-tuple of lists-or-tuples-or ndarrays with different lengths or shapes) is deprecated. If you meant to do this, you must specify 'dtype=object' when creating the ndarray\n",
      "  np.array(geojson[\"coordinates\"]), precision\n",
      "1764it [00:04, 402.46it/s]\n",
      "13it [00:00, 220.50it/s]\n"
     ]
    },
    {
     "name": "stdout",
     "output_type": "stream",
     "text": [
      "Writing new json file... /home/robert/ds-wildfire/data_exp/anno/anno_31_T_GJ_2017-10-07.json\n"
     ]
    },
    {
     "name": "stderr",
     "output_type": "stream",
     "text": [
      "/home/robert/ds-wildfire/preparedata/patchutils/geo.py:146: VisibleDeprecationWarning: Creating an ndarray from ragged nested sequences (which is a list-or-tuple of lists-or-tuples-or ndarrays with different lengths or shapes) is deprecated. If you meant to do this, you must specify 'dtype=object' when creating the ndarray\n",
      "  np.array(geojson[\"coordinates\"]), precision\n",
      "1764it [00:04, 392.34it/s]\n",
      "15it [00:00, 249.50it/s]\n"
     ]
    },
    {
     "name": "stdout",
     "output_type": "stream",
     "text": [
      "Writing new json file... /home/robert/ds-wildfire/data_exp/anno/anno_31_T_GJ_2017-10-09.json\n"
     ]
    },
    {
     "name": "stderr",
     "output_type": "stream",
     "text": [
      "/home/robert/ds-wildfire/preparedata/patchutils/geo.py:146: VisibleDeprecationWarning: Creating an ndarray from ragged nested sequences (which is a list-or-tuple of lists-or-tuples-or ndarrays with different lengths or shapes) is deprecated. If you meant to do this, you must specify 'dtype=object' when creating the ndarray\n",
      "  np.array(geojson[\"coordinates\"]), precision\n",
      "1764it [00:04, 390.97it/s]\n",
      "15it [00:00, 271.13it/s]\n"
     ]
    },
    {
     "name": "stdout",
     "output_type": "stream",
     "text": [
      "Writing new json file... /home/robert/ds-wildfire/data_exp/anno/anno_31_T_GJ_2017-10-10.json\n"
     ]
    }
   ],
   "source": [
    "for date_var1 in range (0, len(list_of_paths)):\n",
    "    date_index = list_of_paths[date_var1].index(\"201\")\n",
    "    date_end_index = list_of_paths[date_var1].index(\"/B8A\")\n",
    "    date.append(list_of_paths[date_var1][date_index:date_end_index])\n",
    "    date_datetime.append(datetime.strptime(date[date_var1], '%Y/%m/%d'))\n",
    "\n",
    "\n",
    "# create sorted Pandas series for dates and paths\n",
    "date_file_mapping = {dt: filename for dt, filename in zip(date_datetime, list_of_paths)}\n",
    "map_of_paths=pd.Series(date_file_mapping).sort_index()\n",
    "\n",
    "# create sorted date list\n",
    "for date_var2 in range (0, len(map_of_paths)):  \n",
    "    date_string.append(map_of_paths.index[date_var2].strftime('%Y-%m-%d'))\n",
    "   \n",
    "    \n",
    "for date_var3 in range (0, len(map_of_paths)): \n",
    "    #import image\n",
    "    raster1 = import_image(map_of_paths[date_var3])\n",
    "    raster_meta1 = raster1.meta\n",
    "    \n",
    "    #load the shapefiles\n",
    "    gdf = gpd.read_file(shapefile)\n",
    "    # load the shapefile data of the days prior to the date of the mgrs scene\n",
    "    shapefile_date1=gdf[(gdf[\"DATE_ECLOS\"]<map_of_paths.index[date_var3].strftime('%Y-%m-%d'))]#&(gdf['DATE_ECLOS']>(map_of_paths.index[date_var3]-timedelta(days=45)).strftime('%Y-%m-%d'))]\n",
    "    \n",
    "    #create windows from where shapefile and scenes overlap\n",
    "    patch_dfs1, patch_windows1 = import_shapefile_for_patches(\n",
    "        shapefile_date1, raster1, raster_meta1, patch_size, num_patches, scenes_string + date_string[date_var3]\n",
    "    )\n",
    "    \n",
    "    #patch from the given scenes\n",
    "    do_the_patching(\n",
    "                raster1,\n",
    "                path_to_store_patches,\n",
    "                patch_windows1.keys(),\n",
    "                patch_windows1.values(),\n",
    "                bands=[3,2,1],\n",
    "    )\n",
    "    \n",
    "     # Save annotations\n",
    "    store_coco_ground_truth(\n",
    "        path_to_store_anno, patch_dfs1, patch_size, class_name, scenes_string + date_string[date_var3]\n",
    "    )\n",
    "            \n",
    "\n",
    "    #create overlaid patches with ground truth\n",
    "    try:\n",
    "        save_gt_overlaid(\n",
    "            os.path.join(path_to_store_anno, \"anno{}.json\".format(scenes_string + date_string[date_var3])),\n",
    "            path_to_store_patches,\n",
    "            path_to_store_burn_vis,\n",
    "            )\n",
    "    except Exception as e:\n",
    "        print(e)\n",
    "        print(\"MGRS tile without annotations: {}\".format(scenes_string))\n",
    "\n",
    "    raster1.close()\n",
    "    \n",
    "    #patch image from previous satelite image\n",
    "    \"\"\"\n",
    "    if date_var3>1:\n",
    "        for date_var4 in range (date_var3-2,date_var3):\n",
    "            raster_prev = import_image(map_of_paths[date_var4])\n",
    "            raster_meta_prev = raster_prev.meta\n",
    "        \n",
    "            # load the shapefile data of the days prior to the date of the mgrs scene\n",
    "            shapefile_date_prev=gdf[(gdf[\"DATE_ECLOS\"]<map_of_paths.index[date_var4].strftime('%Y-%m-%d'))]#&(gdf['DATE_ECLOS']>(map_of_paths.index[date_var4]-timedelta(days=45)).strftime('%Y-%m-%d'))]\n",
    "        \n",
    "            patch_dfs_prev, patch_windows_prev = import_shapefile_for_patches(\n",
    "                shapefile_date_prev, raster_prev, raster_meta_prev, patch_size, num_patches, scenes_string + date_string[date_var4]\n",
    "            )\n",
    "    \n",
    "            do_the_patching(\n",
    "                raster_prev,\n",
    "                path_to_store_patches_prev,\n",
    "                patch_windows_prev.keys(),\n",
    "                patch_windows1.values(),\n",
    "                bands=[3,2,1],\n",
    "            )\n",
    "    \n",
    "             # Save annotations\n",
    "            store_coco_ground_truth(\n",
    "            path_to_store_anno_prev, patch_dfs_prev, patch_size, class_name, scenes_string + date_string[date_var4]\n",
    "            )\n",
    "            \n",
    "\n",
    "            #create overlaid patches with ground truth\n",
    "            try:\n",
    "                save_gt_overlaid(\n",
    "                    os.path.join(path_to_store_anno_prev, \"anno{}.json\".format(scenes_string + date_string[date_var4])),\n",
    "                    path_to_store_patches_prev,\n",
    "                    path_to_store_burn_vis_prev,\n",
    "                    )\n",
    "            except Exception as e:\n",
    "                print(e)\n",
    "                print(\"MGRS tile without annotations: {}\".format(scenes_string))\n",
    "\n",
    "            raster_prev.close()\n",
    "        \"\"\""
   ]
  },
  {
   "cell_type": "code",
   "execution_count": 141,
   "metadata": {},
   "outputs": [],
   "source": [
    "import pandas as pd\n",
    "for date_var in range (0, 10):\n",
    "    date_index = list_of_paths[date_var].index(\"201\")\n",
    "    date_end_index = list_of_paths[date_var].index(\"/B8A\")\n",
    "    date[date_var] = list_of_paths[date_var][date_index:date_end_index]\n",
    "    date_datetime[date_var] = datetime.strptime(date[date_var], '%Y/%m/%d')\n",
    "\n",
    "    date_string[date_var]=date_datetime[date_var].strftime('%Y-%m-%d')"
   ]
  },
  {
   "cell_type": "code",
   "execution_count": 142,
   "metadata": {},
   "outputs": [],
   "source": [
    "\n",
    "\n",
    "for date_var in range (0, len(list_of_paths)):\n",
    "    date_index = list_of_paths[date_var].index(\"201\")\n",
    "    date_end_index = list_of_paths[date_var].index(\"/B8A\")\n",
    "    date_datetime.append(datetime.strptime(date[date_var], '%Y/%m/%d'))\n",
    "    \n",
    "    # create sorted Pandas series for dates and paths\n",
    "    date_file_mapping = {dt: filename for dt, filename in zip(date_datetime, list_of_paths)}\n",
    "    map_of_paths=pd.Series(date_file_mapping).sort_index()\n",
    "    \n",
    "    # create sorted date list\n",
    "    date_string.append(map_of_paths.index[date_var].strftime('%Y-%m-%d'))"
   ]
  },
  {
   "cell_type": "code",
   "execution_count": 26,
   "metadata": {},
   "outputs": [
    {
     "data": {
      "text/plain": [
       "['2017-07-24', '2017-07-24', '2017-07-24', '2017-07-24', '2017-07-24']"
      ]
     },
     "execution_count": 26,
     "metadata": {},
     "output_type": "execute_result"
    }
   ],
   "source": [
    "date_string"
   ]
  },
  {
   "cell_type": "code",
   "execution_count": 144,
   "metadata": {},
   "outputs": [
    {
     "data": {
      "text/plain": [
       "['2015-07-30',\n",
       " '2015-08-12',\n",
       " '2015-08-12',\n",
       " '2016-07-11',\n",
       " '2016-07-14',\n",
       " '2016-07-17',\n",
       " '2016-07-21',\n",
       " '2017-10-10',\n",
       " '2017-10-10',\n",
       " '2017-10-10',\n",
       " '2017-10-10',\n",
       " '2017-10-10',\n",
       " '2017-10-10',\n",
       " '2017-10-10',\n",
       " '2017-10-10',\n",
       " '2017-10-10',\n",
       " '2017-10-10',\n",
       " '2017-10-10',\n",
       " '2017-10-10']"
      ]
     },
     "execution_count": 144,
     "metadata": {},
     "output_type": "execute_result"
    }
   ],
   "source": [
    "date_string"
   ]
  },
  {
   "cell_type": "code",
   "execution_count": 108,
   "metadata": {},
   "outputs": [
    {
     "data": {
      "text/plain": [
       "['/home/robert/ds-wildfire/data/mgrs_scenes/31/T/GJ/2015/7/30/B8AB11B12.tif',\n",
       " '/home/robert/ds-wildfire/data/mgrs_scenes/31/T/GJ/2015/8/12/B8AB11B12.tif',\n",
       " '/home/robert/ds-wildfire/data/mgrs_scenes/31/T/GJ/2015/8/6/B8AB11B12.tif',\n",
       " '/home/robert/ds-wildfire/data/mgrs_scenes/31/T/GJ/2016/7/11/B8AB11B12.tif',\n",
       " '/home/robert/ds-wildfire/data/mgrs_scenes/31/T/GJ/2016/7/14/B8AB11B12.tif',\n",
       " '/home/robert/ds-wildfire/data/mgrs_scenes/31/T/GJ/2016/7/17/B8AB11B12.tif',\n",
       " '/home/robert/ds-wildfire/data/mgrs_scenes/31/T/GJ/2016/7/21/B8AB11B12.tif',\n",
       " '/home/robert/ds-wildfire/data/mgrs_scenes/31/T/GJ/2017/10/10/B8AB11B12.tif',\n",
       " '/home/robert/ds-wildfire/data/mgrs_scenes/31/T/GJ/2017/10/7/B8AB11B12.tif',\n",
       " '/home/robert/ds-wildfire/data/mgrs_scenes/31/T/GJ/2017/10/9/B8AB11B12.tif',\n",
       " '/home/robert/ds-wildfire/data/mgrs_scenes/31/T/GJ/2017/6/12/B8AB11B12.tif',\n",
       " '/home/robert/ds-wildfire/data/mgrs_scenes/31/T/GJ/2017/6/16/B8AB11B12.tif',\n",
       " '/home/robert/ds-wildfire/data/mgrs_scenes/31/T/GJ/2017/6/19/B8AB11B12.tif',\n",
       " '/home/robert/ds-wildfire/data/mgrs_scenes/31/T/GJ/2017/7/22/B8AB11B12.tif',\n",
       " '/home/robert/ds-wildfire/data/mgrs_scenes/31/T/GJ/2017/7/24/B8AB11B12.tif',\n",
       " '/home/robert/ds-wildfire/data/mgrs_scenes/31/T/GJ/2017/7/26/B8AB11B12.tif',\n",
       " '/home/robert/ds-wildfire/data/mgrs_scenes/31/T/GJ/2017/9/4/B8AB11B12.tif',\n",
       " '/home/robert/ds-wildfire/data/mgrs_scenes/31/T/GJ/2017/9/5/B8AB11B12.tif',\n",
       " '/home/robert/ds-wildfire/data/mgrs_scenes/31/T/GJ/2017/9/7/B8AB11B12.tif']"
      ]
     },
     "execution_count": 108,
     "metadata": {},
     "output_type": "execute_result"
    }
   ],
   "source": [
    "list_of_paths"
   ]
  },
  {
   "cell_type": "code",
   "execution_count": 110,
   "metadata": {},
   "outputs": [],
   "source": [
    "date_file_mapping = {dt: filename for dt, filename in zip(date_datetime, list_of_paths)}"
   ]
  },
  {
   "cell_type": "code",
   "execution_count": 125,
   "metadata": {},
   "outputs": [
    {
     "data": {
      "text/plain": [
       "2015-07-30    /home/robert/ds-wildfire/data/mgrs_scenes/31/T...\n",
       "2015-08-06    /home/robert/ds-wildfire/data/mgrs_scenes/31/T...\n",
       "2015-08-12    /home/robert/ds-wildfire/data/mgrs_scenes/31/T...\n",
       "2016-07-11    /home/robert/ds-wildfire/data/mgrs_scenes/31/T...\n",
       "2016-07-14    /home/robert/ds-wildfire/data/mgrs_scenes/31/T...\n",
       "2016-07-17    /home/robert/ds-wildfire/data/mgrs_scenes/31/T...\n",
       "2016-07-21    /home/robert/ds-wildfire/data/mgrs_scenes/31/T...\n",
       "2017-06-12    /home/robert/ds-wildfire/data/mgrs_scenes/31/T...\n",
       "2017-06-16    /home/robert/ds-wildfire/data/mgrs_scenes/31/T...\n",
       "2017-06-19    /home/robert/ds-wildfire/data/mgrs_scenes/31/T...\n",
       "2017-07-22    /home/robert/ds-wildfire/data/mgrs_scenes/31/T...\n",
       "2017-07-24    /home/robert/ds-wildfire/data/mgrs_scenes/31/T...\n",
       "2017-07-26    /home/robert/ds-wildfire/data/mgrs_scenes/31/T...\n",
       "2017-09-04    /home/robert/ds-wildfire/data/mgrs_scenes/31/T...\n",
       "2017-09-05    /home/robert/ds-wildfire/data/mgrs_scenes/31/T...\n",
       "2017-09-07    /home/robert/ds-wildfire/data/mgrs_scenes/31/T...\n",
       "2017-10-07    /home/robert/ds-wildfire/data/mgrs_scenes/31/T...\n",
       "2017-10-09    /home/robert/ds-wildfire/data/mgrs_scenes/31/T...\n",
       "2017-10-10    /home/robert/ds-wildfire/data/mgrs_scenes/31/T...\n",
       "dtype: object"
      ]
     },
     "execution_count": 125,
     "metadata": {},
     "output_type": "execute_result"
    }
   ],
   "source": [
    "date_file_mapping = {dt: filename for dt, filename in zip(date_datetime, list_of_paths)}\n",
    "import pandas as pd\n",
    "map_of_paths=pd.Series(date_file_mapping).sort_index()\n",
    "map_of_paths"
   ]
  },
  {
   "cell_type": "code",
   "execution_count": 137,
   "metadata": {},
   "outputs": [
    {
     "data": {
      "text/plain": [
       "Timestamp('2015-07-30 00:00:00')"
      ]
     },
     "execution_count": 137,
     "metadata": {},
     "output_type": "execute_result"
    }
   ],
   "source": [
    "map_of_paths.index[0]"
   ]
  },
  {
   "cell_type": "code",
   "execution_count": null,
   "metadata": {},
   "outputs": [],
   "source": []
  },
  {
   "cell_type": "code",
   "execution_count": 22,
   "metadata": {},
   "outputs": [],
   "source": [
    "date_string.append(map_of_paths.index[0].strftime('%Y-%m-%d'))"
   ]
  },
  {
   "cell_type": "code",
   "execution_count": 25,
   "metadata": {},
   "outputs": [
    {
     "data": {
      "text/plain": [
       "2017-07-24    /home/robert/ds-wildfire/data/mgrs_scenes/31/T...\n",
       "dtype: object"
      ]
     },
     "execution_count": 25,
     "metadata": {},
     "output_type": "execute_result"
    }
   ],
   "source": [
    "map_of_paths\n"
   ]
  },
  {
   "cell_type": "code",
   "execution_count": 31,
   "metadata": {},
   "outputs": [
    {
     "name": "stderr",
     "output_type": "stream",
     "text": [
      "/home/robert/ds-wildfire/preparedata/patchutils/geo.py:146: VisibleDeprecationWarning: Creating an ndarray from ragged nested sequences (which is a list-or-tuple of lists-or-tuples-or ndarrays with different lengths or shapes) is deprecated. If you meant to do this, you must specify 'dtype=object' when creating the ndarray\n",
      "  np.array(geojson[\"coordinates\"]), precision\n",
      "1764it [00:04, 428.07it/s]\n"
     ]
    }
   ],
   "source": [
    "for date_var in range (1, 2):\n",
    "    date_index = list_of_paths[date_var].index(\"201\")\n",
    "    date_end_index = list_of_paths[date_var].index(\"/B8A\")\n",
    "    date[date_var] = list_of_paths[date_var][date_index:date_end_index]\n",
    "    date_datetime[date_var] = datetime.strptime(date[date_var], '%Y/%m/%d')\n",
    "    date_string[date_var]=date_datetime[date_var].strftime('%Y-%m-%d')\n",
    "    raster = import_image(list_of_paths[date_var-1])\n",
    "    raster_meta = raster.meta\n",
    "    \n",
    "    gdf = gpd.read_file(shapefile)\n",
    "    shapefile_date=gdf.loc[(gdf['DATE_ECLOS']<date_string[date_var-1])]\n",
    "    \n",
    "    patch_dfs2, patch_windows2 = import_shapefile_for_patches(\n",
    "        shapefile_date, raster, raster_meta, patch_size, num_patches, scenes_string + date_string[date_var-1]\n",
    "    )"
   ]
  },
  {
   "cell_type": "code",
   "execution_count": 52,
   "metadata": {},
   "outputs": [
    {
     "data": {
      "text/plain": [
       "{'raster_patch101239_31_T_GJ_2017-07-24': {'chip_df':   ID_PROMETH HEURE_DEBU COMMUNE_EC  DATE_ECLOS           LIEU_DIT  SURFACE_SI  \\\n",
       "  0          0       None   TRIGANCE  2017-06-15  COLLINE D'ESTELLE   1158500.0   \n",
       "  \n",
       "     SURFACE_DE                QUALITE_DO               ENQUETE_FE  \\\n",
       "  0  115, 80 ha  IMAGE SATELLITE SENTINEL  CANJUERS TIRS MUNITIONS   \n",
       "  \n",
       "                      OBSERVATIO  \\\n",
       "  0  TRAITEMENT IMAGE SENTINEL 2   \n",
       "  \n",
       "                                              geometry  fid  \n",
       "  0  POLYGON ((105.850 99.716, 105.850 98.716, 106....    0  ,\n",
       "  'chip_window': Window(col_off=3712, row_off=2688, width=128, height=128),\n",
       "  'chip_transform': Affine(20.0, 0.0, 774200.0,\n",
       "         0.0, -20.0, 4846260.0),\n",
       "  'chip_poly': <shapely.geometry.polygon.Polygon at 0x7f2d2a717ac0>},\n",
       " 'raster_patch101281_31_T_GJ_2017-07-24': {'chip_df':   ID_PROMETH HEURE_DEBU COMMUNE_EC  DATE_ECLOS           LIEU_DIT  SURFACE_SI  \\\n",
       "  0          0       None   TRIGANCE  2017-06-15  COLLINE D'ESTELLE   1158500.0   \n",
       "  \n",
       "     SURFACE_DE                QUALITE_DO               ENQUETE_FE  \\\n",
       "  0  115, 80 ha  IMAGE SATELLITE SENTINEL  CANJUERS TIRS MUNITIONS   \n",
       "  \n",
       "                      OBSERVATIO  \\\n",
       "  0  TRAITEMENT IMAGE SENTINEL 2   \n",
       "  \n",
       "                                              geometry  fid  \n",
       "  0  POLYGON ((0.000 65.716, 0.850 65.716, 0.850 62...    0  ,\n",
       "  'chip_window': Window(col_off=3840, row_off=2688, width=128, height=128),\n",
       "  'chip_transform': Affine(20.0, 0.0, 776760.0,\n",
       "         0.0, -20.0, 4846260.0),\n",
       "  'chip_poly': <shapely.geometry.polygon.Polygon at 0x7f2d2a7176d0>}}"
      ]
     },
     "execution_count": 52,
     "metadata": {},
     "output_type": "execute_result"
    }
   ],
   "source": [
    "patch_dfs1"
   ]
  },
  {
   "cell_type": "code",
   "execution_count": 154,
   "metadata": {},
   "outputs": [
    {
     "data": {
      "text/plain": [
       "{'raster_patch101239_31_T_GJ_2017-07-24': Window(col_off=3712, row_off=2688, width=128, height=128),\n",
       " 'raster_patch101281_31_T_GJ_2017-07-24': Window(col_off=3840, row_off=2688, width=128, height=128)}"
      ]
     },
     "execution_count": 154,
     "metadata": {},
     "output_type": "execute_result"
    }
   ],
   "source": [
    "patch_windows"
   ]
  },
  {
   "cell_type": "code",
   "execution_count": 149,
   "metadata": {},
   "outputs": [
    {
     "data": {
      "text/plain": [
       "{'raster_patch101239_31_T_GJ_2017-10-07': {'chip_df':   ID_PROMETH HEURE_DEBU COMMUNE_EC  DATE_ECLOS           LIEU_DIT  SURFACE_SI  \\\n",
       "  0          0       None   TRIGANCE  2017-06-15  COLLINE D'ESTELLE   1158500.0   \n",
       "  \n",
       "     SURFACE_DE                QUALITE_DO               ENQUETE_FE  \\\n",
       "  0  115, 80 ha  IMAGE SATELLITE SENTINEL  CANJUERS TIRS MUNITIONS   \n",
       "  \n",
       "                      OBSERVATIO  \\\n",
       "  0  TRAITEMENT IMAGE SENTINEL 2   \n",
       "  \n",
       "                                              geometry  fid  \n",
       "  0  POLYGON ((105.850 99.716, 105.850 98.716, 106....    0  ,\n",
       "  'chip_window': Window(col_off=3712, row_off=2688, width=128, height=128),\n",
       "  'chip_transform': Affine(20.0, 0.0, 774200.0,\n",
       "         0.0, -20.0, 4846260.0),\n",
       "  'chip_poly': <shapely.geometry.polygon.Polygon at 0x7f2d2a70d670>},\n",
       " 'raster_patch101281_31_T_GJ_2017-10-07': {'chip_df':   ID_PROMETH HEURE_DEBU COMMUNE_EC  DATE_ECLOS           LIEU_DIT  SURFACE_SI  \\\n",
       "  0          0       None   TRIGANCE  2017-06-15  COLLINE D'ESTELLE   1158500.0   \n",
       "  \n",
       "     SURFACE_DE                QUALITE_DO               ENQUETE_FE  \\\n",
       "  0  115, 80 ha  IMAGE SATELLITE SENTINEL  CANJUERS TIRS MUNITIONS   \n",
       "  \n",
       "                      OBSERVATIO  \\\n",
       "  0  TRAITEMENT IMAGE SENTINEL 2   \n",
       "  \n",
       "                                              geometry  fid  \n",
       "  0  POLYGON ((0.000 65.716, 0.850 65.716, 0.850 62...    0  ,\n",
       "  'chip_window': Window(col_off=3840, row_off=2688, width=128, height=128),\n",
       "  'chip_transform': Affine(20.0, 0.0, 776760.0,\n",
       "         0.0, -20.0, 4846260.0),\n",
       "  'chip_poly': <shapely.geometry.polygon.Polygon at 0x7f2d2a70d820>}}"
      ]
     },
     "execution_count": 149,
     "metadata": {},
     "output_type": "execute_result"
    }
   ],
   "source": [
    "patch_dfs2"
   ]
  },
  {
   "cell_type": "code",
   "execution_count": 13,
   "metadata": {},
   "outputs": [
    {
     "name": "stderr",
     "output_type": "stream",
     "text": [
      "1764it [00:04, 424.66it/s]\n",
      "0it [00:00, ?it/s]\n",
      "0it [00:00, ?it/s]"
     ]
    },
    {
     "name": "stdout",
     "output_type": "stream",
     "text": [
      "Writing new json file... /home/robert/ds-wildfire/data/anno/anno_31_T_GJ_2015-08-06.json\n",
      "'annotations'\n",
      "MGRS tile without annotations: _31_T_GJ_2015-08-06\n"
     ]
    },
    {
     "name": "stderr",
     "output_type": "stream",
     "text": [
      "1764it [00:04, 424.21it/s]\n",
      "0it [00:00, ?it/s]\n",
      "0it [00:00, ?it/s]"
     ]
    },
    {
     "name": "stdout",
     "output_type": "stream",
     "text": [
      "Writing new json file... /home/robert/ds-wildfire/data/anno/anno_31_T_GJ_2015-08-12.json\n",
      "'annotations'\n",
      "MGRS tile without annotations: _31_T_GJ_2015-08-12\n"
     ]
    },
    {
     "name": "stderr",
     "output_type": "stream",
     "text": [
      "1764it [00:04, 425.90it/s]\n",
      "0it [00:00, ?it/s]\n",
      "0it [00:00, ?it/s]"
     ]
    },
    {
     "name": "stdout",
     "output_type": "stream",
     "text": [
      "Writing new json file... /home/robert/ds-wildfire/data/anno/anno_31_T_GJ_2015-07-30.json\n",
      "'annotations'\n",
      "MGRS tile without annotations: _31_T_GJ_2015-07-30\n"
     ]
    },
    {
     "name": "stderr",
     "output_type": "stream",
     "text": [
      "1764it [00:04, 425.30it/s]\n",
      "0it [00:00, ?it/s]\n",
      "0it [00:00, ?it/s]"
     ]
    },
    {
     "name": "stdout",
     "output_type": "stream",
     "text": [
      "Writing new json file... /home/robert/ds-wildfire/data/anno/anno_31_T_GJ_2016-07-11.json\n",
      "'annotations'\n",
      "MGRS tile without annotations: _31_T_GJ_2016-07-11\n"
     ]
    },
    {
     "name": "stderr",
     "output_type": "stream",
     "text": [
      "1764it [00:04, 425.60it/s]\n",
      "0it [00:00, ?it/s]\n",
      "0it [00:00, ?it/s]"
     ]
    },
    {
     "name": "stdout",
     "output_type": "stream",
     "text": [
      "Writing new json file... /home/robert/ds-wildfire/data/anno/anno_31_T_GJ_2016-07-21.json\n",
      "'annotations'\n",
      "MGRS tile without annotations: _31_T_GJ_2016-07-21\n"
     ]
    },
    {
     "name": "stderr",
     "output_type": "stream",
     "text": [
      "1764it [00:04, 424.63it/s]\n",
      "0it [00:00, ?it/s]\n",
      "0it [00:00, ?it/s]"
     ]
    },
    {
     "name": "stdout",
     "output_type": "stream",
     "text": [
      "Writing new json file... /home/robert/ds-wildfire/data/anno/anno_31_T_GJ_2016-07-17.json\n",
      "'annotations'\n",
      "MGRS tile without annotations: _31_T_GJ_2016-07-17\n"
     ]
    },
    {
     "name": "stderr",
     "output_type": "stream",
     "text": [
      "1764it [00:04, 425.34it/s]\n",
      "0it [00:00, ?it/s]\n",
      "/home/robert/ds-wildfire/preparedata/patchutils/geo.py:146: VisibleDeprecationWarning: Creating an ndarray from ragged nested sequences (which is a list-or-tuple of lists-or-tuples-or ndarrays with different lengths or shapes) is deprecated. If you meant to do this, you must specify 'dtype=object' when creating the ndarray\n",
      "  np.array(geojson[\"coordinates\"]), precision\n",
      "0it [00:00, ?it/s]"
     ]
    },
    {
     "name": "stdout",
     "output_type": "stream",
     "text": [
      "Writing new json file... /home/robert/ds-wildfire/data/anno/anno_31_T_GJ_2016-07-14.json\n",
      "'annotations'\n",
      "MGRS tile without annotations: _31_T_GJ_2016-07-14\n"
     ]
    },
    {
     "name": "stderr",
     "output_type": "stream",
     "text": [
      "1764it [00:04, 429.85it/s]\n",
      "2it [00:00, 245.21it/s]\n"
     ]
    },
    {
     "name": "stdout",
     "output_type": "stream",
     "text": [
      "Writing new json file... /home/robert/ds-wildfire/data/anno/anno_31_T_GJ_2017-06-16.json\n"
     ]
    },
    {
     "name": "stderr",
     "output_type": "stream",
     "text": [
      "/home/robert/ds-wildfire/preparedata/patchutils/geo.py:146: VisibleDeprecationWarning: Creating an ndarray from ragged nested sequences (which is a list-or-tuple of lists-or-tuples-or ndarrays with different lengths or shapes) is deprecated. If you meant to do this, you must specify 'dtype=object' when creating the ndarray\n",
      "  np.array(geojson[\"coordinates\"]), precision\n",
      "1764it [00:04, 430.34it/s]\n",
      "2it [00:00, 187.85it/s]\n"
     ]
    },
    {
     "name": "stdout",
     "output_type": "stream",
     "text": [
      "Writing new json file... /home/robert/ds-wildfire/data/anno/anno_31_T_GJ_2017-06-19.json\n"
     ]
    },
    {
     "name": "stderr",
     "output_type": "stream",
     "text": [
      "1764it [00:04, 438.00it/s]\n",
      "0it [00:00, ?it/s]\n"
     ]
    },
    {
     "name": "stdout",
     "output_type": "stream",
     "text": [
      "Writing new json file... /home/robert/ds-wildfire/data/anno/anno_31_T_GJ_2017-06-12.json\n",
      "'annotations'\n",
      "MGRS tile without annotations: _31_T_GJ_2017-06-12\n"
     ]
    },
    {
     "name": "stderr",
     "output_type": "stream",
     "text": [
      "/home/robert/ds-wildfire/preparedata/patchutils/geo.py:146: VisibleDeprecationWarning: Creating an ndarray from ragged nested sequences (which is a list-or-tuple of lists-or-tuples-or ndarrays with different lengths or shapes) is deprecated. If you meant to do this, you must specify 'dtype=object' when creating the ndarray\n",
      "  np.array(geojson[\"coordinates\"]), precision\n",
      "1764it [00:04, 405.12it/s]\n",
      "13it [00:00, 206.92it/s]\n"
     ]
    },
    {
     "name": "stdout",
     "output_type": "stream",
     "text": [
      "Writing new json file... /home/robert/ds-wildfire/data/anno/anno_31_T_GJ_2017-09-07.json\n"
     ]
    },
    {
     "name": "stderr",
     "output_type": "stream",
     "text": [
      "/home/robert/ds-wildfire/preparedata/patchutils/geo.py:146: VisibleDeprecationWarning: Creating an ndarray from ragged nested sequences (which is a list-or-tuple of lists-or-tuples-or ndarrays with different lengths or shapes) is deprecated. If you meant to do this, you must specify 'dtype=object' when creating the ndarray\n",
      "  np.array(geojson[\"coordinates\"]), precision\n",
      "1764it [00:04, 406.31it/s]\n",
      "13it [00:00, 274.79it/s]\n"
     ]
    },
    {
     "name": "stdout",
     "output_type": "stream",
     "text": [
      "Writing new json file... /home/robert/ds-wildfire/data/anno/anno_31_T_GJ_2017-09-04.json\n"
     ]
    },
    {
     "name": "stderr",
     "output_type": "stream",
     "text": [
      "/home/robert/ds-wildfire/preparedata/patchutils/geo.py:146: VisibleDeprecationWarning: Creating an ndarray from ragged nested sequences (which is a list-or-tuple of lists-or-tuples-or ndarrays with different lengths or shapes) is deprecated. If you meant to do this, you must specify 'dtype=object' when creating the ndarray\n",
      "  np.array(geojson[\"coordinates\"]), precision\n",
      "1764it [00:04, 405.55it/s]\n",
      "13it [00:00, 302.03it/s]\n"
     ]
    },
    {
     "name": "stdout",
     "output_type": "stream",
     "text": [
      "Writing new json file... /home/robert/ds-wildfire/data/anno/anno_31_T_GJ_2017-09-05.json\n"
     ]
    },
    {
     "name": "stderr",
     "output_type": "stream",
     "text": [
      "/home/robert/ds-wildfire/preparedata/patchutils/geo.py:146: VisibleDeprecationWarning: Creating an ndarray from ragged nested sequences (which is a list-or-tuple of lists-or-tuples-or ndarrays with different lengths or shapes) is deprecated. If you meant to do this, you must specify 'dtype=object' when creating the ndarray\n",
      "  np.array(geojson[\"coordinates\"]), precision\n",
      "1764it [00:04, 430.14it/s]\n",
      "2it [00:00, 258.13it/s]\n"
     ]
    },
    {
     "name": "stdout",
     "output_type": "stream",
     "text": [
      "Writing new json file... /home/robert/ds-wildfire/data/anno/anno_31_T_GJ_2017-07-22.json\n"
     ]
    },
    {
     "name": "stderr",
     "output_type": "stream",
     "text": [
      "/home/robert/ds-wildfire/preparedata/patchutils/geo.py:146: VisibleDeprecationWarning: Creating an ndarray from ragged nested sequences (which is a list-or-tuple of lists-or-tuples-or ndarrays with different lengths or shapes) is deprecated. If you meant to do this, you must specify 'dtype=object' when creating the ndarray\n",
      "  np.array(geojson[\"coordinates\"]), precision\n",
      "1764it [00:04, 432.20it/s]\n",
      "2it [00:00, 189.27it/s]\n"
     ]
    },
    {
     "name": "stdout",
     "output_type": "stream",
     "text": [
      "Writing new json file... /home/robert/ds-wildfire/data/anno/anno_31_T_GJ_2017-07-24.json\n"
     ]
    },
    {
     "name": "stderr",
     "output_type": "stream",
     "text": [
      "/home/robert/ds-wildfire/preparedata/patchutils/geo.py:146: VisibleDeprecationWarning: Creating an ndarray from ragged nested sequences (which is a list-or-tuple of lists-or-tuples-or ndarrays with different lengths or shapes) is deprecated. If you meant to do this, you must specify 'dtype=object' when creating the ndarray\n",
      "  np.array(geojson[\"coordinates\"]), precision\n",
      "1764it [00:04, 408.87it/s]\n",
      "12it [00:00, 277.66it/s]\n"
     ]
    },
    {
     "name": "stdout",
     "output_type": "stream",
     "text": [
      "Writing new json file... /home/robert/ds-wildfire/data/anno/anno_31_T_GJ_2017-07-26.json\n"
     ]
    },
    {
     "name": "stderr",
     "output_type": "stream",
     "text": [
      "/home/robert/ds-wildfire/preparedata/patchutils/geo.py:146: VisibleDeprecationWarning: Creating an ndarray from ragged nested sequences (which is a list-or-tuple of lists-or-tuples-or ndarrays with different lengths or shapes) is deprecated. If you meant to do this, you must specify 'dtype=object' when creating the ndarray\n",
      "  np.array(geojson[\"coordinates\"]), precision\n",
      "1764it [00:04, 397.42it/s]\n",
      "15it [00:00, 301.40it/s]\n"
     ]
    },
    {
     "name": "stdout",
     "output_type": "stream",
     "text": [
      "Writing new json file... /home/robert/ds-wildfire/data/anno/anno_31_T_GJ_2017-10-09.json\n"
     ]
    },
    {
     "name": "stderr",
     "output_type": "stream",
     "text": [
      "/home/robert/ds-wildfire/preparedata/patchutils/geo.py:146: VisibleDeprecationWarning: Creating an ndarray from ragged nested sequences (which is a list-or-tuple of lists-or-tuples-or ndarrays with different lengths or shapes) is deprecated. If you meant to do this, you must specify 'dtype=object' when creating the ndarray\n",
      "  np.array(geojson[\"coordinates\"]), precision\n",
      "1764it [00:04, 407.38it/s]\n",
      "13it [00:00, 220.27it/s]\n"
     ]
    },
    {
     "name": "stdout",
     "output_type": "stream",
     "text": [
      "Writing new json file... /home/robert/ds-wildfire/data/anno/anno_31_T_GJ_2017-10-07.json\n"
     ]
    },
    {
     "name": "stderr",
     "output_type": "stream",
     "text": [
      "/home/robert/ds-wildfire/preparedata/patchutils/geo.py:146: VisibleDeprecationWarning: Creating an ndarray from ragged nested sequences (which is a list-or-tuple of lists-or-tuples-or ndarrays with different lengths or shapes) is deprecated. If you meant to do this, you must specify 'dtype=object' when creating the ndarray\n",
      "  np.array(geojson[\"coordinates\"]), precision\n",
      "1764it [00:04, 397.20it/s]\n",
      "15it [00:00, 296.65it/s]\n"
     ]
    },
    {
     "name": "stdout",
     "output_type": "stream",
     "text": [
      "Writing new json file... /home/robert/ds-wildfire/data/anno/anno_31_T_GJ_2017-10-10.json\n"
     ]
    }
   ],
   "source": [
    "for date_var in range (0, len(list_of_paths)):\n",
    "    date_index = list_of_paths[date_var].index(\"201\")\n",
    "    date_end_index = list_of_paths[date_var].index(\"/B8A\")\n",
    "    date[date_var] = list_of_paths[date_var][date_index:date_end_index]\n",
    "    date_datetime[date_var] = datetime.strptime(date[date_var], '%Y/%m/%d')\n",
    "    date_string[date_var]=date_datetime[date_var].strftime('%Y-%m-%d')\n",
    "    raster = import_image(list_of_paths[date_var])\n",
    "    raster_meta = raster.meta\n",
    "    \n",
    "    gdf = gpd.read_file(shapefile)\n",
    "    shapefile_date=gdf.loc[(gdf['DATE_ECLOS']<date_string[date_var])&&(gdf['DATE_ECLOS']>date_string[date_var]-)]\n",
    "    \n",
    "    patch_dfs, patch_windows = import_shapefile_for_patches(\n",
    "        shapefile_date, raster, raster_meta, patch_size, num_patches, scenes_string + date_string[date_var]\n",
    "    )\n",
    "    \n",
    "    do_the_patching(\n",
    "                raster,\n",
    "                path_to_store_patches,\n",
    "                patch_windows.keys(),\n",
    "                patch_windows.values(),\n",
    "                bands=[3,2,1],\n",
    "    )\n",
    "    \n",
    "    store_coco_ground_truth(\n",
    "                path_to_store_anno, patch_dfs, patch_size, class_name, scenes_string + date_string[date_var]\n",
    "    )\n",
    "    \n",
    "    patch\n",
    "    if np.unique(raster) != [255]:\n",
    "    continue\n",
    "    try:\n",
    "        save_gt_overlaid(\n",
    "            os.path.join(path_to_store_anno, \"anno{}.json\".format(scenes_string + date_string[date_var])),\n",
    "            path_to_store_patches,\n",
    "            path_to_store_burn_vis,\n",
    "            )\n",
    "    except Exception as e:\n",
    "                print(e)\n",
    "                print(\"MGRS tile without annotations: {}\".format(scenes_string + date_string[date_var]))\n"
   ]
  },
  {
   "cell_type": "code",
   "execution_count": 150,
   "metadata": {},
   "outputs": [
    {
     "ename": "ValueError",
     "evalue": "bad mode 'raster_patch100406_31_T_GJ_2017-07-26.jpg'",
     "output_type": "error",
     "traceback": [
      "\u001b[0;31m---------------------------------------------------------------------------\u001b[0m",
      "\u001b[0;31mValueError\u001b[0m                                Traceback (most recent call last)",
      "\u001b[0;32m<ipython-input-150-a437a789fab0>\u001b[0m in \u001b[0;36m<module>\u001b[0;34m\u001b[0m\n\u001b[1;32m      4\u001b[0m         \u001b[0mplt\u001b[0m\u001b[0;34m.\u001b[0m\u001b[0maxis\u001b[0m\u001b[0;34m(\u001b[0m\u001b[0;34m\"off\"\u001b[0m\u001b[0;34m)\u001b[0m\u001b[0;34m\u001b[0m\u001b[0;34m\u001b[0m\u001b[0m\n\u001b[1;32m      5\u001b[0m \u001b[0;34m\u001b[0m\u001b[0m\n\u001b[0;32m----> 6\u001b[0;31m         \u001b[0mimg\u001b[0m \u001b[0;34m=\u001b[0m \u001b[0mnp\u001b[0m\u001b[0;34m.\u001b[0m\u001b[0masarray\u001b[0m\u001b[0;34m(\u001b[0m\u001b[0mpilimage\u001b[0m\u001b[0;34m.\u001b[0m\u001b[0mopen\u001b[0m\u001b[0;34m(\u001b[0m\u001b[0mpath_to_store_patches\u001b[0m\u001b[0;34m,\u001b[0m \u001b[0mkey\u001b[0m\u001b[0;34m)\u001b[0m\u001b[0;34m)\u001b[0m\u001b[0;34m\u001b[0m\u001b[0;34m\u001b[0m\u001b[0m\n\u001b[0m",
      "\u001b[0;32m~/.pyenv/versions/ds-wildfire/lib/python3.8/site-packages/PIL/Image.py\u001b[0m in \u001b[0;36mopen\u001b[0;34m(fp, mode)\u001b[0m\n\u001b[1;32m   2826\u001b[0m \u001b[0;34m\u001b[0m\u001b[0m\n\u001b[1;32m   2827\u001b[0m     \u001b[0;32mif\u001b[0m \u001b[0mmode\u001b[0m \u001b[0;34m!=\u001b[0m \u001b[0;34m\"r\"\u001b[0m\u001b[0;34m:\u001b[0m\u001b[0;34m\u001b[0m\u001b[0;34m\u001b[0m\u001b[0m\n\u001b[0;32m-> 2828\u001b[0;31m         \u001b[0;32mraise\u001b[0m \u001b[0mValueError\u001b[0m\u001b[0;34m(\u001b[0m\u001b[0;34m\"bad mode %r\"\u001b[0m \u001b[0;34m%\u001b[0m \u001b[0mmode\u001b[0m\u001b[0;34m)\u001b[0m\u001b[0;34m\u001b[0m\u001b[0;34m\u001b[0m\u001b[0m\n\u001b[0m\u001b[1;32m   2829\u001b[0m     \u001b[0;32melif\u001b[0m \u001b[0misinstance\u001b[0m\u001b[0;34m(\u001b[0m\u001b[0mfp\u001b[0m\u001b[0;34m,\u001b[0m \u001b[0mio\u001b[0m\u001b[0;34m.\u001b[0m\u001b[0mStringIO\u001b[0m\u001b[0;34m)\u001b[0m\u001b[0;34m:\u001b[0m\u001b[0;34m\u001b[0m\u001b[0;34m\u001b[0m\u001b[0m\n\u001b[1;32m   2830\u001b[0m         raise ValueError(\n",
      "\u001b[0;31mValueError\u001b[0m: bad mode 'raster_patch100406_31_T_GJ_2017-07-26.jpg'"
     ]
    },
    {
     "data": {
      "image/png": "[encoded data removed]",
      "text/plain": [
       "<Figure size 360x360 with 1 Axes>"
      ]
     },
     "metadata": {
      "needs_background": "light"
     },
     "output_type": "display_data"
    }
   ],
   "source": [
    "extracted = coco.coco_to_shapely(\"/home/robert/ds-wildfire/data/extracted/anno/anno_31_T_GJ_2017-07-26.json\")\n",
    "for key in sorted(extracted.keys()):\n",
    "        plt.figure(figsize=(5, 5))\n",
    "        plt.axis(\"off\")\n",
    "\n",
    "        img = np.asarray(pilimage.open(path_to_store_patches, key))"
   ]
  },
  {
   "cell_type": "code",
   "execution_count": 14,
   "metadata": {},
   "outputs": [
    {
     "data": {
      "text/plain": [
       "'31/T/GJ'"
      ]
     },
     "execution_count": 14,
     "metadata": {},
     "output_type": "execute_result"
    }
   ],
   "source": [
    "scenes"
   ]
  },
  {
   "cell_type": "code",
   "execution_count": 35,
   "metadata": {},
   "outputs": [],
   "source": [
    "scene_list=list(scenes)\n",
    "scene_list[2]=\"_\"\n",
    "scene_list[4]=\"_\"\n",
    "scene_list.insert(0,\"_\")\n",
    "scene_list.insert(8, \"_\")\n",
    "scene_string=\"\"\n",
    "scene_string=scene_string.join(scene_list)"
   ]
  },
  {
   "cell_type": "code",
   "execution_count": 36,
   "metadata": {},
   "outputs": [
    {
     "data": {
      "text/plain": [
       "'_31_T_GJ_'"
      ]
     },
     "execution_count": 36,
     "metadata": {},
     "output_type": "execute_result"
    }
   ],
   "source": [
    "scene_string"
   ]
  },
  {
   "cell_type": "code",
   "execution_count": 24,
   "metadata": {},
   "outputs": [
    {
     "data": {
      "text/plain": [
       "'31_T_GJ'"
      ]
     },
     "execution_count": 24,
     "metadata": {},
     "output_type": "execute_result"
    }
   ],
   "source": [
    "\"\".join(scene_string)"
   ]
  },
  {
   "cell_type": "code",
   "execution_count": 38,
   "metadata": {},
   "outputs": [
    {
     "ename": "SyntaxError",
     "evalue": "invalid syntax (<ipython-input-38-1e35dd6c3511>, line 1)",
     "output_type": "error",
     "traceback": [
      "\u001b[0;36m  File \u001b[0;32m\"<ipython-input-38-1e35dd6c3511>\"\u001b[0;36m, line \u001b[0;32m1\u001b[0m\n\u001b[0;31m    gpd.open(/ds-wildfire/data/extracted/burn_vis/raster_patch100449_31_T_GJ_2017-09-05.jpg)\u001b[0m\n\u001b[0m             ^\u001b[0m\n\u001b[0;31mSyntaxError\u001b[0m\u001b[0;31m:\u001b[0m invalid syntax\n"
     ]
    }
   ],
   "source": [
    "gpd.open(/ds-wildfire/data/extracted/burn_vis/raster_patch100449_31_T_GJ_2017-09-05.jpg)"
   ]
  },
  {
   "cell_type": "code",
   "execution_count": 43,
   "metadata": {},
   "outputs": [],
   "source": [
    "open_patch=rasterio.open(\"/home/robert/ds-wildfire/data/extracted/burn_vis/raster_patch100406_31_T_GJ_2017-09-07.jpg\")"
   ]
  },
  {
   "cell_type": "code",
   "execution_count": 104,
   "metadata": {},
   "outputs": [
    {
     "data": {
      "text/plain": [
       "<open DatasetReader name='/home/robert/ds-wildfire/data/extracted/burn_vis/raster_patch100406_31_T_GJ_2017-09-07.jpg' mode='r'>"
      ]
     },
     "execution_count": 104,
     "metadata": {},
     "output_type": "execute_result"
    }
   ],
   "source": [
    "open_patch"
   ]
  },
  {
   "cell_type": "code",
   "execution_count": 44,
   "metadata": {},
   "outputs": [
    {
     "data": {
      "text/plain": [
       "{'driver': 'JPEG',\n",
       " 'dtype': 'uint8',\n",
       " 'nodata': None,\n",
       " 'width': 4000,\n",
       " 'height': 4000,\n",
       " 'count': 3,\n",
       " 'crs': None,\n",
       " 'transform': Affine(1.0, 0.0, 0.0,\n",
       "        0.0, 1.0, 0.0)}"
      ]
     },
     "execution_count": 44,
     "metadata": {},
     "output_type": "execute_result"
    }
   ],
   "source": [
    "open_patch.meta"
   ]
  },
  {
   "cell_type": "code",
   "execution_count": 51,
   "metadata": {},
   "outputs": [
    {
     "data": {
      "text/plain": [
       "<matplotlib.image.AxesImage at 0x7fc6f5d2b250>"
      ]
     },
     "execution_count": 51,
     "metadata": {},
     "output_type": "execute_result"
    },
    {
     "data": {
      "image/png": "[encoded data removed]",
      "text/plain": [
       "<Figure size 432x288 with 1 Axes>"
      ]
     },
     "metadata": {
      "needs_background": "light"
     },
     "output_type": "display_data"
    }
   ],
   "source": [
    "pyplot.imshow(open_patch.read(1), cmap='magma')"
   ]
  },
  {
   "cell_type": "code",
   "execution_count": 171,
   "metadata": {},
   "outputs": [
    {
     "data": {
      "text/plain": [
       "<matplotlib.image.AxesImage at 0x7fc6f66e61f0>"
      ]
     },
     "execution_count": 171,
     "metadata": {},
     "output_type": "execute_result"
    },
    {
     "data": {
      "image/png": "[encoded data removed]",
      "text/plain": [
       "<Figure size 432x288 with 1 Axes>"
      ]
     },
     "metadata": {
      "needs_background": "light"
     },
     "output_type": "display_data"
    }
   ],
   "source": [
    "open_patch2=rasterio.open(\"/home/robert/ds-wildfire/data/extracted/patches/raster_patch100532_31_T_GJ_2017-10-09.jpg\")\n",
    "open_patch2.meta\n",
    "pyplot.imshow(open_patch2.read(1), cmap='magma')"
   ]
  },
  {
   "cell_type": "code",
   "execution_count": 172,
   "metadata": {},
   "outputs": [
    {
     "data": {
      "text/plain": [
       "array([[[  0, 255, 255],\n",
       "        [  0, 255, 255],\n",
       "        [  0, 255, 255],\n",
       "        ...,\n",
       "        [  0, 255, 255],\n",
       "        [  0, 255, 255],\n",
       "        [  0, 255, 255]],\n",
       "\n",
       "       [[  0, 255, 255],\n",
       "        [  0, 255, 255],\n",
       "        [  0, 255, 255],\n",
       "        ...,\n",
       "        [  0, 255, 255],\n",
       "        [  0, 255, 255],\n",
       "        [  0, 255, 255]],\n",
       "\n",
       "       [[  0, 255, 255],\n",
       "        [  0, 255, 255],\n",
       "        [  0, 255, 255],\n",
       "        ...,\n",
       "        [  0, 255, 255],\n",
       "        [  0, 255, 255],\n",
       "        [  0, 255, 255]],\n",
       "\n",
       "       ...,\n",
       "\n",
       "       [[  0, 255, 255],\n",
       "        [  0, 255, 255],\n",
       "        [  0, 255, 255],\n",
       "        ...,\n",
       "        [  0, 255, 255],\n",
       "        [  0, 255, 255],\n",
       "        [  0, 255, 255]],\n",
       "\n",
       "       [[  0, 255, 255],\n",
       "        [  0, 255, 255],\n",
       "        [  0, 255, 255],\n",
       "        ...,\n",
       "        [  0, 255, 255],\n",
       "        [  0, 255, 255],\n",
       "        [  0, 255, 255]],\n",
       "\n",
       "       [[  0, 255, 255],\n",
       "        [  0, 255, 255],\n",
       "        [  0, 255, 255],\n",
       "        ...,\n",
       "        [  0, 255, 255],\n",
       "        [  0, 255, 255],\n",
       "        [  0, 255, 255]]], dtype=uint8)"
      ]
     },
     "execution_count": 172,
     "metadata": {},
     "output_type": "execute_result"
    }
   ],
   "source": [
    "raster2=pyplot.imread(\"/home/robert/ds-wildfire/data/extracted/patches/raster_patch100532_31_T_GJ_2017-10-09.jpg\")\n",
    "raster2\n"
   ]
  },
  {
   "cell_type": "code",
   "execution_count": 170,
   "metadata": {},
   "outputs": [
    {
     "data": {
      "text/plain": [
       "array([[[ 49,   1,   1],\n",
       "        [ 42,   0,   1],\n",
       "        [ 36,   0,   0],\n",
       "        ...,\n",
       "        [ 69,   1,   0],\n",
       "        [ 60,   0,   0],\n",
       "        [ 56,   0,   1]],\n",
       "\n",
       "       [[ 54,   0,   0],\n",
       "        [ 52,   1,   0],\n",
       "        [ 52,   1,   0],\n",
       "        ...,\n",
       "        [ 72,   0,   1],\n",
       "        [ 69,   1,   0],\n",
       "        [ 64,   0,   0]],\n",
       "\n",
       "       [[ 66,   0,   1],\n",
       "        [ 81,   0,   0],\n",
       "        [ 82,   1,   0],\n",
       "        ...,\n",
       "        [ 72,   0,   1],\n",
       "        [ 74,   0,   0],\n",
       "        [ 88,   0,   0]],\n",
       "\n",
       "       ...,\n",
       "\n",
       "       [[ 99,   1,   0],\n",
       "        [ 84,   0,   0],\n",
       "        [ 88,   0,   0],\n",
       "        ...,\n",
       "        [ 55,   0,   0],\n",
       "        [ 62,   0,   1],\n",
       "        [ 59,   1,   0]],\n",
       "\n",
       "       [[110,   0,   1],\n",
       "        [ 89,   1,   0],\n",
       "        [120,   0,   1],\n",
       "        ...,\n",
       "        [ 72,   0,   1],\n",
       "        [ 78,   0,   0],\n",
       "        [ 62,   1,   0]],\n",
       "\n",
       "       [[143,   1,   0],\n",
       "        [152,   0,   0],\n",
       "        [174,   0,   1],\n",
       "        ...,\n",
       "        [ 70,   0,   0],\n",
       "        [ 70,   0,   0],\n",
       "        [ 62,   1,   0]]], dtype=uint8)"
      ]
     },
     "execution_count": 170,
     "metadata": {},
     "output_type": "execute_result"
    }
   ],
   "source": [
    "raster2"
   ]
  },
  {
   "cell_type": "code",
   "execution_count": 173,
   "metadata": {},
   "outputs": [
    {
     "data": {
      "text/plain": [
       "2"
      ]
     },
     "execution_count": 173,
     "metadata": {},
     "output_type": "execute_result"
    }
   ],
   "source": [
    "numpy.unique(raster2).size\n",
    "\n"
   ]
  },
  {
   "cell_type": "code",
   "execution_count": 164,
   "metadata": {},
   "outputs": [
    {
     "data": {
      "text/plain": [
       "False"
      ]
     },
     "execution_count": 164,
     "metadata": {},
     "output_type": "execute_result"
    }
   ],
   "source": [
    "raster2.all()"
   ]
  },
  {
   "cell_type": "code",
   "execution_count": 174,
   "metadata": {},
   "outputs": [],
   "source": [
    "if numpy.unique(raster2).size > 2:\n",
    "    print(\"ok\")\n",
    "\n"
   ]
  },
  {
   "cell_type": "code",
   "execution_count": 71,
   "metadata": {},
   "outputs": [
    {
     "ename": "NameError",
     "evalue": "name 'gdal' is not defined",
     "output_type": "error",
     "traceback": [
      "\u001b[0;31m---------------------------------------------------------------------------\u001b[0m",
      "\u001b[0;31mNameError\u001b[0m                                 Traceback (most recent call last)",
      "\u001b[0;32m<ipython-input-71-d37994bc79ae>\u001b[0m in \u001b[0;36m<module>\u001b[0;34m\u001b[0m\n\u001b[0;32m----> 1\u001b[0;31m \u001b[0mgdal\u001b[0m\u001b[0;34m\u001b[0m\u001b[0;34m\u001b[0m\u001b[0m\n\u001b[0m",
      "\u001b[0;31mNameError\u001b[0m: name 'gdal' is not defined"
     ]
    }
   ],
   "source": []
  },
  {
   "cell_type": "code",
   "execution_count": 11,
   "metadata": {},
   "outputs": [
    {
     "name": "stdout",
     "output_type": "stream",
     "text": [
      "boo\n"
     ]
    }
   ],
   "source": [
    "path = \"/home/robert/ds-wildfire/data/extracted/anno/anno_31_T_GH_2017-09-07.json\"\n",
    "\n",
    "if \"annotations\" in other.load_json(path):\n",
    "    print(\"boo\")"
   ]
  },
  {
   "cell_type": "code",
   "execution_count": 12,
   "metadata": {},
   "outputs": [],
   "source": [
    "import pickle\n",
    "\n",
    "\n",
    "with open('/home/robert/ds-wildfire/data/training_patches/anno/polygons.pkl', 'rb') as f:\n",
    "    data = pickle.load(f)"
   ]
  },
  {
   "cell_type": "code",
   "execution_count": 36,
   "metadata": {},
   "outputs": [
    {
     "data": {
      "text/plain": [
       "'/home/robert/ds-wildfire/data/mgrs_scenes/31/T/GJ/2015/8/12/B8AB11B12.tif'"
      ]
     },
     "execution_count": 36,
     "metadata": {},
     "output_type": "execute_result"
    }
   ],
   "source": [
    "list_of_paths[14]"
   ]
  },
  {
   "cell_type": "code",
   "execution_count": 37,
   "metadata": {},
   "outputs": [
    {
     "data": {
      "text/plain": [
       "57"
      ]
     },
     "execution_count": 37,
     "metadata": {},
     "output_type": "execute_result"
    }
   ],
   "source": [
    "list_of_paths[14].find(\"12\")"
   ]
  },
  {
   "cell_type": "code",
   "execution_count": 38,
   "metadata": {},
   "outputs": [
    {
     "data": {
      "text/plain": [
       "57"
      ]
     },
     "execution_count": 38,
     "metadata": {},
     "output_type": "execute_result"
    }
   ],
   "source": [
    "list_of_paths[4].index(\"12\")"
   ]
  },
  {
   "cell_type": "code",
   "execution_count": 7,
   "metadata": {},
   "outputs": [
    {
     "data": {
      "text/plain": [
       "59"
      ]
     },
     "execution_count": 7,
     "metadata": {},
     "output_type": "execute_result"
    }
   ],
   "source": [
    "list_of_paths[14].find(\"/B\", list_of_paths[14].find(\"20\"))"
   ]
  },
  {
   "cell_type": "code",
   "execution_count": 15,
   "metadata": {},
   "outputs": [],
   "source": [
    "s=filter(str.isdigit, list_of_paths[14])"
   ]
  },
  {
   "cell_type": "code",
   "execution_count": 19,
   "metadata": {},
   "outputs": [
    {
     "data": {
      "text/plain": [
       "<filter at 0x7eff79fd8340>"
      ]
     },
     "execution_count": 19,
     "metadata": {},
     "output_type": "execute_result"
    }
   ],
   "source": [
    "s"
   ]
  },
  {
   "cell_type": "code",
   "execution_count": 21,
   "metadata": {},
   "outputs": [
    {
     "ename": "ValueError",
     "evalue": "invalid literal for int() with base 10: ''",
     "output_type": "error",
     "traceback": [
      "\u001b[0;31m---------------------------------------------------------------------------\u001b[0m",
      "\u001b[0;31mValueError\u001b[0m                                Traceback (most recent call last)",
      "\u001b[0;32m<ipython-input-21-008d4f63e38a>\u001b[0m in \u001b[0;36m<module>\u001b[0;34m\u001b[0m\n\u001b[0;32m----> 1\u001b[0;31m \u001b[0mint\u001b[0m\u001b[0;34m(\u001b[0m\u001b[0;34m\"\"\u001b[0m\u001b[0;34m.\u001b[0m\u001b[0mjoin\u001b[0m\u001b[0;34m(\u001b[0m\u001b[0ms\u001b[0m\u001b[0;34m)\u001b[0m\u001b[0;34m)\u001b[0m\u001b[0;34m\u001b[0m\u001b[0;34m\u001b[0m\u001b[0m\n\u001b[0m",
      "\u001b[0;31mValueError\u001b[0m: invalid literal for int() with base 10: ''"
     ]
    }
   ],
   "source": [
    "int(\"\".join(s))"
   ]
  },
  {
   "cell_type": "code",
   "execution_count": 14,
   "metadata": {},
   "outputs": [
    {
     "data": {
      "text/plain": [
       "''"
      ]
     },
     "execution_count": 14,
     "metadata": {},
     "output_type": "execute_result"
    }
   ],
   "source": [
    "digits"
   ]
  },
  {
   "cell_type": "code",
   "execution_count": null,
   "metadata": {},
   "outputs": [],
   "source": []
  }
 ],
 "metadata": {
  "kernelspec": {
   "display_name": "ds-wildfire",
   "language": "python",
   "name": "ds-wildfire"
  },
  "language_info": {
   "codemirror_mode": {
    "name": "ipython",
    "version": 3
   },
   "file_extension": ".py",
   "mimetype": "text/x-python",
   "name": "python",
   "nbconvert_exporter": "python",
   "pygments_lexer": "ipython3",
   "version": "3.8.2"
  }
 },
 "nbformat": 4,
 "nbformat_minor": 2
}
