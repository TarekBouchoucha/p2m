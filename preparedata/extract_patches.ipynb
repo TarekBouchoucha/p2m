{
 "cells": [
  {
   "cell_type": "code",
   "execution_count": 1,
   "metadata": {},
   "outputs": [],
   "source": [
    "from patching import (\n",
    "    import_shapefile_for_patches,\n",
    "    do_the_patching,\n",
    "    store_coco_ground_truth,\n",
    "    import_image,\n",
    ")"
   ]
  },
  {
   "cell_type": "code",
   "execution_count": 45,
   "metadata": {},
   "outputs": [],
   "source": [
    "from patchutils.coco import save_gt_overlaid\n",
    "from docopt import docopt\n",
    "import os\n",
    "import glob\n",
    "import rasterio\n",
    "import geopandas as gp\n",
    "from matplotlib import pyplot\n",
    "from datetime import datetime\n",
    "import geopandas as gpd\n",
    "\n",
    "num_patches=1000\n",
    "patch_size=128\n",
    "scenes_path=\"/home/robert/ds-wildfire/data/scenes\"\n",
    "scenes=\"31/T/GJ\"\n",
    "scenes_string=\"_31_T_GJ_\"\n",
    "shapefile=\"/data/raw_data/wildfires-ground-truth/france/vars/N_DFCI_CONTOUR_FEUX_2017_S_083.shp\"\n",
    "save_path=\"/home/robert/ds-wildfire/data\"\n",
    "class_name=\"DATE_ECLOS\""
   ]
  },
  {
   "cell_type": "code",
   "execution_count": 34,
   "metadata": {},
   "outputs": [],
   "source": [
    "date = {}\n",
    "date_datetime={}\n",
    "date_string={}"
   ]
  },
  {
   "cell_type": "code",
   "execution_count": 35,
   "metadata": {},
   "outputs": [],
   "source": [
    "    path_to_store_patches = os.path.join(save_path, \"patches\")\n",
    "    os.makedirs(path_to_store_patches, exist_ok=True)\n",
    "    path_to_store_anno = os.path.join(save_path, \"anno\")\n",
    "    os.makedirs(path_to_store_anno, exist_ok=True)"
   ]
  },
  {
   "cell_type": "code",
   "execution_count": 36,
   "metadata": {},
   "outputs": [],
   "source": [
    "path_to_scene = os.path.join(\n",
    "            scenes_path, scenes)\n",
    "        \n",
    "list_of_paths = glob.glob(\n",
    "            path_to_scene + \"/*/*/*/\" + \"*.jp2\".format(scenes)\n",
    "        )"
   ]
  },
  {
   "cell_type": "code",
   "execution_count": 37,
   "metadata": {},
   "outputs": [
    {
     "data": {
      "text/plain": [
       "'/home/robert/ds-wildfire/data/scenes/31/T/GJ'"
      ]
     },
     "execution_count": 37,
     "metadata": {},
     "output_type": "execute_result"
    }
   ],
   "source": [
    "path_to_scene"
   ]
  },
  {
   "cell_type": "code",
   "execution_count": 38,
   "metadata": {},
   "outputs": [
    {
     "data": {
      "text/plain": [
       "['/home/robert/ds-wildfire/data/scenes/31/T/GJ/2015/8/6/B8AB11B12.jp2',\n",
       " '/home/robert/ds-wildfire/data/scenes/31/T/GJ/2015/8/12/B8AB11B12.jp2',\n",
       " '/home/robert/ds-wildfire/data/scenes/31/T/GJ/2015/7/30/B8AB11B12.jp2',\n",
       " '/home/robert/ds-wildfire/data/scenes/31/T/GJ/2016/7/11/B8AB11B12.jp2',\n",
       " '/home/robert/ds-wildfire/data/scenes/31/T/GJ/2016/7/21/B8AB11B12.jp2',\n",
       " '/home/robert/ds-wildfire/data/scenes/31/T/GJ/2016/7/17/B8AB11B12.jp2',\n",
       " '/home/robert/ds-wildfire/data/scenes/31/T/GJ/2016/7/14/B8AB11B12.jp2',\n",
       " '/home/robert/ds-wildfire/data/scenes/31/T/GJ/2017/6/16/B8AB11B12.jp2',\n",
       " '/home/robert/ds-wildfire/data/scenes/31/T/GJ/2017/6/19/B8AB11B12.jp2',\n",
       " '/home/robert/ds-wildfire/data/scenes/31/T/GJ/2017/6/12/B8AB11B12.jp2',\n",
       " '/home/robert/ds-wildfire/data/scenes/31/T/GJ/2017/9/7/B8AB11B12.jp2',\n",
       " '/home/robert/ds-wildfire/data/scenes/31/T/GJ/2017/9/4/B8AB11B12.jp2',\n",
       " '/home/robert/ds-wildfire/data/scenes/31/T/GJ/2017/9/5/B8AB11B12.jp2',\n",
       " '/home/robert/ds-wildfire/data/scenes/31/T/GJ/2017/7/22/B8AB11B12.jp2',\n",
       " '/home/robert/ds-wildfire/data/scenes/31/T/GJ/2017/7/24/B8AB11B12.jp2',\n",
       " '/home/robert/ds-wildfire/data/scenes/31/T/GJ/2017/7/26/B8AB11B12.jp2',\n",
       " '/home/robert/ds-wildfire/data/scenes/31/T/GJ/2017/10/9/B8AB11B12.jp2',\n",
       " '/home/robert/ds-wildfire/data/scenes/31/T/GJ/2017/10/7/B8AB11B12.jp2',\n",
       " '/home/robert/ds-wildfire/data/scenes/31/T/GJ/2017/10/10/B8AB11B12.jp2']"
      ]
     },
     "execution_count": 38,
     "metadata": {},
     "output_type": "execute_result"
    }
   ],
   "source": [
    "list_of_paths"
   ]
  },
  {
   "cell_type": "code",
   "execution_count": 42,
   "metadata": {},
   "outputs": [
    {
     "name": "stderr",
     "output_type": "stream",
     "text": [
      "1764it [00:04, 401.87it/s]\n",
      "15it [00:00, 243.44it/s]\n"
     ]
    },
    {
     "name": "stdout",
     "output_type": "stream",
     "text": [
      "Writing new json file... /home/robert/ds-wildfire/data/anno/anno_31_T_GJ_2015_08_06.json\n"
     ]
    },
    {
     "name": "stderr",
     "output_type": "stream",
     "text": [
      "1764it [00:04, 402.08it/s]\n",
      "15it [00:00, 289.52it/s]\n"
     ]
    },
    {
     "name": "stdout",
     "output_type": "stream",
     "text": [
      "Writing new json file... /home/robert/ds-wildfire/data/anno/anno_31_T_GJ_2015_08_12.json\n"
     ]
    },
    {
     "name": "stderr",
     "output_type": "stream",
     "text": [
      "1764it [00:04, 401.88it/s]\n",
      "15it [00:00, 215.15it/s]\n"
     ]
    },
    {
     "name": "stdout",
     "output_type": "stream",
     "text": [
      "Writing new json file... /home/robert/ds-wildfire/data/anno/anno_31_T_GJ_2015_07_30.json\n"
     ]
    },
    {
     "name": "stderr",
     "output_type": "stream",
     "text": [
      "1764it [00:04, 401.31it/s]\n",
      "15it [00:00, 284.14it/s]\n"
     ]
    },
    {
     "name": "stdout",
     "output_type": "stream",
     "text": [
      "Writing new json file... /home/robert/ds-wildfire/data/anno/anno_31_T_GJ_2016_07_11.json\n"
     ]
    },
    {
     "name": "stderr",
     "output_type": "stream",
     "text": [
      "1764it [00:04, 401.97it/s]\n",
      "15it [00:00, 276.48it/s]\n"
     ]
    },
    {
     "name": "stdout",
     "output_type": "stream",
     "text": [
      "Writing new json file... /home/robert/ds-wildfire/data/anno/anno_31_T_GJ_2016_07_21.json\n"
     ]
    },
    {
     "name": "stderr",
     "output_type": "stream",
     "text": [
      "1764it [00:04, 401.44it/s]\n",
      "15it [00:00, 286.34it/s]\n"
     ]
    },
    {
     "name": "stdout",
     "output_type": "stream",
     "text": [
      "Writing new json file... /home/robert/ds-wildfire/data/anno/anno_31_T_GJ_2016_07_17.json\n"
     ]
    },
    {
     "name": "stderr",
     "output_type": "stream",
     "text": [
      "1764it [00:04, 402.17it/s]\n",
      "15it [00:00, 218.03it/s]\n"
     ]
    },
    {
     "name": "stdout",
     "output_type": "stream",
     "text": [
      "Writing new json file... /home/robert/ds-wildfire/data/anno/anno_31_T_GJ_2016_07_14.json\n"
     ]
    },
    {
     "name": "stderr",
     "output_type": "stream",
     "text": [
      "1764it [00:04, 402.44it/s]\n",
      "15it [00:00, 275.56it/s]\n"
     ]
    },
    {
     "name": "stdout",
     "output_type": "stream",
     "text": [
      "Writing new json file... /home/robert/ds-wildfire/data/anno/anno_31_T_GJ_2017_06_16.json\n"
     ]
    },
    {
     "name": "stderr",
     "output_type": "stream",
     "text": [
      "1764it [00:04, 402.02it/s]\n",
      "15it [00:00, 201.16it/s]\n"
     ]
    },
    {
     "name": "stdout",
     "output_type": "stream",
     "text": [
      "Writing new json file... /home/robert/ds-wildfire/data/anno/anno_31_T_GJ_2017_06_19.json\n"
     ]
    },
    {
     "name": "stderr",
     "output_type": "stream",
     "text": [
      "1764it [00:04, 402.29it/s]\n",
      "15it [00:00, 276.13it/s]\n"
     ]
    },
    {
     "name": "stdout",
     "output_type": "stream",
     "text": [
      "Writing new json file... /home/robert/ds-wildfire/data/anno/anno_31_T_GJ_2017_06_12.json\n"
     ]
    },
    {
     "name": "stderr",
     "output_type": "stream",
     "text": [
      "1764it [00:04, 401.85it/s]\n",
      "15it [00:00, 212.48it/s]\n"
     ]
    },
    {
     "name": "stdout",
     "output_type": "stream",
     "text": [
      "Writing new json file... /home/robert/ds-wildfire/data/anno/anno_31_T_GJ_2017_09_07.json\n"
     ]
    },
    {
     "name": "stderr",
     "output_type": "stream",
     "text": [
      "1764it [00:04, 401.84it/s]\n",
      "15it [00:00, 304.92it/s]\n"
     ]
    },
    {
     "name": "stdout",
     "output_type": "stream",
     "text": [
      "Writing new json file... /home/robert/ds-wildfire/data/anno/anno_31_T_GJ_2017_09_04.json\n"
     ]
    },
    {
     "name": "stderr",
     "output_type": "stream",
     "text": [
      "1764it [00:04, 401.71it/s]\n",
      "15it [00:00, 288.87it/s]\n"
     ]
    },
    {
     "name": "stdout",
     "output_type": "stream",
     "text": [
      "Writing new json file... /home/robert/ds-wildfire/data/anno/anno_31_T_GJ_2017_09_05.json\n"
     ]
    },
    {
     "name": "stderr",
     "output_type": "stream",
     "text": [
      "1764it [00:04, 402.08it/s]\n",
      "15it [00:00, 282.65it/s]\n"
     ]
    },
    {
     "name": "stdout",
     "output_type": "stream",
     "text": [
      "Writing new json file... /home/robert/ds-wildfire/data/anno/anno_31_T_GJ_2017_07_22.json\n"
     ]
    },
    {
     "name": "stderr",
     "output_type": "stream",
     "text": [
      "1764it [00:04, 402.55it/s]\n",
      "15it [00:00, 206.21it/s]\n"
     ]
    },
    {
     "name": "stdout",
     "output_type": "stream",
     "text": [
      "Writing new json file... /home/robert/ds-wildfire/data/anno/anno_31_T_GJ_2017_07_24.json\n"
     ]
    },
    {
     "name": "stderr",
     "output_type": "stream",
     "text": [
      "1764it [00:04, 401.85it/s]\n",
      "15it [00:00, 274.93it/s]\n"
     ]
    },
    {
     "name": "stdout",
     "output_type": "stream",
     "text": [
      "Writing new json file... /home/robert/ds-wildfire/data/anno/anno_31_T_GJ_2017_07_26.json\n"
     ]
    },
    {
     "name": "stderr",
     "output_type": "stream",
     "text": [
      "1764it [00:04, 402.36it/s]\n",
      "15it [00:00, 276.01it/s]\n"
     ]
    },
    {
     "name": "stdout",
     "output_type": "stream",
     "text": [
      "Writing new json file... /home/robert/ds-wildfire/data/anno/anno_31_T_GJ_2017_10_09.json\n"
     ]
    },
    {
     "name": "stderr",
     "output_type": "stream",
     "text": [
      "1764it [00:04, 402.24it/s]\n",
      "15it [00:00, 206.06it/s]\n"
     ]
    },
    {
     "name": "stdout",
     "output_type": "stream",
     "text": [
      "Writing new json file... /home/robert/ds-wildfire/data/anno/anno_31_T_GJ_2017_10_07.json\n"
     ]
    },
    {
     "name": "stderr",
     "output_type": "stream",
     "text": [
      "1764it [00:04, 402.05it/s]\n",
      "15it [00:00, 302.71it/s]\n"
     ]
    },
    {
     "name": "stdout",
     "output_type": "stream",
     "text": [
      "Writing new json file... /home/robert/ds-wildfire/data/anno/anno_31_T_GJ_2017_10_10.json\n"
     ]
    }
   ],
   "source": [
    "for date_var in range (0, len(list_of_paths)):\n",
    "    date_index = list_of_paths[date_var].index(\"201\")\n",
    "    date_end_index = list_of_paths[date_var].index(\"/B8A\")\n",
    "    date[date_var] = list_of_paths[date_var][date_index:date_end_index]\n",
    "    date_datetime[date_var] = datetime.strptime(date[date_var], '%Y/%m/%d')\n",
    "    date_string[date_var]=date_datetime[date_var].strftime('%Y_%m_%d')\n",
    "    raster = import_image(list_of_paths[date_var])\n",
    "    raster_meta = raster.meta\n",
    "    \n",
    "    patch_dfs, patch_windows = import_shapefile_for_patches(\n",
    "        shapefile, raster, raster_meta, patch_size, num_patches, scenes_string + date_string[date_var]\n",
    "    )\n",
    "    \n",
    "    do_the_patching(\n",
    "                raster,\n",
    "                path_to_store_patches,\n",
    "                patch_windows.keys(),\n",
    "                patch_windows.values(),\n",
    "                bands=[3,2,1],\n",
    "    )\n",
    "    \n",
    "    store_coco_ground_truth(\n",
    "                path_to_store_anno, patch_dfs, patch_size, class_name, scenes_string + date_string[date_var]\n",
    "    )"
   ]
  },
  {
   "cell_type": "code",
   "execution_count": 58,
   "metadata": {},
   "outputs": [
    {
     "name": "stdout",
     "output_type": "stream",
     "text": [
      "Help on function open in module fiona:\n",
      "\n",
      "open(fp, mode='r', driver=None, schema=None, crs=None, encoding=None, layer=None, vfs=None, enabled_drivers=None, crs_wkt=None, **kwargs)\n",
      "    Open a collection for read, append, or write\n",
      "    \n",
      "    In write mode, a driver name such as \"ESRI Shapefile\" or \"GPX\" (see\n",
      "    OGR docs or ``ogr2ogr --help`` on the command line) and a schema\n",
      "    mapping such as:\n",
      "    \n",
      "      {'geometry': 'Point',\n",
      "       'properties': [('class', 'int'), ('label', 'str'),\n",
      "                      ('value', 'float')]}\n",
      "    \n",
      "    must be provided. If a particular ordering of properties (\"fields\"\n",
      "    in GIS parlance) in the written file is desired, a list of (key,\n",
      "    value) pairs as above or an ordered dict is required. If no ordering\n",
      "    is needed, a standard dict will suffice.\n",
      "    \n",
      "    A coordinate reference system for collections in write mode can be\n",
      "    defined by the ``crs`` parameter. It takes Proj4 style mappings like\n",
      "    \n",
      "      {'proj': 'longlat', 'ellps': 'WGS84', 'datum': 'WGS84',\n",
      "       'no_defs': True}\n",
      "    \n",
      "    short hand strings like\n",
      "    \n",
      "      EPSG:4326\n",
      "    \n",
      "    or WKT representations of coordinate reference systems.\n",
      "    \n",
      "    The drivers used by Fiona will try to detect the encoding of data\n",
      "    files. If they fail, you may provide the proper ``encoding``, such\n",
      "    as 'Windows-1252' for the Natural Earth datasets.\n",
      "    \n",
      "    When the provided path is to a file containing multiple named layers\n",
      "    of data, a layer can be singled out by ``layer``.\n",
      "    \n",
      "    The drivers enabled for opening datasets may be restricted to those\n",
      "    listed in the ``enabled_drivers`` parameter. This and the ``driver``\n",
      "    parameter afford much control over opening of files.\n",
      "    \n",
      "      # Trying only the GeoJSON driver when opening to read, the\n",
      "      # following raises ``DataIOError``:\n",
      "      fiona.open('example.shp', driver='GeoJSON')\n",
      "    \n",
      "      # Trying first the GeoJSON driver, then the Shapefile driver,\n",
      "      # the following succeeds:\n",
      "      fiona.open(\n",
      "          'example.shp', enabled_drivers=['GeoJSON', 'ESRI Shapefile'])\n",
      "    \n",
      "    Parameters\n",
      "    ----------\n",
      "    fp : URI (str or pathlib.Path), or file-like object\n",
      "        A dataset resource identifier or file object.\n",
      "    mode : str\n",
      "        One of 'r', to read (the default); 'a', to append; or 'w', to\n",
      "        write.\n",
      "    driver : str\n",
      "        In 'w' mode a format driver name is required. In 'r' or 'a'\n",
      "        mode this parameter has no effect.\n",
      "    schema : dict\n",
      "        Required in 'w' mode, has no effect in 'r' or 'a' mode.\n",
      "    crs : str or dict\n",
      "        Required in 'w' mode, has no effect in 'r' or 'a' mode.\n",
      "    encoding : str\n",
      "        Name of the encoding used to encode or decode the dataset.\n",
      "    layer : int or str\n",
      "        The integer index or name of a layer in a multi-layer dataset.\n",
      "    vfs : str\n",
      "        This is a deprecated parameter. A URI scheme such as \"zip://\"\n",
      "        should be used instead.\n",
      "    enabled_drivers : list\n",
      "        An optional list of driver names to used when opening a\n",
      "        collection.\n",
      "    crs_wkt : str\n",
      "        An optional WKT representation of a coordinate reference\n",
      "        system.\n",
      "    kwargs : mapping\n",
      "        Other driver-specific parameters that will be interpreted by\n",
      "        the OGR library as layer creation or opening options.\n",
      "    \n",
      "    Returns\n",
      "    -------\n",
      "    Collection\n",
      "\n"
     ]
    }
   ],
   "source": [
    "import fiona; help(fiona.open)\n"
   ]
  },
  {
   "cell_type": "code",
   "execution_count": 71,
   "metadata": {},
   "outputs": [],
   "source": [
    "gdf = gpd.read_file(shapefile)"
   ]
  },
  {
   "cell_type": "code",
   "execution_count": null,
   "metadata": {},
   "outputs": [],
   "source": [
    "date=\"2017-06-15\""
   ]
  },
  {
   "cell_type": "code",
   "execution_count": 84,
   "metadata": {},
   "outputs": [],
   "source": [
    "gdf_date= gdf.loc[(gdf['DATE_ECLOS']<=\"2017_06_15\")]"
   ]
  },
  {
   "cell_type": "code",
   "execution_count": 85,
   "metadata": {},
   "outputs": [
    {
     "data": {
      "text/html": [
       "<div>\n",
       "<style scoped>\n",
       "    .dataframe tbody tr th:only-of-type {\n",
       "        vertical-align: middle;\n",
       "    }\n",
       "\n",
       "    .dataframe tbody tr th {\n",
       "        vertical-align: top;\n",
       "    }\n",
       "\n",
       "    .dataframe thead th {\n",
       "        text-align: right;\n",
       "    }\n",
       "</style>\n",
       "<table border=\"1\" class=\"dataframe\">\n",
       "  <thead>\n",
       "    <tr style=\"text-align: right;\">\n",
       "      <th></th>\n",
       "      <th>ID_PROMETH</th>\n",
       "      <th>HEURE_DEBU</th>\n",
       "      <th>COMMUNE_EC</th>\n",
       "      <th>DATE_ECLOS</th>\n",
       "      <th>LIEU_DIT</th>\n",
       "      <th>SURFACE_SI</th>\n",
       "      <th>SURFACE_DE</th>\n",
       "      <th>QUALITE_DO</th>\n",
       "      <th>ENQUETE_FE</th>\n",
       "      <th>OBSERVATIO</th>\n",
       "      <th>geometry</th>\n",
       "    </tr>\n",
       "  </thead>\n",
       "  <tbody>\n",
       "    <tr>\n",
       "      <th>0</th>\n",
       "      <td>2694</td>\n",
       "      <td>13h30</td>\n",
       "      <td>RAMATUELLE</td>\n",
       "      <td>2017-06-07</td>\n",
       "      <td>LA QUESSINE</td>\n",
       "      <td>1.572297e+05</td>\n",
       "      <td>15,64 ha</td>\n",
       "      <td>RELEVE GPS</td>\n",
       "      <td>RCCI_MACHINE-OUTILS</td>\n",
       "      <td>TONDEUSE</td>\n",
       "      <td>MULTIPOLYGON (((996933.218 6240075.129, 996934...</td>\n",
       "    </tr>\n",
       "    <tr>\n",
       "      <th>1</th>\n",
       "      <td>5135</td>\n",
       "      <td>19h35</td>\n",
       "      <td>LA CROIX-VALMER</td>\n",
       "      <td>2017-07-24</td>\n",
       "      <td>GIGARO</td>\n",
       "      <td>0.000000e+00</td>\n",
       "      <td>506 ha</td>\n",
       "      <td>IMAGE SATELLITE SENTINEL</td>\n",
       "      <td>RCCI_JETS OBJETS INCANDESCENTS</td>\n",
       "      <td>Synthèse IMAGE SENTINEL 2 et relevés GPS</td>\n",
       "      <td>MULTIPOLYGON (((996138.181 6237162.083, 996167...</td>\n",
       "    </tr>\n",
       "    <tr>\n",
       "      <th>2</th>\n",
       "      <td>0</td>\n",
       "      <td>None</td>\n",
       "      <td>TRIGANCE</td>\n",
       "      <td>2017-06-15</td>\n",
       "      <td>COLLINE D'ESTELLE</td>\n",
       "      <td>1.158500e+06</td>\n",
       "      <td>115, 80 ha</td>\n",
       "      <td>IMAGE SATELLITE SENTINEL</td>\n",
       "      <td>CANJUERS TIRS MUNITIONS</td>\n",
       "      <td>TRAITEMENT IMAGE SENTINEL 2</td>\n",
       "      <td>POLYGON ((976398.645 6294995.096, 976398.604 6...</td>\n",
       "    </tr>\n",
       "    <tr>\n",
       "      <th>3</th>\n",
       "      <td>4669</td>\n",
       "      <td>23h00</td>\n",
       "      <td>LA LONDE-LES-MAURES</td>\n",
       "      <td>2017-07-25</td>\n",
       "      <td>VAL ROSE</td>\n",
       "      <td>1.423050e+07</td>\n",
       "      <td>1423,05 ha</td>\n",
       "      <td>IMAGE SATELLITE SENTINEL</td>\n",
       "      <td>RCCI _MALVEILLANCE_SUPPOSEE</td>\n",
       "      <td>TRAITEMENT IMAGE SENTINEL 2</td>\n",
       "      <td>MULTIPOLYGON (((967149.726 6232341.320, 967169...</td>\n",
       "    </tr>\n",
       "    <tr>\n",
       "      <th>4</th>\n",
       "      <td>4787</td>\n",
       "      <td>14h30</td>\n",
       "      <td>BORMES-LES-MIMOSAS</td>\n",
       "      <td>2017-07-07</td>\n",
       "      <td>SIOUVETTE</td>\n",
       "      <td>0.000000e+00</td>\n",
       "      <td>4,47 ha</td>\n",
       "      <td>RELEVE GPS</td>\n",
       "      <td>RCCI_JETS OBJETS INCANDESCENTS</td>\n",
       "      <td>SUPPOSEE</td>\n",
       "      <td>POLYGON ((979999.922 6240348.027, 979994.476 6...</td>\n",
       "    </tr>\n",
       "    <tr>\n",
       "      <th>5</th>\n",
       "      <td>2601</td>\n",
       "      <td>13h26</td>\n",
       "      <td>BORMES-LES-MIMOSAS</td>\n",
       "      <td>2017-06-21</td>\n",
       "      <td>HAUT PARA</td>\n",
       "      <td>0.000000e+00</td>\n",
       "      <td>3,17 ha</td>\n",
       "      <td>RELEVE GPS</td>\n",
       "      <td>RCCI_MACHINE-OUTILS</td>\n",
       "      <td>cause accidentelle (travaux forestiers)</td>\n",
       "      <td>POLYGON ((970608.889 6233760.310, 970587.150 6...</td>\n",
       "    </tr>\n",
       "    <tr>\n",
       "      <th>6</th>\n",
       "      <td>5133</td>\n",
       "      <td>22h12</td>\n",
       "      <td>ARTIGUES</td>\n",
       "      <td>2017-07-24</td>\n",
       "      <td>COLLE PELADE</td>\n",
       "      <td>1.780380e+07</td>\n",
       "      <td>1704 ha</td>\n",
       "      <td>IMAGE SATELLITE SENTINEL</td>\n",
       "      <td>RCCI _MALVEILLANCE</td>\n",
       "      <td>TRAITEMENT IMAGE SENTINEL 2</td>\n",
       "      <td>MULTIPOLYGON (((934652.103 6275662.078, 934646...</td>\n",
       "    </tr>\n",
       "    <tr>\n",
       "      <th>7</th>\n",
       "      <td>6496</td>\n",
       "      <td>16h28</td>\n",
       "      <td>FREJUS</td>\n",
       "      <td>2017-09-01</td>\n",
       "      <td>A8 CAPITOU</td>\n",
       "      <td>3.470000e+05</td>\n",
       "      <td>34,7 ha</td>\n",
       "      <td>GPS</td>\n",
       "      <td>RCCI_JETS OBJETS INCANDESCENTS</td>\n",
       "      <td>None</td>\n",
       "      <td>MULTIPOLYGON (((1004320.901 6272550.143, 10042...</td>\n",
       "    </tr>\n",
       "    <tr>\n",
       "      <th>8</th>\n",
       "      <td>6782</td>\n",
       "      <td>22h00</td>\n",
       "      <td>HYERES</td>\n",
       "      <td>2017-09-02</td>\n",
       "      <td>CHEMIN DES MAURES</td>\n",
       "      <td>4.318000e+06</td>\n",
       "      <td>431 ha</td>\n",
       "      <td>RELEVE TERRAIN</td>\n",
       "      <td>RCCI_MALVEILLANCE</td>\n",
       "      <td>None</td>\n",
       "      <td>MULTIPOLYGON (((959136.098 6233651.015, 959161...</td>\n",
       "    </tr>\n",
       "    <tr>\n",
       "      <th>9</th>\n",
       "      <td>0</td>\n",
       "      <td>None</td>\n",
       "      <td>COMPS/ARTUBY</td>\n",
       "      <td>2017-10-08</td>\n",
       "      <td>LA VERRERIE</td>\n",
       "      <td>2.381340e+02</td>\n",
       "      <td>238,13 ha</td>\n",
       "      <td>IMAGE SATELLITE SENTINEL</td>\n",
       "      <td>CANJUERS TIRS MUNITIONS</td>\n",
       "      <td>TRAITEMENT IMAGE SENTINEL 2</td>\n",
       "      <td>MULTIPOLYGON (((980684.678 6292938.727, 980684...</td>\n",
       "    </tr>\n",
       "    <tr>\n",
       "      <th>10</th>\n",
       "      <td>7557</td>\n",
       "      <td>21h15</td>\n",
       "      <td>BORMES-LES-MIMOSAS</td>\n",
       "      <td>2017-10-06</td>\n",
       "      <td>HAUT-PARA</td>\n",
       "      <td>0.000000e+00</td>\n",
       "      <td>2,63 ha</td>\n",
       "      <td>RELEVE GPS</td>\n",
       "      <td>RCCI _MALVEILLANCE_SUPPOSEE</td>\n",
       "      <td>None</td>\n",
       "      <td>POLYGON ((970247.734 6233765.230, 970352.391 6...</td>\n",
       "    </tr>\n",
       "  </tbody>\n",
       "</table>\n",
       "</div>"
      ],
      "text/plain": [
       "    ID_PROMETH HEURE_DEBU           COMMUNE_EC  DATE_ECLOS           LIEU_DIT  \\\n",
       "0         2694      13h30           RAMATUELLE  2017-06-07        LA QUESSINE   \n",
       "1         5135      19h35      LA CROIX-VALMER  2017-07-24             GIGARO   \n",
       "2            0       None             TRIGANCE  2017-06-15  COLLINE D'ESTELLE   \n",
       "3         4669      23h00  LA LONDE-LES-MAURES  2017-07-25           VAL ROSE   \n",
       "4         4787      14h30   BORMES-LES-MIMOSAS  2017-07-07          SIOUVETTE   \n",
       "5         2601      13h26   BORMES-LES-MIMOSAS  2017-06-21          HAUT PARA   \n",
       "6         5133      22h12             ARTIGUES  2017-07-24       COLLE PELADE   \n",
       "7         6496      16h28               FREJUS  2017-09-01         A8 CAPITOU   \n",
       "8         6782      22h00               HYERES  2017-09-02  CHEMIN DES MAURES   \n",
       "9            0       None         COMPS/ARTUBY  2017-10-08        LA VERRERIE   \n",
       "10        7557      21h15   BORMES-LES-MIMOSAS  2017-10-06          HAUT-PARA   \n",
       "\n",
       "      SURFACE_SI  SURFACE_DE                QUALITE_DO  \\\n",
       "0   1.572297e+05    15,64 ha                RELEVE GPS   \n",
       "1   0.000000e+00      506 ha  IMAGE SATELLITE SENTINEL   \n",
       "2   1.158500e+06  115, 80 ha  IMAGE SATELLITE SENTINEL   \n",
       "3   1.423050e+07  1423,05 ha  IMAGE SATELLITE SENTINEL   \n",
       "4   0.000000e+00     4,47 ha                RELEVE GPS   \n",
       "5   0.000000e+00     3,17 ha                RELEVE GPS   \n",
       "6   1.780380e+07     1704 ha  IMAGE SATELLITE SENTINEL   \n",
       "7   3.470000e+05     34,7 ha                       GPS   \n",
       "8   4.318000e+06      431 ha            RELEVE TERRAIN   \n",
       "9   2.381340e+02   238,13 ha  IMAGE SATELLITE SENTINEL   \n",
       "10  0.000000e+00     2,63 ha                RELEVE GPS   \n",
       "\n",
       "                        ENQUETE_FE                                OBSERVATIO  \\\n",
       "0              RCCI_MACHINE-OUTILS                                  TONDEUSE   \n",
       "1   RCCI_JETS OBJETS INCANDESCENTS  Synthèse IMAGE SENTINEL 2 et relevés GPS   \n",
       "2          CANJUERS TIRS MUNITIONS               TRAITEMENT IMAGE SENTINEL 2   \n",
       "3      RCCI _MALVEILLANCE_SUPPOSEE               TRAITEMENT IMAGE SENTINEL 2   \n",
       "4   RCCI_JETS OBJETS INCANDESCENTS                                  SUPPOSEE   \n",
       "5              RCCI_MACHINE-OUTILS   cause accidentelle (travaux forestiers)   \n",
       "6               RCCI _MALVEILLANCE               TRAITEMENT IMAGE SENTINEL 2   \n",
       "7   RCCI_JETS OBJETS INCANDESCENTS                                      None   \n",
       "8                RCCI_MALVEILLANCE                                      None   \n",
       "9          CANJUERS TIRS MUNITIONS               TRAITEMENT IMAGE SENTINEL 2   \n",
       "10     RCCI _MALVEILLANCE_SUPPOSEE                                      None   \n",
       "\n",
       "                                             geometry  \n",
       "0   MULTIPOLYGON (((996933.218 6240075.129, 996934...  \n",
       "1   MULTIPOLYGON (((996138.181 6237162.083, 996167...  \n",
       "2   POLYGON ((976398.645 6294995.096, 976398.604 6...  \n",
       "3   MULTIPOLYGON (((967149.726 6232341.320, 967169...  \n",
       "4   POLYGON ((979999.922 6240348.027, 979994.476 6...  \n",
       "5   POLYGON ((970608.889 6233760.310, 970587.150 6...  \n",
       "6   MULTIPOLYGON (((934652.103 6275662.078, 934646...  \n",
       "7   MULTIPOLYGON (((1004320.901 6272550.143, 10042...  \n",
       "8   MULTIPOLYGON (((959136.098 6233651.015, 959161...  \n",
       "9   MULTIPOLYGON (((980684.678 6292938.727, 980684...  \n",
       "10  POLYGON ((970247.734 6233765.230, 970352.391 6...  "
      ]
     },
     "execution_count": 85,
     "metadata": {},
     "output_type": "execute_result"
    }
   ],
   "source": [
    "gdf"
   ]
  },
  {
   "cell_type": "code",
   "execution_count": 86,
   "metadata": {},
   "outputs": [
    {
     "data": {
      "text/html": [
       "<div>\n",
       "<style scoped>\n",
       "    .dataframe tbody tr th:only-of-type {\n",
       "        vertical-align: middle;\n",
       "    }\n",
       "\n",
       "    .dataframe tbody tr th {\n",
       "        vertical-align: top;\n",
       "    }\n",
       "\n",
       "    .dataframe thead th {\n",
       "        text-align: right;\n",
       "    }\n",
       "</style>\n",
       "<table border=\"1\" class=\"dataframe\">\n",
       "  <thead>\n",
       "    <tr style=\"text-align: right;\">\n",
       "      <th></th>\n",
       "      <th>ID_PROMETH</th>\n",
       "      <th>HEURE_DEBU</th>\n",
       "      <th>COMMUNE_EC</th>\n",
       "      <th>DATE_ECLOS</th>\n",
       "      <th>LIEU_DIT</th>\n",
       "      <th>SURFACE_SI</th>\n",
       "      <th>SURFACE_DE</th>\n",
       "      <th>QUALITE_DO</th>\n",
       "      <th>ENQUETE_FE</th>\n",
       "      <th>OBSERVATIO</th>\n",
       "      <th>geometry</th>\n",
       "    </tr>\n",
       "  </thead>\n",
       "  <tbody>\n",
       "    <tr>\n",
       "      <th>0</th>\n",
       "      <td>2694</td>\n",
       "      <td>13h30</td>\n",
       "      <td>RAMATUELLE</td>\n",
       "      <td>2017-06-07</td>\n",
       "      <td>LA QUESSINE</td>\n",
       "      <td>1.572297e+05</td>\n",
       "      <td>15,64 ha</td>\n",
       "      <td>RELEVE GPS</td>\n",
       "      <td>RCCI_MACHINE-OUTILS</td>\n",
       "      <td>TONDEUSE</td>\n",
       "      <td>MULTIPOLYGON (((996933.218 6240075.129, 996934...</td>\n",
       "    </tr>\n",
       "    <tr>\n",
       "      <th>1</th>\n",
       "      <td>5135</td>\n",
       "      <td>19h35</td>\n",
       "      <td>LA CROIX-VALMER</td>\n",
       "      <td>2017-07-24</td>\n",
       "      <td>GIGARO</td>\n",
       "      <td>0.000000e+00</td>\n",
       "      <td>506 ha</td>\n",
       "      <td>IMAGE SATELLITE SENTINEL</td>\n",
       "      <td>RCCI_JETS OBJETS INCANDESCENTS</td>\n",
       "      <td>Synthèse IMAGE SENTINEL 2 et relevés GPS</td>\n",
       "      <td>MULTIPOLYGON (((996138.181 6237162.083, 996167...</td>\n",
       "    </tr>\n",
       "    <tr>\n",
       "      <th>2</th>\n",
       "      <td>0</td>\n",
       "      <td>None</td>\n",
       "      <td>TRIGANCE</td>\n",
       "      <td>2017-06-15</td>\n",
       "      <td>COLLINE D'ESTELLE</td>\n",
       "      <td>1.158500e+06</td>\n",
       "      <td>115, 80 ha</td>\n",
       "      <td>IMAGE SATELLITE SENTINEL</td>\n",
       "      <td>CANJUERS TIRS MUNITIONS</td>\n",
       "      <td>TRAITEMENT IMAGE SENTINEL 2</td>\n",
       "      <td>POLYGON ((976398.645 6294995.096, 976398.604 6...</td>\n",
       "    </tr>\n",
       "    <tr>\n",
       "      <th>3</th>\n",
       "      <td>4669</td>\n",
       "      <td>23h00</td>\n",
       "      <td>LA LONDE-LES-MAURES</td>\n",
       "      <td>2017-07-25</td>\n",
       "      <td>VAL ROSE</td>\n",
       "      <td>1.423050e+07</td>\n",
       "      <td>1423,05 ha</td>\n",
       "      <td>IMAGE SATELLITE SENTINEL</td>\n",
       "      <td>RCCI _MALVEILLANCE_SUPPOSEE</td>\n",
       "      <td>TRAITEMENT IMAGE SENTINEL 2</td>\n",
       "      <td>MULTIPOLYGON (((967149.726 6232341.320, 967169...</td>\n",
       "    </tr>\n",
       "    <tr>\n",
       "      <th>4</th>\n",
       "      <td>4787</td>\n",
       "      <td>14h30</td>\n",
       "      <td>BORMES-LES-MIMOSAS</td>\n",
       "      <td>2017-07-07</td>\n",
       "      <td>SIOUVETTE</td>\n",
       "      <td>0.000000e+00</td>\n",
       "      <td>4,47 ha</td>\n",
       "      <td>RELEVE GPS</td>\n",
       "      <td>RCCI_JETS OBJETS INCANDESCENTS</td>\n",
       "      <td>SUPPOSEE</td>\n",
       "      <td>POLYGON ((979999.922 6240348.027, 979994.476 6...</td>\n",
       "    </tr>\n",
       "    <tr>\n",
       "      <th>5</th>\n",
       "      <td>2601</td>\n",
       "      <td>13h26</td>\n",
       "      <td>BORMES-LES-MIMOSAS</td>\n",
       "      <td>2017-06-21</td>\n",
       "      <td>HAUT PARA</td>\n",
       "      <td>0.000000e+00</td>\n",
       "      <td>3,17 ha</td>\n",
       "      <td>RELEVE GPS</td>\n",
       "      <td>RCCI_MACHINE-OUTILS</td>\n",
       "      <td>cause accidentelle (travaux forestiers)</td>\n",
       "      <td>POLYGON ((970608.889 6233760.310, 970587.150 6...</td>\n",
       "    </tr>\n",
       "    <tr>\n",
       "      <th>6</th>\n",
       "      <td>5133</td>\n",
       "      <td>22h12</td>\n",
       "      <td>ARTIGUES</td>\n",
       "      <td>2017-07-24</td>\n",
       "      <td>COLLE PELADE</td>\n",
       "      <td>1.780380e+07</td>\n",
       "      <td>1704 ha</td>\n",
       "      <td>IMAGE SATELLITE SENTINEL</td>\n",
       "      <td>RCCI _MALVEILLANCE</td>\n",
       "      <td>TRAITEMENT IMAGE SENTINEL 2</td>\n",
       "      <td>MULTIPOLYGON (((934652.103 6275662.078, 934646...</td>\n",
       "    </tr>\n",
       "    <tr>\n",
       "      <th>7</th>\n",
       "      <td>6496</td>\n",
       "      <td>16h28</td>\n",
       "      <td>FREJUS</td>\n",
       "      <td>2017-09-01</td>\n",
       "      <td>A8 CAPITOU</td>\n",
       "      <td>3.470000e+05</td>\n",
       "      <td>34,7 ha</td>\n",
       "      <td>GPS</td>\n",
       "      <td>RCCI_JETS OBJETS INCANDESCENTS</td>\n",
       "      <td>None</td>\n",
       "      <td>MULTIPOLYGON (((1004320.901 6272550.143, 10042...</td>\n",
       "    </tr>\n",
       "    <tr>\n",
       "      <th>8</th>\n",
       "      <td>6782</td>\n",
       "      <td>22h00</td>\n",
       "      <td>HYERES</td>\n",
       "      <td>2017-09-02</td>\n",
       "      <td>CHEMIN DES MAURES</td>\n",
       "      <td>4.318000e+06</td>\n",
       "      <td>431 ha</td>\n",
       "      <td>RELEVE TERRAIN</td>\n",
       "      <td>RCCI_MALVEILLANCE</td>\n",
       "      <td>None</td>\n",
       "      <td>MULTIPOLYGON (((959136.098 6233651.015, 959161...</td>\n",
       "    </tr>\n",
       "    <tr>\n",
       "      <th>9</th>\n",
       "      <td>0</td>\n",
       "      <td>None</td>\n",
       "      <td>COMPS/ARTUBY</td>\n",
       "      <td>2017-10-08</td>\n",
       "      <td>LA VERRERIE</td>\n",
       "      <td>2.381340e+02</td>\n",
       "      <td>238,13 ha</td>\n",
       "      <td>IMAGE SATELLITE SENTINEL</td>\n",
       "      <td>CANJUERS TIRS MUNITIONS</td>\n",
       "      <td>TRAITEMENT IMAGE SENTINEL 2</td>\n",
       "      <td>MULTIPOLYGON (((980684.678 6292938.727, 980684...</td>\n",
       "    </tr>\n",
       "    <tr>\n",
       "      <th>10</th>\n",
       "      <td>7557</td>\n",
       "      <td>21h15</td>\n",
       "      <td>BORMES-LES-MIMOSAS</td>\n",
       "      <td>2017-10-06</td>\n",
       "      <td>HAUT-PARA</td>\n",
       "      <td>0.000000e+00</td>\n",
       "      <td>2,63 ha</td>\n",
       "      <td>RELEVE GPS</td>\n",
       "      <td>RCCI _MALVEILLANCE_SUPPOSEE</td>\n",
       "      <td>None</td>\n",
       "      <td>POLYGON ((970247.734 6233765.230, 970352.391 6...</td>\n",
       "    </tr>\n",
       "  </tbody>\n",
       "</table>\n",
       "</div>"
      ],
      "text/plain": [
       "    ID_PROMETH HEURE_DEBU           COMMUNE_EC  DATE_ECLOS           LIEU_DIT  \\\n",
       "0         2694      13h30           RAMATUELLE  2017-06-07        LA QUESSINE   \n",
       "1         5135      19h35      LA CROIX-VALMER  2017-07-24             GIGARO   \n",
       "2            0       None             TRIGANCE  2017-06-15  COLLINE D'ESTELLE   \n",
       "3         4669      23h00  LA LONDE-LES-MAURES  2017-07-25           VAL ROSE   \n",
       "4         4787      14h30   BORMES-LES-MIMOSAS  2017-07-07          SIOUVETTE   \n",
       "5         2601      13h26   BORMES-LES-MIMOSAS  2017-06-21          HAUT PARA   \n",
       "6         5133      22h12             ARTIGUES  2017-07-24       COLLE PELADE   \n",
       "7         6496      16h28               FREJUS  2017-09-01         A8 CAPITOU   \n",
       "8         6782      22h00               HYERES  2017-09-02  CHEMIN DES MAURES   \n",
       "9            0       None         COMPS/ARTUBY  2017-10-08        LA VERRERIE   \n",
       "10        7557      21h15   BORMES-LES-MIMOSAS  2017-10-06          HAUT-PARA   \n",
       "\n",
       "      SURFACE_SI  SURFACE_DE                QUALITE_DO  \\\n",
       "0   1.572297e+05    15,64 ha                RELEVE GPS   \n",
       "1   0.000000e+00      506 ha  IMAGE SATELLITE SENTINEL   \n",
       "2   1.158500e+06  115, 80 ha  IMAGE SATELLITE SENTINEL   \n",
       "3   1.423050e+07  1423,05 ha  IMAGE SATELLITE SENTINEL   \n",
       "4   0.000000e+00     4,47 ha                RELEVE GPS   \n",
       "5   0.000000e+00     3,17 ha                RELEVE GPS   \n",
       "6   1.780380e+07     1704 ha  IMAGE SATELLITE SENTINEL   \n",
       "7   3.470000e+05     34,7 ha                       GPS   \n",
       "8   4.318000e+06      431 ha            RELEVE TERRAIN   \n",
       "9   2.381340e+02   238,13 ha  IMAGE SATELLITE SENTINEL   \n",
       "10  0.000000e+00     2,63 ha                RELEVE GPS   \n",
       "\n",
       "                        ENQUETE_FE                                OBSERVATIO  \\\n",
       "0              RCCI_MACHINE-OUTILS                                  TONDEUSE   \n",
       "1   RCCI_JETS OBJETS INCANDESCENTS  Synthèse IMAGE SENTINEL 2 et relevés GPS   \n",
       "2          CANJUERS TIRS MUNITIONS               TRAITEMENT IMAGE SENTINEL 2   \n",
       "3      RCCI _MALVEILLANCE_SUPPOSEE               TRAITEMENT IMAGE SENTINEL 2   \n",
       "4   RCCI_JETS OBJETS INCANDESCENTS                                  SUPPOSEE   \n",
       "5              RCCI_MACHINE-OUTILS   cause accidentelle (travaux forestiers)   \n",
       "6               RCCI _MALVEILLANCE               TRAITEMENT IMAGE SENTINEL 2   \n",
       "7   RCCI_JETS OBJETS INCANDESCENTS                                      None   \n",
       "8                RCCI_MALVEILLANCE                                      None   \n",
       "9          CANJUERS TIRS MUNITIONS               TRAITEMENT IMAGE SENTINEL 2   \n",
       "10     RCCI _MALVEILLANCE_SUPPOSEE                                      None   \n",
       "\n",
       "                                             geometry  \n",
       "0   MULTIPOLYGON (((996933.218 6240075.129, 996934...  \n",
       "1   MULTIPOLYGON (((996138.181 6237162.083, 996167...  \n",
       "2   POLYGON ((976398.645 6294995.096, 976398.604 6...  \n",
       "3   MULTIPOLYGON (((967149.726 6232341.320, 967169...  \n",
       "4   POLYGON ((979999.922 6240348.027, 979994.476 6...  \n",
       "5   POLYGON ((970608.889 6233760.310, 970587.150 6...  \n",
       "6   MULTIPOLYGON (((934652.103 6275662.078, 934646...  \n",
       "7   MULTIPOLYGON (((1004320.901 6272550.143, 10042...  \n",
       "8   MULTIPOLYGON (((959136.098 6233651.015, 959161...  \n",
       "9   MULTIPOLYGON (((980684.678 6292938.727, 980684...  \n",
       "10  POLYGON ((970247.734 6233765.230, 970352.391 6...  "
      ]
     },
     "execution_count": 86,
     "metadata": {},
     "output_type": "execute_result"
    }
   ],
   "source": [
    "gdf_date"
   ]
  },
  {
   "cell_type": "code",
   "execution_count": 28,
   "metadata": {},
   "outputs": [
    {
     "data": {
      "text/plain": [
       "<open DatasetReader name='/home/robert/ds-wildfire/data/scenes/31/T/GJ/2017/10/10/B8AB11B12.jp2' mode='r'>"
      ]
     },
     "execution_count": 28,
     "metadata": {},
     "output_type": "execute_result"
    }
   ],
   "source": [
    "raster\n"
   ]
  },
  {
   "cell_type": "code",
   "execution_count": 9,
   "metadata": {},
   "outputs": [
    {
     "data": {
      "text/plain": [
       "<open DatasetReader name='/home/robert/ds-wildfire/data/scenes/31/T/GJ/2017/6/19/B8AB11B12.tif' mode='r'>"
      ]
     },
     "execution_count": 9,
     "metadata": {},
     "output_type": "execute_result"
    }
   ],
   "source": [
    "raster"
   ]
  },
  {
   "cell_type": "code",
   "execution_count": 10,
   "metadata": {},
   "outputs": [],
   "source": [
    "raster_meta=raster.meta"
   ]
  },
  {
   "cell_type": "code",
   "execution_count": 11,
   "metadata": {},
   "outputs": [
    {
     "data": {
      "text/plain": [
       "{'driver': 'GTiff',\n",
       " 'dtype': 'int16',\n",
       " 'nodata': -9999.0,\n",
       " 'width': 5490,\n",
       " 'height': 5490,\n",
       " 'count': 3,\n",
       " 'crs': CRS.from_epsg(32631),\n",
       " 'transform': Affine(20.0, 0.0, 699960.0,\n",
       "        0.0, -20.0, 4900020.0)}"
      ]
     },
     "execution_count": 11,
     "metadata": {},
     "output_type": "execute_result"
    }
   ],
   "source": [
    "raster_meta"
   ]
  },
  {
   "cell_type": "code",
   "execution_count": 12,
   "metadata": {},
   "outputs": [
    {
     "name": "stderr",
     "output_type": "stream",
     "text": [
      "1764it [00:04, 389.62it/s]\n"
     ]
    }
   ],
   "source": [
    "patch_dfs, patch_windows = import_shapefile_for_patches(\"/data/raw_data/wildfires-ground-truth/france/vars/N_DFCI_CONTOUR_FEUX_2017_S_083.shp\", raster, raster_meta, 128, 1000, \"_2017_06_19_\"+\"31_T_GJ\")"
   ]
  },
  {
   "cell_type": "code",
   "execution_count": 32,
   "metadata": {},
   "outputs": [
    {
     "data": {
      "text/plain": [
       "{'raster_patch100406_2017_06_19_31_T_GJ': {'chip_df':   ID_PROMETH HEURE_DEBU COMMUNE_EC  DATE_ECLOS      LIEU_DIT  SURFACE_SI  \\\n",
       "  2       5133      22h12   ARTIGUES  2017-07-24  COLLE PELADE  17803800.0   \n",
       "  \n",
       "    SURFACE_DE                QUALITE_DO          ENQUETE_FE  \\\n",
       "  2    1704 ha  IMAGE SATELLITE SENTINEL  RCCI _MALVEILLANCE   \n",
       "  \n",
       "                      OBSERVATIO  \\\n",
       "  2  TRAITEMENT IMAGE SENTINEL 2   \n",
       "  \n",
       "                                              geometry  fid  \n",
       "  2  POLYGON ((128.00000 81.43793, 125.12810 80.863...    2  ,\n",
       "  'chip_window': Window(col_off=1152, row_off=3584, width=128, height=128),\n",
       "  'chip_transform': Affine(20.0, 0.0, 723000.0,\n",
       "         0.0, -20.0, 4828340.0),\n",
       "  'chip_poly': <shapely.geometry.polygon.Polygon at 0x7f9bb6253e20>},\n",
       " 'raster_patch100448_2017_06_19_31_T_GJ': {'chip_df':    ID_PROMETH HEURE_DEBU COMMUNE_EC  DATE_ECLOS      LIEU_DIT  SURFACE_SI  \\\n",
       "  2        5133      22h12   ARTIGUES  2017-07-24  COLLE PELADE  17803800.0   \n",
       "  19       5133      22h12   ARTIGUES  2017-07-24  COLLE PELADE  17803800.0   \n",
       "  \n",
       "     SURFACE_DE                QUALITE_DO          ENQUETE_FE  \\\n",
       "  2     1704 ha  IMAGE SATELLITE SENTINEL  RCCI _MALVEILLANCE   \n",
       "  19    1704 ha  IMAGE SATELLITE SENTINEL  RCCI _MALVEILLANCE   \n",
       "  \n",
       "                       OBSERVATIO  \\\n",
       "  2   TRAITEMENT IMAGE SENTINEL 2   \n",
       "  19  TRAITEMENT IMAGE SENTINEL 2   \n",
       "  \n",
       "                                               geometry  fid  \n",
       "  2   POLYGON ((29.264 128.000, 28.128 126.864, 27.1...    2  \n",
       "  19  POLYGON ((26.128 118.864, 26.128 122.864, 25.1...   19  ,\n",
       "  'chip_window': Window(col_off=1280, row_off=3584, width=128, height=128),\n",
       "  'chip_transform': Affine(20.0, 0.0, 725560.0,\n",
       "         0.0, -20.0, 4828340.0),\n",
       "  'chip_poly': <shapely.geometry.polygon.Polygon at 0x7f9bb26481f0>},\n",
       " 'raster_patch100449_2017_06_19_31_T_GJ': {'chip_df':    ID_PROMETH HEURE_DEBU COMMUNE_EC  DATE_ECLOS      LIEU_DIT  SURFACE_SI  \\\n",
       "  2        5133      22h12   ARTIGUES  2017-07-24  COLLE PELADE  17803800.0   \n",
       "  18       5133      22h12   ARTIGUES  2017-07-24  COLLE PELADE  17803800.0   \n",
       "  \n",
       "     SURFACE_DE                QUALITE_DO          ENQUETE_FE  \\\n",
       "  2     1704 ha  IMAGE SATELLITE SENTINEL  RCCI _MALVEILLANCE   \n",
       "  18    1704 ha  IMAGE SATELLITE SENTINEL  RCCI _MALVEILLANCE   \n",
       "  \n",
       "                       OBSERVATIO  \\\n",
       "  2   TRAITEMENT IMAGE SENTINEL 2   \n",
       "  18  TRAITEMENT IMAGE SENTINEL 2   \n",
       "  \n",
       "                                               geometry  fid  \n",
       "  2   POLYGON ((128.00000 49.23245, 126.12795 44.864...    2  \n",
       "  18  POLYGON ((63.12802 8.86397, 64.12801 9.86393, ...   18  ,\n",
       "  'chip_window': Window(col_off=1280, row_off=3712, width=128, height=128),\n",
       "  'chip_transform': Affine(20.0, 0.0, 725560.0,\n",
       "         0.0, -20.0, 4825780.0),\n",
       "  'chip_poly': <shapely.geometry.polygon.Polygon at 0x7f9bb6253d00>},\n",
       " 'raster_patch100490_2017_06_19_31_T_GJ': {'chip_df':   ID_PROMETH HEURE_DEBU COMMUNE_EC  DATE_ECLOS      LIEU_DIT  SURFACE_SI  \\\n",
       "  2       5133      22h12   ARTIGUES  2017-07-24  COLLE PELADE  17803800.0   \n",
       "  \n",
       "    SURFACE_DE                QUALITE_DO          ENQUETE_FE  \\\n",
       "  2    1704 ha  IMAGE SATELLITE SENTINEL  RCCI _MALVEILLANCE   \n",
       "  \n",
       "                      OBSERVATIO  \\\n",
       "  2  TRAITEMENT IMAGE SENTINEL 2   \n",
       "  \n",
       "                                              geometry  fid  \n",
       "  2  POLYGON ((0.000 16.391, 2.129 16.864, 4.129 18...    2  ,\n",
       "  'chip_window': Window(col_off=1408, row_off=3584, width=128, height=128),\n",
       "  'chip_transform': Affine(20.0, 0.0, 728120.0,\n",
       "         0.0, -20.0, 4828340.0),\n",
       "  'chip_poly': <shapely.geometry.polygon.Polygon at 0x7f9bb28d59a0>},\n",
       " 'raster_patch100491_2017_06_19_31_T_GJ': {'chip_df':    ID_PROMETH HEURE_DEBU COMMUNE_EC  DATE_ECLOS      LIEU_DIT  SURFACE_SI  \\\n",
       "  2        5133      22h12   ARTIGUES  2017-07-24  COLLE PELADE  17803800.0   \n",
       "  17       5133      22h12   ARTIGUES  2017-07-24  COLLE PELADE  17803800.0   \n",
       "  \n",
       "     SURFACE_DE                QUALITE_DO          ENQUETE_FE  \\\n",
       "  2     1704 ha  IMAGE SATELLITE SENTINEL  RCCI _MALVEILLANCE   \n",
       "  17    1704 ha  IMAGE SATELLITE SENTINEL  RCCI _MALVEILLANCE   \n",
       "  \n",
       "                       OBSERVATIO  \\\n",
       "  2   TRAITEMENT IMAGE SENTINEL 2   \n",
       "  17  TRAITEMENT IMAGE SENTINEL 2   \n",
       "  \n",
       "                                               geometry  fid  \n",
       "  2   POLYGON ((14.198 41.888, 11.557 44.081, 12.477...    2  \n",
       "  17  POLYGON ((78.128 49.865, 79.128 49.865, 79.128...   17  ,\n",
       "  'chip_window': Window(col_off=1408, row_off=3712, width=128, height=128),\n",
       "  'chip_transform': Affine(20.0, 0.0, 728120.0,\n",
       "         0.0, -20.0, 4825780.0),\n",
       "  'chip_poly': <shapely.geometry.polygon.Polygon at 0x7f9bb6539850>},\n",
       " 'raster_patch100492_2017_06_19_31_T_GJ': {'chip_df':    ID_PROMETH HEURE_DEBU COMMUNE_EC  DATE_ECLOS      LIEU_DIT  SURFACE_SI  \\\n",
       "  13       5133      22h12   ARTIGUES  2017-07-24  COLLE PELADE  17803800.0   \n",
       "  15       5133      22h12   ARTIGUES  2017-07-24  COLLE PELADE  17803800.0   \n",
       "  16       5133      22h12   ARTIGUES  2017-07-24  COLLE PELADE  17803800.0   \n",
       "  \n",
       "     SURFACE_DE                QUALITE_DO          ENQUETE_FE  \\\n",
       "  13    1704 ha  IMAGE SATELLITE SENTINEL  RCCI _MALVEILLANCE   \n",
       "  15    1704 ha  IMAGE SATELLITE SENTINEL  RCCI _MALVEILLANCE   \n",
       "  16    1704 ha  IMAGE SATELLITE SENTINEL  RCCI _MALVEILLANCE   \n",
       "  \n",
       "                       OBSERVATIO  \\\n",
       "  13  TRAITEMENT IMAGE SENTINEL 2   \n",
       "  15  TRAITEMENT IMAGE SENTINEL 2   \n",
       "  16  TRAITEMENT IMAGE SENTINEL 2   \n",
       "  \n",
       "                                               geometry  fid  \n",
       "  13  POLYGON ((128.00000 37.12067, 127.12767 38.865...   13  \n",
       "  15  POLYGON ((125.12783 15.86523, 126.12782 16.865...   15  \n",
       "  16  POLYGON ((127.12786 9.86525, 128.00000 10.7373...   16  ,\n",
       "  'chip_window': Window(col_off=1408, row_off=3840, width=128, height=128),\n",
       "  'chip_transform': Affine(20.0, 0.0, 728120.0,\n",
       "         0.0, -20.0, 4823220.0),\n",
       "  'chip_poly': <shapely.geometry.polygon.Polygon at 0x7f9bb2648130>},\n",
       " 'raster_patch100532_2017_06_19_31_T_GJ': {'chip_df':   ID_PROMETH HEURE_DEBU COMMUNE_EC  DATE_ECLOS      LIEU_DIT  SURFACE_SI  \\\n",
       "  2       5133      22h12   ARTIGUES  2017-07-24  COLLE PELADE  17803800.0   \n",
       "  4       5133      22h12   ARTIGUES  2017-07-24  COLLE PELADE  17803800.0   \n",
       "  \n",
       "    SURFACE_DE                QUALITE_DO          ENQUETE_FE  \\\n",
       "  2    1704 ha  IMAGE SATELLITE SENTINEL  RCCI _MALVEILLANCE   \n",
       "  4    1704 ha  IMAGE SATELLITE SENTINEL  RCCI _MALVEILLANCE   \n",
       "  \n",
       "                      OBSERVATIO  \\\n",
       "  2  TRAITEMENT IMAGE SENTINEL 2   \n",
       "  4  TRAITEMENT IMAGE SENTINEL 2   \n",
       "  \n",
       "                                              geometry  fid  \n",
       "  2  POLYGON ((0.000 125.736, 1.129 126.865, 2.129 ...    2  \n",
       "  4  POLYGON ((96.129 120.865, 97.129 121.865, 97.1...    4  ,\n",
       "  'chip_window': Window(col_off=1536, row_off=3584, width=128, height=128),\n",
       "  'chip_transform': Affine(20.0, 0.0, 730680.0,\n",
       "         0.0, -20.0, 4828340.0),\n",
       "  'chip_poly': <shapely.geometry.polygon.Polygon at 0x7f9bb2651af0>},\n",
       " 'raster_patch100533_2017_06_19_31_T_GJ': {'chip_df':    ID_PROMETH HEURE_DEBU COMMUNE_EC  DATE_ECLOS      LIEU_DIT  SURFACE_SI  \\\n",
       "  2        5133      22h12   ARTIGUES  2017-07-24  COLLE PELADE  17803800.0   \n",
       "  5        5133      22h12   ARTIGUES  2017-07-24  COLLE PELADE  17803800.0   \n",
       "  6        5133      22h12   ARTIGUES  2017-07-24  COLLE PELADE  17803800.0   \n",
       "  7        5133      22h12   ARTIGUES  2017-07-24  COLLE PELADE  17803800.0   \n",
       "  10       5133      22h12   ARTIGUES  2017-07-24  COLLE PELADE  17803800.0   \n",
       "  \n",
       "     SURFACE_DE                QUALITE_DO          ENQUETE_FE  \\\n",
       "  2     1704 ha  IMAGE SATELLITE SENTINEL  RCCI _MALVEILLANCE   \n",
       "  5     1704 ha  IMAGE SATELLITE SENTINEL  RCCI _MALVEILLANCE   \n",
       "  6     1704 ha  IMAGE SATELLITE SENTINEL  RCCI _MALVEILLANCE   \n",
       "  7     1704 ha  IMAGE SATELLITE SENTINEL  RCCI _MALVEILLANCE   \n",
       "  10    1704 ha  IMAGE SATELLITE SENTINEL  RCCI _MALVEILLANCE   \n",
       "  \n",
       "                       OBSERVATIO  \\\n",
       "  2   TRAITEMENT IMAGE SENTINEL 2   \n",
       "  5   TRAITEMENT IMAGE SENTINEL 2   \n",
       "  6   TRAITEMENT IMAGE SENTINEL 2   \n",
       "  7   TRAITEMENT IMAGE SENTINEL 2   \n",
       "  10  TRAITEMENT IMAGE SENTINEL 2   \n",
       "  \n",
       "                                               geometry  fid  \n",
       "  2   POLYGON ((87.398 0.000, 89.129 0.865, 89.129 1...    2  \n",
       "  5   POLYGON ((91.129 5.865, 92.129 6.865, 92.129 7...    5  \n",
       "  6   POLYGON ((88.128 117.866, 89.128 119.866, 89.1...    6  \n",
       "  7   POLYGON ((57.128 112.866, 58.128 114.866, 56.1...    7  \n",
       "  10  POLYGON ((52.128 117.865, 51.128 117.866, 51.1...   10  ,\n",
       "  'chip_window': Window(col_off=1536, row_off=3712, width=128, height=128),\n",
       "  'chip_transform': Affine(20.0, 0.0, 730680.0,\n",
       "         0.0, -20.0, 4825780.0),\n",
       "  'chip_poly': <shapely.geometry.polygon.Polygon at 0x7f9bb2651820>},\n",
       " 'raster_patch100534_2017_06_19_31_T_GJ': {'chip_df':    ID_PROMETH HEURE_DEBU COMMUNE_EC  DATE_ECLOS      LIEU_DIT  SURFACE_SI  \\\n",
       "  2        5133      22h12   ARTIGUES  2017-07-24  COLLE PELADE  17803800.0   \n",
       "  8        5133      22h12   ARTIGUES  2017-07-24  COLLE PELADE  17803800.0   \n",
       "  9        5133      22h12   ARTIGUES  2017-07-24  COLLE PELADE  17803800.0   \n",
       "  11       5133      22h12   ARTIGUES  2017-07-24  COLLE PELADE  17803800.0   \n",
       "  12       5133      22h12   ARTIGUES  2017-07-24  COLLE PELADE  17803800.0   \n",
       "  13       5133      22h12   ARTIGUES  2017-07-24  COLLE PELADE  17803800.0   \n",
       "  14       5133      22h12   ARTIGUES  2017-07-24  COLLE PELADE  17803800.0   \n",
       "  15       5133      22h12   ARTIGUES  2017-07-24  COLLE PELADE  17803800.0   \n",
       "  16       5133      22h12   ARTIGUES  2017-07-24  COLLE PELADE  17803800.0   \n",
       "  \n",
       "     SURFACE_DE                QUALITE_DO          ENQUETE_FE  \\\n",
       "  2     1704 ha  IMAGE SATELLITE SENTINEL  RCCI _MALVEILLANCE   \n",
       "  8     1704 ha  IMAGE SATELLITE SENTINEL  RCCI _MALVEILLANCE   \n",
       "  9     1704 ha  IMAGE SATELLITE SENTINEL  RCCI _MALVEILLANCE   \n",
       "  11    1704 ha  IMAGE SATELLITE SENTINEL  RCCI _MALVEILLANCE   \n",
       "  12    1704 ha  IMAGE SATELLITE SENTINEL  RCCI _MALVEILLANCE   \n",
       "  13    1704 ha  IMAGE SATELLITE SENTINEL  RCCI _MALVEILLANCE   \n",
       "  14    1704 ha  IMAGE SATELLITE SENTINEL  RCCI _MALVEILLANCE   \n",
       "  15    1704 ha  IMAGE SATELLITE SENTINEL  RCCI _MALVEILLANCE   \n",
       "  16    1704 ha  IMAGE SATELLITE SENTINEL  RCCI _MALVEILLANCE   \n",
       "  \n",
       "                       OBSERVATIO  \\\n",
       "  2   TRAITEMENT IMAGE SENTINEL 2   \n",
       "  8   TRAITEMENT IMAGE SENTINEL 2   \n",
       "  9   TRAITEMENT IMAGE SENTINEL 2   \n",
       "  11  TRAITEMENT IMAGE SENTINEL 2   \n",
       "  12  TRAITEMENT IMAGE SENTINEL 2   \n",
       "  13  TRAITEMENT IMAGE SENTINEL 2   \n",
       "  14  TRAITEMENT IMAGE SENTINEL 2   \n",
       "  15  TRAITEMENT IMAGE SENTINEL 2   \n",
       "  16  TRAITEMENT IMAGE SENTINEL 2   \n",
       "  \n",
       "                                               geometry  fid  \n",
       "  2   POLYGON ((20.195 0.000, 21.128 1.865, 22.128 2...    2  \n",
       "  8   POLYGON ((56.128 58.866, 54.128 58.866, 54.128...    8  \n",
       "  9   POLYGON ((53.128 60.866, 52.128 60.866, 52.128...    9  \n",
       "  11  POLYGON ((5.764 22.412, 4.128 23.865, 2.128 23...   11  \n",
       "  12  POLYGON ((7.128 42.865, 5.128 42.865, 5.128 41...   12  \n",
       "  13  POLYGON ((7.128 28.865, 7.128 33.865, 3.128 35...   13  \n",
       "  14  POLYGON ((5.128 24.865, 6.128 25.865, 6.128 26...   14  \n",
       "  15  POLYGON ((0.000 17.801, 1.128 18.865, 1.128 19...   15  \n",
       "  16  POLYGON ((0.000 10.737, 0.128 10.865, 0.128 11...   16  ,\n",
       "  'chip_window': Window(col_off=1536, row_off=3840, width=128, height=128),\n",
       "  'chip_transform': Affine(20.0, 0.0, 730680.0,\n",
       "         0.0, -20.0, 4823220.0),\n",
       "  'chip_poly': <shapely.geometry.polygon.Polygon at 0x7f9bb2651730>},\n",
       " 'raster_patch100575_2017_06_19_31_T_GJ': {'chip_df':   ID_PROMETH HEURE_DEBU COMMUNE_EC  DATE_ECLOS      LIEU_DIT  SURFACE_SI  \\\n",
       "  1       5133      22h12   ARTIGUES  2017-07-24  COLLE PELADE  17803800.0   \n",
       "  2       5133      22h12   ARTIGUES  2017-07-24  COLLE PELADE  17803800.0   \n",
       "  \n",
       "    SURFACE_DE                QUALITE_DO          ENQUETE_FE  \\\n",
       "  1    1704 ha  IMAGE SATELLITE SENTINEL  RCCI _MALVEILLANCE   \n",
       "  2    1704 ha  IMAGE SATELLITE SENTINEL  RCCI _MALVEILLANCE   \n",
       "  \n",
       "                      OBSERVATIO  \\\n",
       "  1  TRAITEMENT IMAGE SENTINEL 2   \n",
       "  2  TRAITEMENT IMAGE SENTINEL 2   \n",
       "  \n",
       "                                              geometry  fid  \n",
       "  1  POLYGON ((64.43232 38.38691, 64.12934 39.86606...    1  \n",
       "  2  POLYGON ((0.00000 5.86563, 5.12937 5.86566, 8....    2  ,\n",
       "  'chip_window': Window(col_off=1664, row_off=3712, width=128, height=128),\n",
       "  'chip_transform': Affine(20.0, 0.0, 733240.0,\n",
       "         0.0, -20.0, 4825780.0),\n",
       "  'chip_poly': <shapely.geometry.polygon.Polygon at 0x7f9bb2651c40>},\n",
       " 'raster_patch101239_2017_06_19_31_T_GJ': {'chip_df':   ID_PROMETH HEURE_DEBU COMMUNE_EC  DATE_ECLOS           LIEU_DIT  SURFACE_SI  \\\n",
       "  0          0       None   TRIGANCE  2017-06-15  COLLINE D'ESTELLE   1158500.0   \n",
       "  \n",
       "     SURFACE_DE                QUALITE_DO               ENQUETE_FE  \\\n",
       "  0  115, 80 ha  IMAGE SATELLITE SENTINEL  CANJUERS TIRS MUNITIONS   \n",
       "  \n",
       "                      OBSERVATIO  \\\n",
       "  0  TRAITEMENT IMAGE SENTINEL 2   \n",
       "  \n",
       "                                              geometry  fid  \n",
       "  0  POLYGON ((105.850 99.716, 105.850 98.716, 106....    0  ,\n",
       "  'chip_window': Window(col_off=3712, row_off=2688, width=128, height=128),\n",
       "  'chip_transform': Affine(20.0, 0.0, 774200.0,\n",
       "         0.0, -20.0, 4846260.0),\n",
       "  'chip_poly': <shapely.geometry.polygon.Polygon at 0x7f9bb2666f40>},\n",
       " 'raster_patch101281_2017_06_19_31_T_GJ': {'chip_df':    ID_PROMETH HEURE_DEBU    COMMUNE_EC  DATE_ECLOS           LIEU_DIT  \\\n",
       "  0           0       None      TRIGANCE  2017-06-15  COLLINE D'ESTELLE   \n",
       "  27          0       None  COMPS/ARTUBY  2017-10-08        LA VERRERIE   \n",
       "  \n",
       "       SURFACE_SI  SURFACE_DE                QUALITE_DO  \\\n",
       "  0   1158500.000  115, 80 ha  IMAGE SATELLITE SENTINEL   \n",
       "  27      238.134   238,13 ha  IMAGE SATELLITE SENTINEL   \n",
       "  \n",
       "                   ENQUETE_FE                   OBSERVATIO  \\\n",
       "  0   CANJUERS TIRS MUNITIONS  TRAITEMENT IMAGE SENTINEL 2   \n",
       "  27  CANJUERS TIRS MUNITIONS  TRAITEMENT IMAGE SENTINEL 2   \n",
       "  \n",
       "                                               geometry  fid  \n",
       "  0   POLYGON ((0.000 65.716, 0.850 65.716, 0.850 62...    0  \n",
       "  27  POLYGON ((103.003 128.000, 103.003 127.010, 10...   27  ,\n",
       "  'chip_window': Window(col_off=3840, row_off=2688, width=128, height=128),\n",
       "  'chip_transform': Affine(20.0, 0.0, 776760.0,\n",
       "         0.0, -20.0, 4846260.0),\n",
       "  'chip_poly': <shapely.geometry.polygon.Polygon at 0x7f9bb2666df0>},\n",
       " 'raster_patch101282_2017_06_19_31_T_GJ': {'chip_df':    ID_PROMETH HEURE_DEBU    COMMUNE_EC  DATE_ECLOS     LIEU_DIT  SURFACE_SI  \\\n",
       "  27          0       None  COMPS/ARTUBY  2017-10-08  LA VERRERIE     238.134   \n",
       "  29          0       None  COMPS/ARTUBY  2017-10-08  LA VERRERIE     238.134   \n",
       "  32          0       None  COMPS/ARTUBY  2017-10-08  LA VERRERIE     238.134   \n",
       "  33          0       None  COMPS/ARTUBY  2017-10-08  LA VERRERIE     238.134   \n",
       "  \n",
       "     SURFACE_DE                QUALITE_DO               ENQUETE_FE  \\\n",
       "  27  238,13 ha  IMAGE SATELLITE SENTINEL  CANJUERS TIRS MUNITIONS   \n",
       "  29  238,13 ha  IMAGE SATELLITE SENTINEL  CANJUERS TIRS MUNITIONS   \n",
       "  32  238,13 ha  IMAGE SATELLITE SENTINEL  CANJUERS TIRS MUNITIONS   \n",
       "  33  238,13 ha  IMAGE SATELLITE SENTINEL  CANJUERS TIRS MUNITIONS   \n",
       "  \n",
       "                       OBSERVATIO  \\\n",
       "  27  TRAITEMENT IMAGE SENTINEL 2   \n",
       "  29  TRAITEMENT IMAGE SENTINEL 2   \n",
       "  32  TRAITEMENT IMAGE SENTINEL 2   \n",
       "  33  TRAITEMENT IMAGE SENTINEL 2   \n",
       "  \n",
       "                                               geometry  fid  \n",
       "  27  POLYGON ((56.00256 32.01028, 57.00254 32.01030...   27  \n",
       "  29  POLYGON ((58.00241 59.01047, 58.00238 60.01044...   29  \n",
       "  32  POLYGON ((74.00247 64.01048, 73.00245 64.01051...   32  \n",
       "  33  POLYGON ((61.00237 62.01050, 61.00234 66.01050...   33  ,\n",
       "  'chip_window': Window(col_off=3840, row_off=2816, width=128, height=128),\n",
       "  'chip_transform': Affine(20.0, 0.0, 776760.0,\n",
       "         0.0, -20.0, 4843700.0),\n",
       "  'chip_poly': <shapely.geometry.polygon.Polygon at 0x7f9bb2666c40>},\n",
       " 'raster_patch101324_2017_06_19_31_T_GJ': {'chip_df':    ID_PROMETH HEURE_DEBU    COMMUNE_EC  DATE_ECLOS     LIEU_DIT  SURFACE_SI  \\\n",
       "  23          0       None  COMPS/ARTUBY  2017-10-08  LA VERRERIE     238.134   \n",
       "  24          0       None  COMPS/ARTUBY  2017-10-08  LA VERRERIE     238.134   \n",
       "  25          0       None  COMPS/ARTUBY  2017-10-08  LA VERRERIE     238.134   \n",
       "  26          0       None  COMPS/ARTUBY  2017-10-08  LA VERRERIE     238.134   \n",
       "  27          0       None  COMPS/ARTUBY  2017-10-08  LA VERRERIE     238.134   \n",
       "  28          0       None  COMPS/ARTUBY  2017-10-08  LA VERRERIE     238.134   \n",
       "  30          0       None  COMPS/ARTUBY  2017-10-08  LA VERRERIE     238.134   \n",
       "  31          0       None  COMPS/ARTUBY  2017-10-08  LA VERRERIE     238.134   \n",
       "  \n",
       "     SURFACE_DE                QUALITE_DO               ENQUETE_FE  \\\n",
       "  23  238,13 ha  IMAGE SATELLITE SENTINEL  CANJUERS TIRS MUNITIONS   \n",
       "  24  238,13 ha  IMAGE SATELLITE SENTINEL  CANJUERS TIRS MUNITIONS   \n",
       "  25  238,13 ha  IMAGE SATELLITE SENTINEL  CANJUERS TIRS MUNITIONS   \n",
       "  26  238,13 ha  IMAGE SATELLITE SENTINEL  CANJUERS TIRS MUNITIONS   \n",
       "  27  238,13 ha  IMAGE SATELLITE SENTINEL  CANJUERS TIRS MUNITIONS   \n",
       "  28  238,13 ha  IMAGE SATELLITE SENTINEL  CANJUERS TIRS MUNITIONS   \n",
       "  30  238,13 ha  IMAGE SATELLITE SENTINEL  CANJUERS TIRS MUNITIONS   \n",
       "  31  238,13 ha  IMAGE SATELLITE SENTINEL  CANJUERS TIRS MUNITIONS   \n",
       "  \n",
       "                       OBSERVATIO  \\\n",
       "  23  TRAITEMENT IMAGE SENTINEL 2   \n",
       "  24  TRAITEMENT IMAGE SENTINEL 2   \n",
       "  25  TRAITEMENT IMAGE SENTINEL 2   \n",
       "  26  TRAITEMENT IMAGE SENTINEL 2   \n",
       "  27  TRAITEMENT IMAGE SENTINEL 2   \n",
       "  28  TRAITEMENT IMAGE SENTINEL 2   \n",
       "  30  TRAITEMENT IMAGE SENTINEL 2   \n",
       "  31  TRAITEMENT IMAGE SENTINEL 2   \n",
       "  \n",
       "                                               geometry  fid  \n",
       "  23  POLYGON ((64.003 75.011, 64.003 76.011, 65.003...   23  \n",
       "  24  POLYGON ((56.003 75.011, 55.003 75.011, 55.003...   24  \n",
       "  25  POLYGON ((55.003 81.011, 54.003 81.011, 54.003...   25  \n",
       "  26  POLYGON ((55.003 77.011, 54.003 77.011, 54.003...   26  \n",
       "  27  POLYGON ((0.000 53.011, 0.003 52.011, 1.003 52...   27  \n",
       "  28  POLYGON ((19.003 42.011, 19.003 39.011, 18.003...   28  \n",
       "  30  POLYGON ((33.003 37.011, 33.003 34.011, 34.003...   30  \n",
       "  31  POLYGON ((25.003 48.011, 25.003 54.011, 24.003...   31  ,\n",
       "  'chip_window': Window(col_off=3968, row_off=2816, width=128, height=128),\n",
       "  'chip_transform': Affine(20.0, 0.0, 779320.0,\n",
       "         0.0, -20.0, 4843700.0),\n",
       "  'chip_poly': <shapely.geometry.polygon.Polygon at 0x7f9bb2666ee0>},\n",
       " 'raster_patch101710_2017_06_19_31_T_GJ': {'chip_df':    ID_PROMETH HEURE_DEBU COMMUNE_EC  DATE_ECLOS    LIEU_DIT  SURFACE_SI  \\\n",
       "  21       6496      16h28     FREJUS  2017-09-01  A8 CAPITOU    347000.0   \n",
       "  22       6496      16h28     FREJUS  2017-09-01  A8 CAPITOU    347000.0   \n",
       "  \n",
       "     SURFACE_DE QUALITE_DO                      ENQUETE_FE OBSERVATIO  \\\n",
       "  21    34,7 ha        GPS  RCCI_JETS OBJETS INCANDESCENTS       None   \n",
       "  22    34,7 ha        GPS  RCCI_JETS OBJETS INCANDESCENTS       None   \n",
       "  \n",
       "                                               geometry  fid  \n",
       "  21  POLYGON ((91.881 73.428, 90.042 75.692, 88.057...   21  \n",
       "  22  POLYGON ((20.909 92.573, 20.861 93.117, 19.922...   22  ,\n",
       "  'chip_window': Window(col_off=5120, row_off=3840, width=128, height=128),\n",
       "  'chip_transform': Affine(20.0, 0.0, 802360.0,\n",
       "         0.0, -20.0, 4823220.0),\n",
       "  'chip_poly': <shapely.geometry.polygon.Polygon at 0x7f9bb2672430>}}"
      ]
     },
     "execution_count": 32,
     "metadata": {},
     "output_type": "execute_result"
    }
   ],
   "source": [
    "patch_dfs"
   ]
  },
  {
   "cell_type": "code",
   "execution_count": 13,
   "metadata": {},
   "outputs": [
    {
     "data": {
      "text/plain": [
       "{'raster_patch100406_2017_06_19_31_T_GJ': Window(col_off=1152, row_off=3584, width=128, height=128),\n",
       " 'raster_patch100448_2017_06_19_31_T_GJ': Window(col_off=1280, row_off=3584, width=128, height=128),\n",
       " 'raster_patch100449_2017_06_19_31_T_GJ': Window(col_off=1280, row_off=3712, width=128, height=128),\n",
       " 'raster_patch100490_2017_06_19_31_T_GJ': Window(col_off=1408, row_off=3584, width=128, height=128),\n",
       " 'raster_patch100491_2017_06_19_31_T_GJ': Window(col_off=1408, row_off=3712, width=128, height=128),\n",
       " 'raster_patch100492_2017_06_19_31_T_GJ': Window(col_off=1408, row_off=3840, width=128, height=128),\n",
       " 'raster_patch100532_2017_06_19_31_T_GJ': Window(col_off=1536, row_off=3584, width=128, height=128),\n",
       " 'raster_patch100533_2017_06_19_31_T_GJ': Window(col_off=1536, row_off=3712, width=128, height=128),\n",
       " 'raster_patch100534_2017_06_19_31_T_GJ': Window(col_off=1536, row_off=3840, width=128, height=128),\n",
       " 'raster_patch100575_2017_06_19_31_T_GJ': Window(col_off=1664, row_off=3712, width=128, height=128),\n",
       " 'raster_patch101239_2017_06_19_31_T_GJ': Window(col_off=3712, row_off=2688, width=128, height=128),\n",
       " 'raster_patch101281_2017_06_19_31_T_GJ': Window(col_off=3840, row_off=2688, width=128, height=128),\n",
       " 'raster_patch101282_2017_06_19_31_T_GJ': Window(col_off=3840, row_off=2816, width=128, height=128),\n",
       " 'raster_patch101324_2017_06_19_31_T_GJ': Window(col_off=3968, row_off=2816, width=128, height=128),\n",
       " 'raster_patch101710_2017_06_19_31_T_GJ': Window(col_off=5120, row_off=3840, width=128, height=128)}"
      ]
     },
     "execution_count": 13,
     "metadata": {},
     "output_type": "execute_result"
    }
   ],
   "source": [
    "patch_windows"
   ]
  },
  {
   "cell_type": "code",
   "execution_count": 14,
   "metadata": {},
   "outputs": [
    {
     "data": {
      "text/plain": [
       "dict_keys(['raster_patch100406_2017_06_19_31_T_GJ', 'raster_patch100448_2017_06_19_31_T_GJ', 'raster_patch100449_2017_06_19_31_T_GJ', 'raster_patch100490_2017_06_19_31_T_GJ', 'raster_patch100491_2017_06_19_31_T_GJ', 'raster_patch100492_2017_06_19_31_T_GJ', 'raster_patch100532_2017_06_19_31_T_GJ', 'raster_patch100533_2017_06_19_31_T_GJ', 'raster_patch100534_2017_06_19_31_T_GJ', 'raster_patch100575_2017_06_19_31_T_GJ', 'raster_patch101239_2017_06_19_31_T_GJ', 'raster_patch101281_2017_06_19_31_T_GJ', 'raster_patch101282_2017_06_19_31_T_GJ', 'raster_patch101324_2017_06_19_31_T_GJ', 'raster_patch101710_2017_06_19_31_T_GJ'])"
      ]
     },
     "execution_count": 14,
     "metadata": {},
     "output_type": "execute_result"
    }
   ],
   "source": [
    "patch_windows.keys()"
   ]
  },
  {
   "cell_type": "code",
   "execution_count": 15,
   "metadata": {},
   "outputs": [
    {
     "data": {
      "text/plain": [
       "dict_values([Window(col_off=1152, row_off=3584, width=128, height=128), Window(col_off=1280, row_off=3584, width=128, height=128), Window(col_off=1280, row_off=3712, width=128, height=128), Window(col_off=1408, row_off=3584, width=128, height=128), Window(col_off=1408, row_off=3712, width=128, height=128), Window(col_off=1408, row_off=3840, width=128, height=128), Window(col_off=1536, row_off=3584, width=128, height=128), Window(col_off=1536, row_off=3712, width=128, height=128), Window(col_off=1536, row_off=3840, width=128, height=128), Window(col_off=1664, row_off=3712, width=128, height=128), Window(col_off=3712, row_off=2688, width=128, height=128), Window(col_off=3840, row_off=2688, width=128, height=128), Window(col_off=3840, row_off=2816, width=128, height=128), Window(col_off=3968, row_off=2816, width=128, height=128), Window(col_off=5120, row_off=3840, width=128, height=128)])"
      ]
     },
     "execution_count": 15,
     "metadata": {},
     "output_type": "execute_result"
    }
   ],
   "source": [
    "patch_windows.values()"
   ]
  },
  {
   "cell_type": "code",
   "execution_count": 16,
   "metadata": {},
   "outputs": [
    {
     "name": "stderr",
     "output_type": "stream",
     "text": [
      "15it [00:00, 185.53it/s]\n"
     ]
    }
   ],
   "source": [
    "do_the_patching(\n",
    "                raster,\n",
    "                path_to_store_date,\n",
    "                patch_windows.keys(),\n",
    "                patch_windows.values(),\n",
    "                bands=[3,2,1],\n",
    "            )"
   ]
  },
  {
   "cell_type": "code",
   "execution_count": 17,
   "metadata": {},
   "outputs": [
    {
     "data": {
      "text/plain": [
       "<matplotlib.image.AxesImage at 0x7f9bb25bc5b0>"
      ]
     },
     "execution_count": 17,
     "metadata": {},
     "output_type": "execute_result"
    },
    {
     "data": {
      "image/png": "[encoded data removed]",
      "text/plain": [
       "<Figure size 432x288 with 1 Axes>"
      ]
     },
     "metadata": {
      "needs_background": "light"
     },
     "output_type": "display_data"
    }
   ],
   "source": [
    "open_jp2=rasterio.open(\"/home/robert/ds-wildfire/data/scenes/31/T/GJ/2017/6/19/B8AB11B12.jp2\")\n",
    "var2=open_jp2.read((1,2,3)).transpose(1,2,0)\n",
    "var2=(var2-var2.min())/(var2.max()-var2.min())\n",
    "var2.shape\n",
    "pyplot.imshow(var2, cmap='pink')"
   ]
  },
  {
   "cell_type": "code",
   "execution_count": 21,
   "metadata": {},
   "outputs": [],
   "source": [
    "patch= rasterio.open(\"/home/robert/ds-wildfire/data/patches/2017/6/19/raster_patch100491_2017_06_19_31_T_GJ.jpg\")\n"
   ]
  },
  {
   "cell_type": "code",
   "execution_count": 22,
   "metadata": {},
   "outputs": [
    {
     "data": {
      "text/plain": [
       "{'driver': 'JPEG',\n",
       " 'dtype': 'uint8',\n",
       " 'nodata': None,\n",
       " 'width': 128,\n",
       " 'height': 128,\n",
       " 'count': 3,\n",
       " 'crs': None,\n",
       " 'transform': Affine(1.0, 0.0, 0.0,\n",
       "        0.0, 1.0, 0.0)}"
      ]
     },
     "execution_count": 22,
     "metadata": {},
     "output_type": "execute_result"
    }
   ],
   "source": [
    "patch.meta"
   ]
  },
  {
   "cell_type": "code",
   "execution_count": 30,
   "metadata": {},
   "outputs": [
    {
     "ename": "TypeError",
     "evalue": "Object of type Polygon is not JSON serializable",
     "output_type": "error",
     "traceback": [
      "\u001b[0;31m---------------------------------------------------------------------------\u001b[0m",
      "\u001b[0;31mTypeError\u001b[0m                                 Traceback (most recent call last)",
      "\u001b[0;32m<ipython-input-30-bfc2c35e7b5b>\u001b[0m in \u001b[0;36m<module>\u001b[0;34m\u001b[0m\n\u001b[0;32m----> 1\u001b[0;31m store_coco_ground_truth(\n\u001b[0m\u001b[1;32m      2\u001b[0m                 \u001b[0mpath_to_store_date2\u001b[0m\u001b[0;34m,\u001b[0m \u001b[0mpatch_dfs\u001b[0m\u001b[0;34m,\u001b[0m \u001b[0mpatch_size\u001b[0m\u001b[0;34m,\u001b[0m \u001b[0;34m\"geometry\"\u001b[0m\u001b[0;34m,\u001b[0m \u001b[0;34m\"31_T_GJ\"\u001b[0m\u001b[0;34m\u001b[0m\u001b[0;34m\u001b[0m\u001b[0m\n\u001b[1;32m      3\u001b[0m             )\n",
      "\u001b[0;32m~/ds-wildfire/preparedata/patching.py\u001b[0m in \u001b[0;36mstore_coco_ground_truth\u001b[0;34m(output_path, patch_dfs, patch_size, row_name, mgrs_tile)\u001b[0m\n\u001b[1;32m     79\u001b[0m     \"\"\"\n\u001b[1;32m     80\u001b[0m     \u001b[0mcoco_dst\u001b[0m \u001b[0;34m=\u001b[0m \u001b[0mcoco\u001b[0m\u001b[0;34m.\u001b[0m\u001b[0mformat_coco\u001b[0m\u001b[0;34m(\u001b[0m\u001b[0mpatch_dfs\u001b[0m\u001b[0;34m,\u001b[0m \u001b[0mpatch_size\u001b[0m\u001b[0;34m,\u001b[0m \u001b[0mrow_name\u001b[0m\u001b[0;34m)\u001b[0m\u001b[0;34m\u001b[0m\u001b[0;34m\u001b[0m\u001b[0m\n\u001b[0;32m---> 81\u001b[0;31m     \u001b[0mother\u001b[0m\u001b[0;34m.\u001b[0m\u001b[0mnew_json\u001b[0m\u001b[0;34m(\u001b[0m\u001b[0moutput_path\u001b[0m \u001b[0;34m+\u001b[0m \u001b[0;34m\"/anno{}.json\"\u001b[0m\u001b[0;34m.\u001b[0m\u001b[0mformat\u001b[0m\u001b[0;34m(\u001b[0m\u001b[0mmgrs_tile\u001b[0m\u001b[0;34m)\u001b[0m\u001b[0;34m,\u001b[0m \u001b[0mcoco_dst\u001b[0m\u001b[0;34m)\u001b[0m\u001b[0;34m\u001b[0m\u001b[0;34m\u001b[0m\u001b[0m\n\u001b[0m\u001b[1;32m     82\u001b[0m \u001b[0;34m\u001b[0m\u001b[0m\n\u001b[1;32m     83\u001b[0m \u001b[0;34m\u001b[0m\u001b[0m\n",
      "\u001b[0;32m~/ds-wildfire/preparedata/patchutils/other.py\u001b[0m in \u001b[0;36mnew_json\u001b[0;34m(outpath, data)\u001b[0m\n\u001b[1;32m     27\u001b[0m     \u001b[0;31m# outpath.parent.mkdir(parents=True, exist_ok=True)\u001b[0m\u001b[0;34m\u001b[0m\u001b[0;34m\u001b[0m\u001b[0;34m\u001b[0m\u001b[0m\n\u001b[1;32m     28\u001b[0m     \u001b[0;32mwith\u001b[0m \u001b[0mopen\u001b[0m\u001b[0;34m(\u001b[0m\u001b[0moutpath\u001b[0m\u001b[0;34m,\u001b[0m \u001b[0;34m\"w\"\u001b[0m\u001b[0;34m)\u001b[0m \u001b[0;32mas\u001b[0m \u001b[0mf\u001b[0m\u001b[0;34m:\u001b[0m\u001b[0;34m\u001b[0m\u001b[0;34m\u001b[0m\u001b[0m\n\u001b[0;32m---> 29\u001b[0;31m         \u001b[0mjson\u001b[0m\u001b[0;34m.\u001b[0m\u001b[0mdump\u001b[0m\u001b[0;34m(\u001b[0m\u001b[0mdata\u001b[0m\u001b[0;34m,\u001b[0m \u001b[0mf\u001b[0m\u001b[0;34m,\u001b[0m \u001b[0mindent\u001b[0m\u001b[0;34m=\u001b[0m\u001b[0;36m4\u001b[0m\u001b[0;34m)\u001b[0m\u001b[0;34m\u001b[0m\u001b[0;34m\u001b[0m\u001b[0m\n\u001b[0m\u001b[1;32m     30\u001b[0m     \u001b[0mprint\u001b[0m\u001b[0;34m(\u001b[0m\u001b[0;34mf\"Writing new json file... {outpath}\"\u001b[0m\u001b[0;34m)\u001b[0m\u001b[0;34m\u001b[0m\u001b[0;34m\u001b[0m\u001b[0m\n\u001b[1;32m     31\u001b[0m \u001b[0;34m\u001b[0m\u001b[0m\n",
      "\u001b[0;32m~/.pyenv/versions/3.8.2/lib/python3.8/json/__init__.py\u001b[0m in \u001b[0;36mdump\u001b[0;34m(obj, fp, skipkeys, ensure_ascii, check_circular, allow_nan, cls, indent, separators, default, sort_keys, **kw)\u001b[0m\n\u001b[1;32m    177\u001b[0m     \u001b[0;31m# could accelerate with writelines in some versions of Python, at\u001b[0m\u001b[0;34m\u001b[0m\u001b[0;34m\u001b[0m\u001b[0;34m\u001b[0m\u001b[0m\n\u001b[1;32m    178\u001b[0m     \u001b[0;31m# a debuggability cost\u001b[0m\u001b[0;34m\u001b[0m\u001b[0;34m\u001b[0m\u001b[0;34m\u001b[0m\u001b[0m\n\u001b[0;32m--> 179\u001b[0;31m     \u001b[0;32mfor\u001b[0m \u001b[0mchunk\u001b[0m \u001b[0;32min\u001b[0m \u001b[0miterable\u001b[0m\u001b[0;34m:\u001b[0m\u001b[0;34m\u001b[0m\u001b[0;34m\u001b[0m\u001b[0m\n\u001b[0m\u001b[1;32m    180\u001b[0m         \u001b[0mfp\u001b[0m\u001b[0;34m.\u001b[0m\u001b[0mwrite\u001b[0m\u001b[0;34m(\u001b[0m\u001b[0mchunk\u001b[0m\u001b[0;34m)\u001b[0m\u001b[0;34m\u001b[0m\u001b[0;34m\u001b[0m\u001b[0m\n\u001b[1;32m    181\u001b[0m \u001b[0;34m\u001b[0m\u001b[0m\n",
      "\u001b[0;32m~/.pyenv/versions/3.8.2/lib/python3.8/json/encoder.py\u001b[0m in \u001b[0;36m_iterencode\u001b[0;34m(o, _current_indent_level)\u001b[0m\n\u001b[1;32m    429\u001b[0m             \u001b[0;32myield\u001b[0m \u001b[0;32mfrom\u001b[0m \u001b[0m_iterencode_list\u001b[0m\u001b[0;34m(\u001b[0m\u001b[0mo\u001b[0m\u001b[0;34m,\u001b[0m \u001b[0m_current_indent_level\u001b[0m\u001b[0;34m)\u001b[0m\u001b[0;34m\u001b[0m\u001b[0;34m\u001b[0m\u001b[0m\n\u001b[1;32m    430\u001b[0m         \u001b[0;32melif\u001b[0m \u001b[0misinstance\u001b[0m\u001b[0;34m(\u001b[0m\u001b[0mo\u001b[0m\u001b[0;34m,\u001b[0m \u001b[0mdict\u001b[0m\u001b[0;34m)\u001b[0m\u001b[0;34m:\u001b[0m\u001b[0;34m\u001b[0m\u001b[0;34m\u001b[0m\u001b[0m\n\u001b[0;32m--> 431\u001b[0;31m             \u001b[0;32myield\u001b[0m \u001b[0;32mfrom\u001b[0m \u001b[0m_iterencode_dict\u001b[0m\u001b[0;34m(\u001b[0m\u001b[0mo\u001b[0m\u001b[0;34m,\u001b[0m \u001b[0m_current_indent_level\u001b[0m\u001b[0;34m)\u001b[0m\u001b[0;34m\u001b[0m\u001b[0;34m\u001b[0m\u001b[0m\n\u001b[0m\u001b[1;32m    432\u001b[0m         \u001b[0;32melse\u001b[0m\u001b[0;34m:\u001b[0m\u001b[0;34m\u001b[0m\u001b[0;34m\u001b[0m\u001b[0m\n\u001b[1;32m    433\u001b[0m             \u001b[0;32mif\u001b[0m \u001b[0mmarkers\u001b[0m \u001b[0;32mis\u001b[0m \u001b[0;32mnot\u001b[0m \u001b[0;32mNone\u001b[0m\u001b[0;34m:\u001b[0m\u001b[0;34m\u001b[0m\u001b[0;34m\u001b[0m\u001b[0m\n",
      "\u001b[0;32m~/.pyenv/versions/3.8.2/lib/python3.8/json/encoder.py\u001b[0m in \u001b[0;36m_iterencode_dict\u001b[0;34m(dct, _current_indent_level)\u001b[0m\n\u001b[1;32m    403\u001b[0m                 \u001b[0;32melse\u001b[0m\u001b[0;34m:\u001b[0m\u001b[0;34m\u001b[0m\u001b[0;34m\u001b[0m\u001b[0m\n\u001b[1;32m    404\u001b[0m                     \u001b[0mchunks\u001b[0m \u001b[0;34m=\u001b[0m \u001b[0m_iterencode\u001b[0m\u001b[0;34m(\u001b[0m\u001b[0mvalue\u001b[0m\u001b[0;34m,\u001b[0m \u001b[0m_current_indent_level\u001b[0m\u001b[0;34m)\u001b[0m\u001b[0;34m\u001b[0m\u001b[0;34m\u001b[0m\u001b[0m\n\u001b[0;32m--> 405\u001b[0;31m                 \u001b[0;32myield\u001b[0m \u001b[0;32mfrom\u001b[0m \u001b[0mchunks\u001b[0m\u001b[0;34m\u001b[0m\u001b[0;34m\u001b[0m\u001b[0m\n\u001b[0m\u001b[1;32m    406\u001b[0m         \u001b[0;32mif\u001b[0m \u001b[0mnewline_indent\u001b[0m \u001b[0;32mis\u001b[0m \u001b[0;32mnot\u001b[0m \u001b[0;32mNone\u001b[0m\u001b[0;34m:\u001b[0m\u001b[0;34m\u001b[0m\u001b[0;34m\u001b[0m\u001b[0m\n\u001b[1;32m    407\u001b[0m             \u001b[0m_current_indent_level\u001b[0m \u001b[0;34m-=\u001b[0m \u001b[0;36m1\u001b[0m\u001b[0;34m\u001b[0m\u001b[0;34m\u001b[0m\u001b[0m\n",
      "\u001b[0;32m~/.pyenv/versions/3.8.2/lib/python3.8/json/encoder.py\u001b[0m in \u001b[0;36m_iterencode_list\u001b[0;34m(lst, _current_indent_level)\u001b[0m\n\u001b[1;32m    323\u001b[0m                 \u001b[0;32melse\u001b[0m\u001b[0;34m:\u001b[0m\u001b[0;34m\u001b[0m\u001b[0;34m\u001b[0m\u001b[0m\n\u001b[1;32m    324\u001b[0m                     \u001b[0mchunks\u001b[0m \u001b[0;34m=\u001b[0m \u001b[0m_iterencode\u001b[0m\u001b[0;34m(\u001b[0m\u001b[0mvalue\u001b[0m\u001b[0;34m,\u001b[0m \u001b[0m_current_indent_level\u001b[0m\u001b[0;34m)\u001b[0m\u001b[0;34m\u001b[0m\u001b[0;34m\u001b[0m\u001b[0m\n\u001b[0;32m--> 325\u001b[0;31m                 \u001b[0;32myield\u001b[0m \u001b[0;32mfrom\u001b[0m \u001b[0mchunks\u001b[0m\u001b[0;34m\u001b[0m\u001b[0;34m\u001b[0m\u001b[0m\n\u001b[0m\u001b[1;32m    326\u001b[0m         \u001b[0;32mif\u001b[0m \u001b[0mnewline_indent\u001b[0m \u001b[0;32mis\u001b[0m \u001b[0;32mnot\u001b[0m \u001b[0;32mNone\u001b[0m\u001b[0;34m:\u001b[0m\u001b[0;34m\u001b[0m\u001b[0;34m\u001b[0m\u001b[0m\n\u001b[1;32m    327\u001b[0m             \u001b[0m_current_indent_level\u001b[0m \u001b[0;34m-=\u001b[0m \u001b[0;36m1\u001b[0m\u001b[0;34m\u001b[0m\u001b[0;34m\u001b[0m\u001b[0m\n",
      "\u001b[0;32m~/.pyenv/versions/3.8.2/lib/python3.8/json/encoder.py\u001b[0m in \u001b[0;36m_iterencode_dict\u001b[0;34m(dct, _current_indent_level)\u001b[0m\n\u001b[1;32m    403\u001b[0m                 \u001b[0;32melse\u001b[0m\u001b[0;34m:\u001b[0m\u001b[0;34m\u001b[0m\u001b[0;34m\u001b[0m\u001b[0m\n\u001b[1;32m    404\u001b[0m                     \u001b[0mchunks\u001b[0m \u001b[0;34m=\u001b[0m \u001b[0m_iterencode\u001b[0m\u001b[0;34m(\u001b[0m\u001b[0mvalue\u001b[0m\u001b[0;34m,\u001b[0m \u001b[0m_current_indent_level\u001b[0m\u001b[0;34m)\u001b[0m\u001b[0;34m\u001b[0m\u001b[0;34m\u001b[0m\u001b[0m\n\u001b[0;32m--> 405\u001b[0;31m                 \u001b[0;32myield\u001b[0m \u001b[0;32mfrom\u001b[0m \u001b[0mchunks\u001b[0m\u001b[0;34m\u001b[0m\u001b[0;34m\u001b[0m\u001b[0m\n\u001b[0m\u001b[1;32m    406\u001b[0m         \u001b[0;32mif\u001b[0m \u001b[0mnewline_indent\u001b[0m \u001b[0;32mis\u001b[0m \u001b[0;32mnot\u001b[0m \u001b[0;32mNone\u001b[0m\u001b[0;34m:\u001b[0m\u001b[0;34m\u001b[0m\u001b[0;34m\u001b[0m\u001b[0m\n\u001b[1;32m    407\u001b[0m             \u001b[0m_current_indent_level\u001b[0m \u001b[0;34m-=\u001b[0m \u001b[0;36m1\u001b[0m\u001b[0;34m\u001b[0m\u001b[0;34m\u001b[0m\u001b[0m\n",
      "\u001b[0;32m~/.pyenv/versions/3.8.2/lib/python3.8/json/encoder.py\u001b[0m in \u001b[0;36m_iterencode\u001b[0;34m(o, _current_indent_level)\u001b[0m\n\u001b[1;32m    436\u001b[0m                     \u001b[0;32mraise\u001b[0m \u001b[0mValueError\u001b[0m\u001b[0;34m(\u001b[0m\u001b[0;34m\"Circular reference detected\"\u001b[0m\u001b[0;34m)\u001b[0m\u001b[0;34m\u001b[0m\u001b[0;34m\u001b[0m\u001b[0m\n\u001b[1;32m    437\u001b[0m                 \u001b[0mmarkers\u001b[0m\u001b[0;34m[\u001b[0m\u001b[0mmarkerid\u001b[0m\u001b[0;34m]\u001b[0m \u001b[0;34m=\u001b[0m \u001b[0mo\u001b[0m\u001b[0;34m\u001b[0m\u001b[0;34m\u001b[0m\u001b[0m\n\u001b[0;32m--> 438\u001b[0;31m             \u001b[0mo\u001b[0m \u001b[0;34m=\u001b[0m \u001b[0m_default\u001b[0m\u001b[0;34m(\u001b[0m\u001b[0mo\u001b[0m\u001b[0;34m)\u001b[0m\u001b[0;34m\u001b[0m\u001b[0;34m\u001b[0m\u001b[0m\n\u001b[0m\u001b[1;32m    439\u001b[0m             \u001b[0;32myield\u001b[0m \u001b[0;32mfrom\u001b[0m \u001b[0m_iterencode\u001b[0m\u001b[0;34m(\u001b[0m\u001b[0mo\u001b[0m\u001b[0;34m,\u001b[0m \u001b[0m_current_indent_level\u001b[0m\u001b[0;34m)\u001b[0m\u001b[0;34m\u001b[0m\u001b[0;34m\u001b[0m\u001b[0m\n\u001b[1;32m    440\u001b[0m             \u001b[0;32mif\u001b[0m \u001b[0mmarkers\u001b[0m \u001b[0;32mis\u001b[0m \u001b[0;32mnot\u001b[0m \u001b[0;32mNone\u001b[0m\u001b[0;34m:\u001b[0m\u001b[0;34m\u001b[0m\u001b[0;34m\u001b[0m\u001b[0m\n",
      "\u001b[0;32m~/.pyenv/versions/3.8.2/lib/python3.8/json/encoder.py\u001b[0m in \u001b[0;36mdefault\u001b[0;34m(self, o)\u001b[0m\n\u001b[1;32m    177\u001b[0m \u001b[0;34m\u001b[0m\u001b[0m\n\u001b[1;32m    178\u001b[0m         \"\"\"\n\u001b[0;32m--> 179\u001b[0;31m         raise TypeError(f'Object of type {o.__class__.__name__} '\n\u001b[0m\u001b[1;32m    180\u001b[0m                         f'is not JSON serializable')\n\u001b[1;32m    181\u001b[0m \u001b[0;34m\u001b[0m\u001b[0m\n",
      "\u001b[0;31mTypeError\u001b[0m: Object of type Polygon is not JSON serializable"
     ]
    }
   ],
   "source": [
    "store_coco_ground_truth(\n",
    "                path_to_store_date2, patch_dfs, patch_size, \"geometry\", \"31_T_GJ\"\n",
    "            )"
   ]
  },
  {
   "cell_type": "markdown",
   "metadata": {},
   "source": []
  },
  {
   "cell_type": "code",
   "execution_count": null,
   "metadata": {},
   "outputs": [],
   "source": []
  }
 ],
 "metadata": {
  "kernelspec": {
   "display_name": "ds-wildfire",
   "language": "python",
   "name": "ds-wildfire"
  },
  "language_info": {
   "codemirror_mode": {
    "name": "ipython",
    "version": 3
   },
   "file_extension": ".py",
   "mimetype": "text/x-python",
   "name": "python",
   "nbconvert_exporter": "python",
   "pygments_lexer": "ipython3",
   "version": "3.8.2"
  }
 },
 "nbformat": 4,
 "nbformat_minor": 2
}
