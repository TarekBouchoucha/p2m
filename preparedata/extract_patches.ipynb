{
 "cells": [
  {
   "cell_type": "code",
   "execution_count": 1,
   "metadata": {},
   "outputs": [
    {
     "name": "stderr",
     "output_type": "stream",
     "text": [
      "/home/robert/.pyenv/versions/ds-wildfire/lib/python3.8/site-packages/typeguard/__init__.py:834: UserWarning: no type annotations present -- not typechecking patching.import_shapefile_for_patches\n",
      "  warn('no type annotations present -- not typechecking {}'.format(function_name(func)))\n"
     ]
    }
   ],
   "source": [
    "from patching import (\n",
    "    import_shapefile_for_patches,\n",
    "    do_the_patching,\n",
    "    store_coco_ground_truth,\n",
    "    import_image,\n",
    ")"
   ]
  },
  {
   "cell_type": "code",
   "execution_count": 2,
   "metadata": {},
   "outputs": [],
   "source": [
    "from patchutils.coco import save_gt_overlaid\n",
    "from docopt import docopt\n",
    "import os\n",
    "import glob\n",
    "import rasterio\n",
    "import geopandas as gp\n",
    "from matplotlib import pyplot\n",
    "from datetime import datetime\n",
    "import geopandas as gpd\n",
    "\n",
    "num_patches=1000\n",
    "patch_size=128\n",
    "scenes_path=\"/home/robert/ds-wildfire/data/scenes\"\n",
    "scenes=\"31/T/GJ\"\n",
    "scenes_string=\"_31_T_GJ_\"\n",
    "shapefile=\"/data/raw_data/wildfires-ground-truth/france/vars/N_DFCI_CONTOUR_FEUX_2017_S_083.shp\"\n",
    "save_path=\"/home/robert/ds-wildfire/data\"\n",
    "class_name=\"DATE_ECLOS\""
   ]
  },
  {
   "cell_type": "code",
   "execution_count": 3,
   "metadata": {},
   "outputs": [],
   "source": [
    "date = {}\n",
    "date_datetime={}\n",
    "date_string={}"
   ]
  },
  {
   "cell_type": "code",
   "execution_count": 4,
   "metadata": {},
   "outputs": [],
   "source": [
    "    path_to_store_patches = os.path.join(save_path, \"patches\")\n",
    "    os.makedirs(path_to_store_patches, exist_ok=True)\n",
    "    path_to_store_anno = os.path.join(save_path, \"anno\")\n",
    "    os.makedirs(path_to_store_anno, exist_ok=True)\n",
    "    path_to_store_burn_vis = os.path.join(save_path, \"burn_vis\")\n",
    "    os.makedirs(path_to_store_burn_vis, exist_ok=True)"
   ]
  },
  {
   "cell_type": "code",
   "execution_count": 5,
   "metadata": {},
   "outputs": [],
   "source": [
    "path_to_scene = os.path.join(\n",
    "            scenes_path, scenes)\n",
    "        \n",
    "list_of_paths = glob.glob(\n",
    "            path_to_scene + \"/*/*/*/\" + \"*.jp2\".format(scenes)\n",
    "        )"
   ]
  },
  {
   "cell_type": "code",
   "execution_count": 6,
   "metadata": {},
   "outputs": [
    {
     "data": {
      "text/plain": [
       "'/home/robert/ds-wildfire/data/scenes/31/T/GJ'"
      ]
     },
     "execution_count": 6,
     "metadata": {},
     "output_type": "execute_result"
    }
   ],
   "source": [
    "path_to_scene"
   ]
  },
  {
   "cell_type": "code",
   "execution_count": 7,
   "metadata": {},
   "outputs": [
    {
     "data": {
      "text/plain": [
       "['/home/robert/ds-wildfire/data/scenes/31/T/GJ/2015/8/6/B8AB11B12.jp2',\n",
       " '/home/robert/ds-wildfire/data/scenes/31/T/GJ/2015/8/12/B8AB11B12.jp2',\n",
       " '/home/robert/ds-wildfire/data/scenes/31/T/GJ/2015/7/30/B8AB11B12.jp2',\n",
       " '/home/robert/ds-wildfire/data/scenes/31/T/GJ/2016/7/11/B8AB11B12.jp2',\n",
       " '/home/robert/ds-wildfire/data/scenes/31/T/GJ/2016/7/21/B8AB11B12.jp2',\n",
       " '/home/robert/ds-wildfire/data/scenes/31/T/GJ/2016/7/17/B8AB11B12.jp2',\n",
       " '/home/robert/ds-wildfire/data/scenes/31/T/GJ/2016/7/14/B8AB11B12.jp2',\n",
       " '/home/robert/ds-wildfire/data/scenes/31/T/GJ/2017/6/16/B8AB11B12.jp2',\n",
       " '/home/robert/ds-wildfire/data/scenes/31/T/GJ/2017/6/19/B8AB11B12.jp2',\n",
       " '/home/robert/ds-wildfire/data/scenes/31/T/GJ/2017/6/12/B8AB11B12.jp2',\n",
       " '/home/robert/ds-wildfire/data/scenes/31/T/GJ/2017/9/7/B8AB11B12.jp2',\n",
       " '/home/robert/ds-wildfire/data/scenes/31/T/GJ/2017/9/4/B8AB11B12.jp2',\n",
       " '/home/robert/ds-wildfire/data/scenes/31/T/GJ/2017/9/5/B8AB11B12.jp2',\n",
       " '/home/robert/ds-wildfire/data/scenes/31/T/GJ/2017/7/22/B8AB11B12.jp2',\n",
       " '/home/robert/ds-wildfire/data/scenes/31/T/GJ/2017/7/24/B8AB11B12.jp2',\n",
       " '/home/robert/ds-wildfire/data/scenes/31/T/GJ/2017/7/26/B8AB11B12.jp2',\n",
       " '/home/robert/ds-wildfire/data/scenes/31/T/GJ/2017/10/9/B8AB11B12.jp2',\n",
       " '/home/robert/ds-wildfire/data/scenes/31/T/GJ/2017/10/7/B8AB11B12.jp2',\n",
       " '/home/robert/ds-wildfire/data/scenes/31/T/GJ/2017/10/10/B8AB11B12.jp2']"
      ]
     },
     "execution_count": 7,
     "metadata": {},
     "output_type": "execute_result"
    }
   ],
   "source": [
    "list_of_paths"
   ]
  },
  {
   "cell_type": "code",
   "execution_count": 13,
   "metadata": {},
   "outputs": [
    {
     "name": "stderr",
     "output_type": "stream",
     "text": [
      "1764it [00:04, 424.66it/s]\n",
      "0it [00:00, ?it/s]\n",
      "0it [00:00, ?it/s]"
     ]
    },
    {
     "name": "stdout",
     "output_type": "stream",
     "text": [
      "Writing new json file... /home/robert/ds-wildfire/data/anno/anno_31_T_GJ_2015-08-06.json\n",
      "'annotations'\n",
      "MGRS tile without annotations: _31_T_GJ_2015-08-06\n"
     ]
    },
    {
     "name": "stderr",
     "output_type": "stream",
     "text": [
      "1764it [00:04, 424.21it/s]\n",
      "0it [00:00, ?it/s]\n",
      "0it [00:00, ?it/s]"
     ]
    },
    {
     "name": "stdout",
     "output_type": "stream",
     "text": [
      "Writing new json file... /home/robert/ds-wildfire/data/anno/anno_31_T_GJ_2015-08-12.json\n",
      "'annotations'\n",
      "MGRS tile without annotations: _31_T_GJ_2015-08-12\n"
     ]
    },
    {
     "name": "stderr",
     "output_type": "stream",
     "text": [
      "1764it [00:04, 425.90it/s]\n",
      "0it [00:00, ?it/s]\n",
      "0it [00:00, ?it/s]"
     ]
    },
    {
     "name": "stdout",
     "output_type": "stream",
     "text": [
      "Writing new json file... /home/robert/ds-wildfire/data/anno/anno_31_T_GJ_2015-07-30.json\n",
      "'annotations'\n",
      "MGRS tile without annotations: _31_T_GJ_2015-07-30\n"
     ]
    },
    {
     "name": "stderr",
     "output_type": "stream",
     "text": [
      "1764it [00:04, 425.30it/s]\n",
      "0it [00:00, ?it/s]\n",
      "0it [00:00, ?it/s]"
     ]
    },
    {
     "name": "stdout",
     "output_type": "stream",
     "text": [
      "Writing new json file... /home/robert/ds-wildfire/data/anno/anno_31_T_GJ_2016-07-11.json\n",
      "'annotations'\n",
      "MGRS tile without annotations: _31_T_GJ_2016-07-11\n"
     ]
    },
    {
     "name": "stderr",
     "output_type": "stream",
     "text": [
      "1764it [00:04, 425.60it/s]\n",
      "0it [00:00, ?it/s]\n",
      "0it [00:00, ?it/s]"
     ]
    },
    {
     "name": "stdout",
     "output_type": "stream",
     "text": [
      "Writing new json file... /home/robert/ds-wildfire/data/anno/anno_31_T_GJ_2016-07-21.json\n",
      "'annotations'\n",
      "MGRS tile without annotations: _31_T_GJ_2016-07-21\n"
     ]
    },
    {
     "name": "stderr",
     "output_type": "stream",
     "text": [
      "1764it [00:04, 424.63it/s]\n",
      "0it [00:00, ?it/s]\n",
      "0it [00:00, ?it/s]"
     ]
    },
    {
     "name": "stdout",
     "output_type": "stream",
     "text": [
      "Writing new json file... /home/robert/ds-wildfire/data/anno/anno_31_T_GJ_2016-07-17.json\n",
      "'annotations'\n",
      "MGRS tile without annotations: _31_T_GJ_2016-07-17\n"
     ]
    },
    {
     "name": "stderr",
     "output_type": "stream",
     "text": [
      "1764it [00:04, 425.34it/s]\n",
      "0it [00:00, ?it/s]\n",
      "/home/robert/ds-wildfire/preparedata/patchutils/geo.py:146: VisibleDeprecationWarning: Creating an ndarray from ragged nested sequences (which is a list-or-tuple of lists-or-tuples-or ndarrays with different lengths or shapes) is deprecated. If you meant to do this, you must specify 'dtype=object' when creating the ndarray\n",
      "  np.array(geojson[\"coordinates\"]), precision\n",
      "0it [00:00, ?it/s]"
     ]
    },
    {
     "name": "stdout",
     "output_type": "stream",
     "text": [
      "Writing new json file... /home/robert/ds-wildfire/data/anno/anno_31_T_GJ_2016-07-14.json\n",
      "'annotations'\n",
      "MGRS tile without annotations: _31_T_GJ_2016-07-14\n"
     ]
    },
    {
     "name": "stderr",
     "output_type": "stream",
     "text": [
      "1764it [00:04, 429.85it/s]\n",
      "2it [00:00, 245.21it/s]\n"
     ]
    },
    {
     "name": "stdout",
     "output_type": "stream",
     "text": [
      "Writing new json file... /home/robert/ds-wildfire/data/anno/anno_31_T_GJ_2017-06-16.json\n"
     ]
    },
    {
     "name": "stderr",
     "output_type": "stream",
     "text": [
      "/home/robert/ds-wildfire/preparedata/patchutils/geo.py:146: VisibleDeprecationWarning: Creating an ndarray from ragged nested sequences (which is a list-or-tuple of lists-or-tuples-or ndarrays with different lengths or shapes) is deprecated. If you meant to do this, you must specify 'dtype=object' when creating the ndarray\n",
      "  np.array(geojson[\"coordinates\"]), precision\n",
      "1764it [00:04, 430.34it/s]\n",
      "2it [00:00, 187.85it/s]\n"
     ]
    },
    {
     "name": "stdout",
     "output_type": "stream",
     "text": [
      "Writing new json file... /home/robert/ds-wildfire/data/anno/anno_31_T_GJ_2017-06-19.json\n"
     ]
    },
    {
     "name": "stderr",
     "output_type": "stream",
     "text": [
      "1764it [00:04, 438.00it/s]\n",
      "0it [00:00, ?it/s]\n"
     ]
    },
    {
     "name": "stdout",
     "output_type": "stream",
     "text": [
      "Writing new json file... /home/robert/ds-wildfire/data/anno/anno_31_T_GJ_2017-06-12.json\n",
      "'annotations'\n",
      "MGRS tile without annotations: _31_T_GJ_2017-06-12\n"
     ]
    },
    {
     "name": "stderr",
     "output_type": "stream",
     "text": [
      "/home/robert/ds-wildfire/preparedata/patchutils/geo.py:146: VisibleDeprecationWarning: Creating an ndarray from ragged nested sequences (which is a list-or-tuple of lists-or-tuples-or ndarrays with different lengths or shapes) is deprecated. If you meant to do this, you must specify 'dtype=object' when creating the ndarray\n",
      "  np.array(geojson[\"coordinates\"]), precision\n",
      "1764it [00:04, 405.12it/s]\n",
      "13it [00:00, 206.92it/s]\n"
     ]
    },
    {
     "name": "stdout",
     "output_type": "stream",
     "text": [
      "Writing new json file... /home/robert/ds-wildfire/data/anno/anno_31_T_GJ_2017-09-07.json\n"
     ]
    },
    {
     "name": "stderr",
     "output_type": "stream",
     "text": [
      "/home/robert/ds-wildfire/preparedata/patchutils/geo.py:146: VisibleDeprecationWarning: Creating an ndarray from ragged nested sequences (which is a list-or-tuple of lists-or-tuples-or ndarrays with different lengths or shapes) is deprecated. If you meant to do this, you must specify 'dtype=object' when creating the ndarray\n",
      "  np.array(geojson[\"coordinates\"]), precision\n",
      "1764it [00:04, 406.31it/s]\n",
      "13it [00:00, 274.79it/s]\n"
     ]
    },
    {
     "name": "stdout",
     "output_type": "stream",
     "text": [
      "Writing new json file... /home/robert/ds-wildfire/data/anno/anno_31_T_GJ_2017-09-04.json\n"
     ]
    },
    {
     "name": "stderr",
     "output_type": "stream",
     "text": [
      "/home/robert/ds-wildfire/preparedata/patchutils/geo.py:146: VisibleDeprecationWarning: Creating an ndarray from ragged nested sequences (which is a list-or-tuple of lists-or-tuples-or ndarrays with different lengths or shapes) is deprecated. If you meant to do this, you must specify 'dtype=object' when creating the ndarray\n",
      "  np.array(geojson[\"coordinates\"]), precision\n",
      "1764it [00:04, 405.55it/s]\n",
      "13it [00:00, 302.03it/s]\n"
     ]
    },
    {
     "name": "stdout",
     "output_type": "stream",
     "text": [
      "Writing new json file... /home/robert/ds-wildfire/data/anno/anno_31_T_GJ_2017-09-05.json\n"
     ]
    },
    {
     "name": "stderr",
     "output_type": "stream",
     "text": [
      "/home/robert/ds-wildfire/preparedata/patchutils/geo.py:146: VisibleDeprecationWarning: Creating an ndarray from ragged nested sequences (which is a list-or-tuple of lists-or-tuples-or ndarrays with different lengths or shapes) is deprecated. If you meant to do this, you must specify 'dtype=object' when creating the ndarray\n",
      "  np.array(geojson[\"coordinates\"]), precision\n",
      "1764it [00:04, 430.14it/s]\n",
      "2it [00:00, 258.13it/s]\n"
     ]
    },
    {
     "name": "stdout",
     "output_type": "stream",
     "text": [
      "Writing new json file... /home/robert/ds-wildfire/data/anno/anno_31_T_GJ_2017-07-22.json\n"
     ]
    },
    {
     "name": "stderr",
     "output_type": "stream",
     "text": [
      "/home/robert/ds-wildfire/preparedata/patchutils/geo.py:146: VisibleDeprecationWarning: Creating an ndarray from ragged nested sequences (which is a list-or-tuple of lists-or-tuples-or ndarrays with different lengths or shapes) is deprecated. If you meant to do this, you must specify 'dtype=object' when creating the ndarray\n",
      "  np.array(geojson[\"coordinates\"]), precision\n",
      "1764it [00:04, 432.20it/s]\n",
      "2it [00:00, 189.27it/s]\n"
     ]
    },
    {
     "name": "stdout",
     "output_type": "stream",
     "text": [
      "Writing new json file... /home/robert/ds-wildfire/data/anno/anno_31_T_GJ_2017-07-24.json\n"
     ]
    },
    {
     "name": "stderr",
     "output_type": "stream",
     "text": [
      "/home/robert/ds-wildfire/preparedata/patchutils/geo.py:146: VisibleDeprecationWarning: Creating an ndarray from ragged nested sequences (which is a list-or-tuple of lists-or-tuples-or ndarrays with different lengths or shapes) is deprecated. If you meant to do this, you must specify 'dtype=object' when creating the ndarray\n",
      "  np.array(geojson[\"coordinates\"]), precision\n",
      "1764it [00:04, 408.87it/s]\n",
      "12it [00:00, 277.66it/s]\n"
     ]
    },
    {
     "name": "stdout",
     "output_type": "stream",
     "text": [
      "Writing new json file... /home/robert/ds-wildfire/data/anno/anno_31_T_GJ_2017-07-26.json\n"
     ]
    },
    {
     "name": "stderr",
     "output_type": "stream",
     "text": [
      "/home/robert/ds-wildfire/preparedata/patchutils/geo.py:146: VisibleDeprecationWarning: Creating an ndarray from ragged nested sequences (which is a list-or-tuple of lists-or-tuples-or ndarrays with different lengths or shapes) is deprecated. If you meant to do this, you must specify 'dtype=object' when creating the ndarray\n",
      "  np.array(geojson[\"coordinates\"]), precision\n",
      "1764it [00:04, 397.42it/s]\n",
      "15it [00:00, 301.40it/s]\n"
     ]
    },
    {
     "name": "stdout",
     "output_type": "stream",
     "text": [
      "Writing new json file... /home/robert/ds-wildfire/data/anno/anno_31_T_GJ_2017-10-09.json\n"
     ]
    },
    {
     "name": "stderr",
     "output_type": "stream",
     "text": [
      "/home/robert/ds-wildfire/preparedata/patchutils/geo.py:146: VisibleDeprecationWarning: Creating an ndarray from ragged nested sequences (which is a list-or-tuple of lists-or-tuples-or ndarrays with different lengths or shapes) is deprecated. If you meant to do this, you must specify 'dtype=object' when creating the ndarray\n",
      "  np.array(geojson[\"coordinates\"]), precision\n",
      "1764it [00:04, 407.38it/s]\n",
      "13it [00:00, 220.27it/s]\n"
     ]
    },
    {
     "name": "stdout",
     "output_type": "stream",
     "text": [
      "Writing new json file... /home/robert/ds-wildfire/data/anno/anno_31_T_GJ_2017-10-07.json\n"
     ]
    },
    {
     "name": "stderr",
     "output_type": "stream",
     "text": [
      "/home/robert/ds-wildfire/preparedata/patchutils/geo.py:146: VisibleDeprecationWarning: Creating an ndarray from ragged nested sequences (which is a list-or-tuple of lists-or-tuples-or ndarrays with different lengths or shapes) is deprecated. If you meant to do this, you must specify 'dtype=object' when creating the ndarray\n",
      "  np.array(geojson[\"coordinates\"]), precision\n",
      "1764it [00:04, 397.20it/s]\n",
      "15it [00:00, 296.65it/s]\n"
     ]
    },
    {
     "name": "stdout",
     "output_type": "stream",
     "text": [
      "Writing new json file... /home/robert/ds-wildfire/data/anno/anno_31_T_GJ_2017-10-10.json\n"
     ]
    }
   ],
   "source": [
    "for date_var in range (0, len(list_of_paths)):\n",
    "    date_index = list_of_paths[date_var].index(\"201\")\n",
    "    date_end_index = list_of_paths[date_var].index(\"/B8A\")\n",
    "    date[date_var] = list_of_paths[date_var][date_index:date_end_index]\n",
    "    date_datetime[date_var] = datetime.strptime(date[date_var], '%Y/%m/%d')\n",
    "    date_string[date_var]=date_datetime[date_var].strftime('%Y-%m-%d')\n",
    "    raster = import_image(list_of_paths[date_var])\n",
    "    raster_meta = raster.meta\n",
    "    \n",
    "    gdf = gpd.read_file(shapefile)\n",
    "    shapefile_date=gdf.loc[(gdf['DATE_ECLOS']<date_string[date_var])]\n",
    "    \n",
    "    patch_dfs, patch_windows = import_shapefile_for_patches(\n",
    "        shapefile_date, raster, raster_meta, patch_size, num_patches, scenes_string + date_string[date_var]\n",
    "    )\n",
    "    \n",
    "    do_the_patching(\n",
    "                raster,\n",
    "                path_to_store_patches,\n",
    "                patch_windows.keys(),\n",
    "                patch_windows.values(),\n",
    "                bands=[3,2,1],\n",
    "    )\n",
    "    \n",
    "    store_coco_ground_truth(\n",
    "                path_to_store_anno, patch_dfs, patch_size, class_name, scenes_string + date_string[date_var]\n",
    "    )\n",
    "    try:\n",
    "        save_gt_overlaid(\n",
    "            os.path.join(path_to_store_anno, \"anno{}.json\".format(scenes_string + date_string[date_var])),\n",
    "            path_to_store_patches,\n",
    "            path_to_store_burn_vis,\n",
    "            )\n",
    "    except Exception as e:\n",
    "                print(e)\n",
    "                print(\"MGRS tile without annotations: {}\".format(scenes_string + date_string[date_var]))\n",
    "    raster.close()"
   ]
  },
  {
   "cell_type": "code",
   "execution_count": 14,
   "metadata": {},
   "outputs": [
    {
     "data": {
      "text/plain": [
       "'31/T/GJ'"
      ]
     },
     "execution_count": 14,
     "metadata": {},
     "output_type": "execute_result"
    }
   ],
   "source": [
    "scenes"
   ]
  },
  {
   "cell_type": "code",
   "execution_count": 35,
   "metadata": {},
   "outputs": [],
   "source": [
    "scene_list=list(scenes)\n",
    "scene_list[2]=\"_\"\n",
    "scene_list[4]=\"_\"\n",
    "scene_list.insert(0,\"_\")\n",
    "scene_list.insert(8, \"_\")\n",
    "scene_string=\"\"\n",
    "scene_string=scene_string.join(scene_list)"
   ]
  },
  {
   "cell_type": "code",
   "execution_count": 36,
   "metadata": {},
   "outputs": [
    {
     "data": {
      "text/plain": [
       "'_31_T_GJ_'"
      ]
     },
     "execution_count": 36,
     "metadata": {},
     "output_type": "execute_result"
    }
   ],
   "source": [
    "scene_string"
   ]
  },
  {
   "cell_type": "code",
   "execution_count": 24,
   "metadata": {},
   "outputs": [
    {
     "data": {
      "text/plain": [
       "'31_T_GJ'"
      ]
     },
     "execution_count": 24,
     "metadata": {},
     "output_type": "execute_result"
    }
   ],
   "source": [
    "\"\".join(scene_string)"
   ]
  },
  {
   "cell_type": "code",
   "execution_count": null,
   "metadata": {},
   "outputs": [],
   "source": []
  }
 ],
 "metadata": {
  "kernelspec": {
   "display_name": "ds-wildfire",
   "language": "python",
   "name": "ds-wildfire"
  },
  "language_info": {
   "codemirror_mode": {
    "name": "ipython",
    "version": 3
   },
   "file_extension": ".py",
   "mimetype": "text/x-python",
   "name": "python",
   "nbconvert_exporter": "python",
   "pygments_lexer": "ipython3",
   "version": "3.8.2"
  }
 },
 "nbformat": 4,
 "nbformat_minor": 2
}
